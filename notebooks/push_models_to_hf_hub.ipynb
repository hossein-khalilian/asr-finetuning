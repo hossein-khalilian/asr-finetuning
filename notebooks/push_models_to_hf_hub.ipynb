{
 "cells": [
  {
   "cell_type": "code",
   "execution_count": 3,
   "id": "53b3d8e6-6157-46b5-a87b-86e3cbe39d28",
   "metadata": {
    "execution": {
     "iopub.execute_input": "2025-07-22T05:06:58.124735Z",
     "iopub.status.busy": "2025-07-22T05:06:58.124155Z",
     "iopub.status.idle": "2025-07-22T05:06:58.128001Z",
     "shell.execute_reply": "2025-07-22T05:06:58.127540Z",
     "shell.execute_reply.started": "2025-07-22T05:06:58.124712Z"
    }
   },
   "outputs": [],
   "source": [
    "# !pip install -r ../requirements.txt"
   ]
  },
  {
   "cell_type": "code",
   "execution_count": 7,
   "id": "b7e0164c-30aa-4d4c-ace8-893eca0d43b7",
   "metadata": {
    "execution": {
     "iopub.execute_input": "2025-07-22T05:09:37.857843Z",
     "iopub.status.busy": "2025-07-22T05:09:37.857472Z",
     "iopub.status.idle": "2025-07-22T05:09:37.861179Z",
     "shell.execute_reply": "2025-07-22T05:09:37.860709Z",
     "shell.execute_reply.started": "2025-07-22T05:09:37.857824Z"
    }
   },
   "outputs": [],
   "source": [
    "# import logging\n",
    "# logger = logging.getLogger(__name__)\n",
    "# logging.getLogger(\"nemo_logger\").setLevel(logging.CRITICAL)"
   ]
  },
  {
   "cell_type": "code",
   "execution_count": 46,
   "id": "5ec04b86-3c39-48cf-bc0c-858126c9488b",
   "metadata": {
    "execution": {
     "iopub.execute_input": "2025-07-22T16:46:19.165729Z",
     "iopub.status.busy": "2025-07-22T16:46:19.165280Z",
     "iopub.status.idle": "2025-07-22T16:46:19.172355Z",
     "shell.execute_reply": "2025-07-22T16:46:19.171272Z",
     "shell.execute_reply.started": "2025-07-22T16:46:19.165696Z"
    }
   },
   "outputs": [],
   "source": [
    "from nemo.collections.asr.models import EncDecHybridRNNTCTCBPEModel"
   ]
  },
  {
   "cell_type": "code",
   "execution_count": 49,
   "id": "40e6d278-c61e-4ca9-9186-f75ad048f090",
   "metadata": {
    "execution": {
     "iopub.execute_input": "2025-07-22T16:48:11.226515Z",
     "iopub.status.busy": "2025-07-22T16:48:11.226118Z",
     "iopub.status.idle": "2025-07-22T16:48:15.929080Z",
     "shell.execute_reply": "2025-07-22T16:48:15.928283Z",
     "shell.execute_reply.started": "2025-07-22T16:48:11.226488Z"
    }
   },
   "outputs": [
    {
     "name": "stdout",
     "output_type": "stream",
     "text": [
      "[NeMo I 2025-07-22 16:48:12 nemo_logging:393] Tokenizer SentencePieceTokenizer initialized with 1024 tokens\n"
     ]
    },
    {
     "name": "stderr",
     "output_type": "stream",
     "text": [
      "[NeMo W 2025-07-22 16:48:14 nemo_logging:405] If you intend to do training or fine-tuning, please call the ModelPT.setup_training_data() method and provide a valid configuration file to setup the train data loader.\n",
      "    Train config : \n",
      "    manifest_filepath: /home/user/.cache/asr-finetuning/datasets/hsekhalilian___fleurs/manifests/train_manifest.json\n",
      "    sample_rate: 16000\n",
      "    batch_size: 16\n",
      "    shuffle: true\n",
      "    num_workers: 8\n",
      "    pin_memory: true\n",
      "    max_duration: 20\n",
      "    min_duration: 0.1\n",
      "    is_tarred: false\n",
      "    tarred_audio_filepaths: null\n",
      "    shuffle_n: 2048\n",
      "    bucketing_strategy: fully_randomized\n",
      "    bucketing_batch_size: null\n",
      "    \n",
      "[NeMo W 2025-07-22 16:48:14 nemo_logging:405] If you intend to do validation, please call the ModelPT.setup_validation_data() or ModelPT.setup_multiple_validation_data() method and provide a valid configuration file to setup the validation data loader(s). \n",
      "    Validation config : \n",
      "    manifest_filepath: /home/user/.cache/asr-finetuning/datasets/hsekhalilian___fleurs/manifests/validation_manifest.json\n",
      "    sample_rate: 16000\n",
      "    batch_size: 16\n",
      "    shuffle: false\n",
      "    use_start_end_token: false\n",
      "    num_workers: 8\n",
      "    pin_memory: true\n",
      "    \n",
      "[NeMo W 2025-07-22 16:48:14 nemo_logging:405] Please call the ModelPT.setup_test_data() or ModelPT.setup_multiple_test_data() method and provide a valid configuration file to setup the test data loader(s).\n",
      "    Test config : \n",
      "    manifest_filepath: /data_artifacts/data/nemo/test_decoded_exprunner.json\n",
      "    sample_rate: 16000\n",
      "    batch_size: 512\n",
      "    shuffle: false\n",
      "    use_start_end_token: false\n",
      "    num_workers: 8\n",
      "    pin_memory: true\n",
      "    \n"
     ]
    },
    {
     "name": "stdout",
     "output_type": "stream",
     "text": [
      "[NeMo I 2025-07-22 16:48:14 nemo_logging:393] PADDING: 0\n",
      "[NeMo I 2025-07-22 16:48:15 nemo_logging:393] Using RNNT Loss : warprnnt_numba\n",
      "    Loss warprnnt_numba_kwargs: {'fastemit_lambda': 0.0, 'clamp': -1.0}\n",
      "[NeMo I 2025-07-22 16:48:15 nemo_logging:393] Using RNNT Loss : warprnnt_numba\n",
      "    Loss warprnnt_numba_kwargs: {'fastemit_lambda': 0.0, 'clamp': -1.0}\n",
      "[NeMo I 2025-07-22 16:48:15 nemo_logging:393] Using RNNT Loss : warprnnt_numba\n",
      "    Loss warprnnt_numba_kwargs: {'fastemit_lambda': 0.0, 'clamp': -1.0}\n",
      "[NeMo I 2025-07-22 16:48:15 nemo_logging:393] Model EncDecHybridRNNTCTCBPEModel was successfully restored from /home/jovyan/.cache/nemo_experiments/Speech_To_Text_Finetuning/2025-07-22_06-58-20/checkpoints/Speech_To_Text_Finetuning.nemo.\n"
     ]
    }
   ],
   "source": [
    "asr_model = EncDecHybridRNNTCTCBPEModel.restore_from(\"/home/jovyan/.cache/nemo_experiments/Speech_To_Text_Finetuning/2025-07-22_06-58-20/checkpoints/Speech_To_Text_Finetuning.nemo\")"
   ]
  },
  {
   "cell_type": "code",
   "execution_count": 50,
   "id": "6816cb2f-595f-4254-93f5-f51000af79cb",
   "metadata": {
    "execution": {
     "iopub.execute_input": "2025-07-22T16:48:18.871158Z",
     "iopub.status.busy": "2025-07-22T16:48:18.869900Z",
     "iopub.status.idle": "2025-07-22T16:48:40.250535Z",
     "shell.execute_reply": "2025-07-22T16:48:40.249227Z",
     "shell.execute_reply.started": "2025-07-22T16:48:18.871123Z"
    }
   },
   "outputs": [
    {
     "data": {
      "application/vnd.jupyter.widget-view+json": {
       "model_id": "ad68ad60f1f048198e1dd4805eccef15",
       "version_major": 2,
       "version_minor": 0
      },
      "text/plain": [
       "Speech_To_Text_Finetuning_02.nemo:   0%|          | 0.00/459M [00:00<?, ?B/s]"
      ]
     },
     "metadata": {},
     "output_type": "display_data"
    },
    {
     "data": {
      "text/plain": [
       "'https://huggingface.co/hsekhalilian/Speech_To_Text_Finetuning_02/tree/main'"
      ]
     },
     "execution_count": 50,
     "metadata": {},
     "output_type": "execute_result"
    }
   ],
   "source": [
    "asr_model.push_to_hf_hub(\"hsekhalilian/Speech_To_Text_Finetuning_02\", private=True)"
   ]
  },
  {
   "cell_type": "code",
   "execution_count": null,
   "id": "c36fcf98-2d3e-4b32-8b4b-1b8a5d52b462",
   "metadata": {},
   "outputs": [],
   "source": []
  }
 ],
 "metadata": {
  "kernelspec": {
   "display_name": "Python 3 (ipykernel)",
   "language": "python",
   "name": "python3"
  },
  "language_info": {
   "codemirror_mode": {
    "name": "ipython",
    "version": 3
   },
   "file_extension": ".py",
   "mimetype": "text/x-python",
   "name": "python",
   "nbconvert_exporter": "python",
   "pygments_lexer": "ipython3",
   "version": "3.12.9"
  }
 },
 "nbformat": 4,
 "nbformat_minor": 5
}
