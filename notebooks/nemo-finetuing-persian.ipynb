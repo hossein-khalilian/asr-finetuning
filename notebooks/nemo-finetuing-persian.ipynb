{
 "cells": [
  {
   "cell_type": "markdown",
   "id": "096c0963-7d3d-47a6-a375-869f7cf681bf",
   "metadata": {
    "jp-MarkdownHeadingCollapsed": true
   },
   "source": [
    "# setup"
   ]
  },
  {
   "cell_type": "code",
   "execution_count": 19,
   "id": "46515cf8-b75f-4e9d-aabe-1e430ac5e86c",
   "metadata": {
    "execution": {
     "iopub.execute_input": "2025-07-19T13:18:04.514140Z",
     "iopub.status.busy": "2025-07-19T13:18:04.512981Z",
     "iopub.status.idle": "2025-07-19T13:18:04.523920Z",
     "shell.execute_reply": "2025-07-19T13:18:04.523234Z",
     "shell.execute_reply.started": "2025-07-19T13:18:04.514087Z"
    }
   },
   "outputs": [],
   "source": [
    "import os\n",
    "\n",
    "if not os.path.exists(\"../scripts/speech_to_text_hybrid_rnnt_ctc_bpe.py\"):\n",
    "    !wget -P ../scripts https://raw.githubusercontent.com/NVIDIA/NeMo/refs/heads/main/examples/asr/asr_hybrid_transducer_ctc/speech_to_text_hybrid_rnnt_ctc_bpe.py\n",
    "\n",
    "if not os.path.exists(\"../configs/fastconformer_hybrid_transducer_ctc_bpe.yaml\"):\n",
    "    !wget -P ../configs https://raw.githubusercontent.com/NVIDIA/NeMo/refs/heads/main/examples/asr/conf/fastconformer/hybrid_transducer_ctc/fastconformer_hybrid_transducer_ctc_bpe.yaml\n",
    "\n",
    "if not os.path.exists(\"../scripts/process_asr_text_tokenizer.py\"):\n",
    "    !wget -P ../scripts https://raw.githubusercontent.com/NVIDIA/NeMo/refs/heads/main/scripts/tokenizers/process_asr_text_tokenizer.py\n",
    "\n",
    "if not os.path.exists(\"../scripts/convert_hf_dataset_to_nemo.py\"):\n",
    "    !wget -P ../scripts https://raw.githubusercontent.com/NVIDIA/NeMo/refs/heads/main/scripts/speech_recognition/convert_hf_dataset_to_nemo.py"
   ]
  },
  {
   "cell_type": "code",
   "execution_count": 5,
   "id": "7fa99b54-1d36-47bd-b9de-d47cf4c02e7b",
   "metadata": {
    "execution": {
     "iopub.execute_input": "2025-07-19T13:38:15.945843Z",
     "iopub.status.busy": "2025-07-19T13:38:15.944995Z",
     "iopub.status.idle": "2025-07-19T13:38:29.249744Z",
     "shell.execute_reply": "2025-07-19T13:38:29.248965Z",
     "shell.execute_reply.started": "2025-07-19T13:38:15.945813Z"
    }
   },
   "outputs": [
    {
     "name": "stdout",
     "output_type": "stream",
     "text": [
      "[NeMo I 2025-07-19 13:38:25 nemo_logging:393] Tokenizer SentencePieceTokenizer initialized with 1024 tokens\n"
     ]
    },
    {
     "name": "stderr",
     "output_type": "stream",
     "text": [
      "[NeMo W 2025-07-19 13:38:26 nemo_logging:405] If you intend to do training or fine-tuning, please call the ModelPT.setup_training_data() method and provide a valid configuration file to setup the train data loader.\n",
      "    Train config : \n",
      "    manifest_filepath: dummy\n",
      "    sample_rate: 16000\n",
      "    batch_size: 1\n",
      "    shuffle: true\n",
      "    num_workers: 8\n",
      "    pin_memory: true\n",
      "    max_duration: 10\n",
      "    min_duration: 0.5\n",
      "    is_tarred: false\n",
      "    tarred_audio_filepaths: null\n",
      "    shuffle_n: 2048\n",
      "    bucketing_strategy: fully_randomized\n",
      "    bucketing_batch_size: null\n",
      "    use_lhotse: true\n",
      "    lhotse:\n",
      "      shar_path: /data_artifacts/data/shar/train\n",
      "      batch_duration: 1200\n",
      "      quadratic_duration: 15\n",
      "      num_buckets: 10\n",
      "      num_cuts_for_bins_estimate: 10000\n",
      "      buffer_size: 10000\n",
      "      shuffle_buffer_size: 10000\n",
      "    \n",
      "[NeMo W 2025-07-19 13:38:26 nemo_logging:405] If you intend to do validation, please call the ModelPT.setup_validation_data() or ModelPT.setup_multiple_validation_data() method and provide a valid configuration file to setup the validation data loader(s). \n",
      "    Validation config : \n",
      "    manifest_filepath: /data_artifacts/data/nemo/dev_decoded_exprunner.json\n",
      "    sample_rate: 16000\n",
      "    batch_size: 512\n",
      "    shuffle: false\n",
      "    use_start_end_token: false\n",
      "    num_workers: 8\n",
      "    pin_memory: true\n",
      "    \n",
      "[NeMo W 2025-07-19 13:38:26 nemo_logging:405] Please call the ModelPT.setup_test_data() or ModelPT.setup_multiple_test_data() method and provide a valid configuration file to setup the test data loader(s).\n",
      "    Test config : \n",
      "    manifest_filepath: /data_artifacts/data/nemo/test_decoded_exprunner.json\n",
      "    sample_rate: 16000\n",
      "    batch_size: 512\n",
      "    shuffle: false\n",
      "    use_start_end_token: false\n",
      "    num_workers: 8\n",
      "    pin_memory: true\n",
      "    \n"
     ]
    },
    {
     "name": "stdout",
     "output_type": "stream",
     "text": [
      "[NeMo I 2025-07-19 13:38:26 nemo_logging:393] PADDING: 0\n",
      "[NeMo I 2025-07-19 13:38:28 nemo_logging:393] Using RNNT Loss : warprnnt_numba\n",
      "    Loss warprnnt_numba_kwargs: {'fastemit_lambda': 0.0, 'clamp': -1.0}\n",
      "[NeMo I 2025-07-19 13:38:28 nemo_logging:393] Using RNNT Loss : warprnnt_numba\n",
      "    Loss warprnnt_numba_kwargs: {'fastemit_lambda': 0.0, 'clamp': -1.0}\n"
     ]
    },
    {
     "name": "stderr",
     "output_type": "stream",
     "text": [
      "[NeMo W 2025-07-19 13:38:28 nemo_logging:405] No conditional node support for Cuda.\n",
      "    Cuda graphs with while loops are disabled, decoding speed will be slower\n",
      "    Reason: No `cuda-python` module. Please do `pip install cuda-python>=12.3`\n"
     ]
    },
    {
     "name": "stdout",
     "output_type": "stream",
     "text": [
      "[NeMo I 2025-07-19 13:38:28 nemo_logging:393] Using RNNT Loss : warprnnt_numba\n",
      "    Loss warprnnt_numba_kwargs: {'fastemit_lambda': 0.0, 'clamp': -1.0}\n"
     ]
    },
    {
     "name": "stderr",
     "output_type": "stream",
     "text": [
      "[NeMo W 2025-07-19 13:38:28 nemo_logging:405] No conditional node support for Cuda.\n",
      "    Cuda graphs with while loops are disabled, decoding speed will be slower\n",
      "    Reason: No `cuda-python` module. Please do `pip install cuda-python>=12.3`\n"
     ]
    },
    {
     "name": "stdout",
     "output_type": "stream",
     "text": [
      "[NeMo I 2025-07-19 13:38:29 nemo_logging:393] Model EncDecHybridRNNTCTCBPEModel was successfully restored from /home/jovyan/.cache/huggingface/hub/models--nvidia--stt_fa_fastconformer_hybrid_large/snapshots/249cf5bf70dda7220a60ddeeecff2f6aad8e1784/stt_fa_fastconformer_hybrid_large.nemo.\n"
     ]
    }
   ],
   "source": [
    "import nemo.collections.asr as nemo_asr\n",
    "from omegaconf import OmegaConf\n",
    "\n",
    "asr_model = nemo_asr.models.EncDecHybridRNNTCTCBPEModel.from_pretrained(model_name=\"nvidia/stt_fa_fastconformer_hybrid_large\")\n",
    "cfg = asr_model.cfg\n",
    "OmegaConf.save(cfg, \"../configs/fastconformer_hybrid_transducer_ctc_bpe_persian_pretrained.yaml\")"
   ]
  },
  {
   "cell_type": "code",
   "execution_count": 2,
   "id": "69e96b82-f624-4018-ae7f-d4ed2633c43f",
   "metadata": {
    "execution": {
     "iopub.execute_input": "2025-07-19T12:52:31.426021Z",
     "iopub.status.busy": "2025-07-19T12:52:31.425802Z",
     "iopub.status.idle": "2025-07-19T12:52:31.430997Z",
     "shell.execute_reply": "2025-07-19T12:52:31.430381Z",
     "shell.execute_reply.started": "2025-07-19T12:52:31.426003Z"
    }
   },
   "outputs": [],
   "source": [
    "# python [NEMO_GIT_FOLDER]/scripts/tokenizers/process_asr_text_tokenizer.py \\\n",
    "#   --manifest=\"train_manifest.json\" \\\n",
    "#   --data_root=\"<OUTPUT DIRECTORY FOR TOKENIZER>\" \\\n",
    "#   --vocab_size=1024 \\\n",
    "#   --tokenizer=\"spe\" \\\n",
    "#   --spe_type=\"unigram\" \\\n",
    "#   --spe_character_coverage=1.0 \\\n",
    "#   --no_lower_case \\\n",
    "#   --log"
   ]
  },
  {
   "cell_type": "markdown",
   "id": "7e7e5619-22f8-4662-9603-ba3456907706",
   "metadata": {},
   "source": [
    "# dataset preparation"
   ]
  },
  {
   "cell_type": "code",
   "execution_count": 22,
   "id": "ba5ecbdd-950c-4396-b029-75f18e0929fe",
   "metadata": {
    "execution": {
     "iopub.execute_input": "2025-07-19T13:20:06.949748Z",
     "iopub.status.busy": "2025-07-19T13:20:06.949260Z",
     "iopub.status.idle": "2025-07-19T13:25:32.432792Z",
     "shell.execute_reply": "2025-07-19T13:25:32.432062Z",
     "shell.execute_reply.started": "2025-07-19T13:20:06.949704Z"
    }
   },
   "outputs": [
    {
     "name": "stdout",
     "output_type": "stream",
     "text": [
      "/home/jovyan/projects/hse/git/asr-finetuning/notebooks/../scripts/convert_hf_dataset_to_nemo.py:349: UserWarning: \n",
      "The version_base parameter is not specified.\n",
      "Please specify a compatability version level, or None.\n",
      "Will assume defaults for version 1.1\n",
      "  @hydra.main(config_name='hfds_config', config_path=None)\n",
      "/opt/conda/lib/python3.12/site-packages/hydra/_internal/hydra.py:119: UserWarning: Future Hydra versions will no longer change working directory at job runtime by default.\n",
      "See https://hydra.cc/docs/1.2/upgrades/1.1_to_1.2/changes_to_job_working_dir/ for more information.\n",
      "  ret = run_job(\n",
      "Downloading readme: 100%|██████████████████| 1.13k/1.13k [00:00<00:00, 3.01kB/s]\n",
      "Downloading data: 100%|██████████████████████| 448M/448M [00:16<00:00, 26.9MB/s]\n",
      "Downloading data: 100%|██████████████████████| 462M/462M [00:09<00:00, 50.0MB/s]\n",
      "Downloading data: 100%|██████████████████████| 443M/443M [00:08<00:00, 53.3MB/s]\n",
      "Downloading data: 100%|██████████████████████| 455M/455M [00:08<00:00, 51.5MB/s]\n",
      "Downloading data: 100%|██████████████████████| 350M/350M [00:14<00:00, 24.4MB/s]\n",
      "Downloading data: 100%|██████████████████████| 340M/340M [00:06<00:00, 51.1MB/s]\n",
      "Downloading data: 100%|██████████████████████| 328M/328M [00:06<00:00, 51.3MB/s]\n",
      "Downloading data: 100%|██████████████████████| 330M/330M [00:06<00:00, 51.7MB/s]\n",
      "Generating train split: 100%|████| 30061/30061 [00:07<00:00, 3769.44 examples/s]\n",
      "Generating dev split: 100%|██████| 10540/10540 [00:02<00:00, 3555.89 examples/s]\n",
      "Generating test split: 100%|█████| 10540/10540 [00:02<00:00, 3533.69 examples/s]\n",
      "Single split found for dataset hsekhalilian/sorted_commonvoice | Split chosen = train\n",
      "Map (num_proc=3):  20%|██▌          | 5985/30061 [03:13<12:57, 30.96 examples/s]\n",
      "Error executing job with overrides: ['output_dir=datasets/fa', 'path=hsekhalilian/sorted_commonvoice', 'split=train', 'ensure_ascii=False']\n",
      "Traceback (most recent call last):\n",
      "  File \"/home/jovyan/projects/hse/git/asr-finetuning/notebooks/../scripts/convert_hf_dataset_to_nemo.py\", line 406, in main\n",
      "    process_dataset(dataset, cfg)\n",
      "  File \"/home/jovyan/projects/hse/git/asr-finetuning/notebooks/../scripts/convert_hf_dataset_to_nemo.py\", line 343, in process_dataset\n",
      "    convert_offline_dataset_to_nemo(dataset, cfg, basedir=basedir, manifest_filepath=manifest_filepath)\n",
      "  File \"/home/jovyan/projects/hse/git/asr-finetuning/notebooks/../scripts/convert_hf_dataset_to_nemo.py\", line 248, in convert_offline_dataset_to_nemo\n",
      "    dataset = dataset.map(build_map_dataset_to_nemo_func(cfg, basedir), num_proc=num_proc)\n",
      "              ^^^^^^^^^^^^^^^^^^^^^^^^^^^^^^^^^^^^^^^^^^^^^^^^^^^^^^^^^^^^^^^^^^^^^^^^^^^^\n",
      "  File \"/opt/conda/lib/python3.12/site-packages/datasets/arrow_dataset.py\", line 602, in wrapper\n",
      "    out: Union[\"Dataset\", \"DatasetDict\"] = func(self, *args, **kwargs)\n",
      "                                           ^^^^^^^^^^^^^^^^^^^^^^^^^^^\n",
      "  File \"/opt/conda/lib/python3.12/site-packages/datasets/arrow_dataset.py\", line 567, in wrapper\n",
      "    out: Union[\"Dataset\", \"DatasetDict\"] = func(self, *args, **kwargs)\n",
      "                                           ^^^^^^^^^^^^^^^^^^^^^^^^^^^\n",
      "  File \"/opt/conda/lib/python3.12/site-packages/datasets/arrow_dataset.py\", line 3259, in map\n",
      "    for rank, done, content in iflatmap_unordered(\n",
      "                               ^^^^^^^^^^^^^^^^^^^\n",
      "  File \"/opt/conda/lib/python3.12/site-packages/datasets/utils/py_utils.py\", line 711, in iflatmap_unordered\n",
      "    raise RuntimeError(\n",
      "RuntimeError: One of the subprocesses has abruptly died during map operation.To debug the error, disable multiprocessing.\n",
      "\n",
      "Set the environment variable HYDRA_FULL_ERROR=1 for a complete stack trace.\n"
     ]
    }
   ],
   "source": [
    "!python ../scripts/convert_hf_dataset_to_nemo.py \\\n",
    "    output_dir=datasets/fa \\\n",
    "    path=hsekhalilian/sorted_commonvoice \\\n",
    "    split=\"train\" \\\n",
    "    ensure_ascii=False"
   ]
  },
  {
   "cell_type": "code",
   "execution_count": null,
   "id": "74681ddc-5c1d-49e7-80c6-e91393580267",
   "metadata": {},
   "outputs": [],
   "source": []
  }
 ],
 "metadata": {
  "kernelspec": {
   "display_name": "Python 3 (ipykernel)",
   "language": "python",
   "name": "python3"
  },
  "language_info": {
   "codemirror_mode": {
    "name": "ipython",
    "version": 3
   },
   "file_extension": ".py",
   "mimetype": "text/x-python",
   "name": "python",
   "nbconvert_exporter": "python",
   "pygments_lexer": "ipython3",
   "version": "3.12.9"
  }
 },
 "nbformat": 4,
 "nbformat_minor": 5
}
