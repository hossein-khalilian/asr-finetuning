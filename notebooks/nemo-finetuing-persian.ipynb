{
 "cells": [
  {
   "cell_type": "markdown",
   "id": "096c0963-7d3d-47a6-a375-869f7cf681bf",
   "metadata": {
    "jp-MarkdownHeadingCollapsed": true
   },
   "source": [
    "# setup"
   ]
  },
  {
   "cell_type": "code",
   "execution_count": 40,
   "id": "c78a9972-1039-4661-a49a-03c1188995f9",
   "metadata": {
    "execution": {
     "iopub.execute_input": "2025-07-20T09:00:39.533297Z",
     "iopub.status.busy": "2025-07-20T09:00:39.532381Z",
     "iopub.status.idle": "2025-07-20T09:00:39.862149Z",
     "shell.execute_reply": "2025-07-20T09:00:39.858766Z",
     "shell.execute_reply.started": "2025-07-20T09:00:39.533177Z"
    }
   },
   "outputs": [],
   "source": [
    "# !pip install -r ../requirements.txt\n",
    "# !conda install cudatoolkit -y\n",
    "# !pip install cuda-python>=12.3\n",
    "!cp ~/.cache/.netrc ~"
   ]
  },
  {
   "cell_type": "code",
   "execution_count": 2,
   "id": "46515cf8-b75f-4e9d-aabe-1e430ac5e86c",
   "metadata": {
    "execution": {
     "iopub.execute_input": "2025-07-20T05:26:55.228077Z",
     "iopub.status.busy": "2025-07-20T05:26:55.227092Z",
     "iopub.status.idle": "2025-07-20T05:26:55.235968Z",
     "shell.execute_reply": "2025-07-20T05:26:55.235459Z",
     "shell.execute_reply.started": "2025-07-20T05:26:55.228002Z"
    }
   },
   "outputs": [],
   "source": [
    "import os\n",
    "\n",
    "if not os.path.exists(\"../scripts/speech_to_text_hybrid_rnnt_ctc_bpe.py\"):\n",
    "    !wget -P ../scripts https://raw.githubusercontent.com/NVIDIA/NeMo/refs/heads/main/examples/asr/asr_hybrid_transducer_ctc/speech_to_text_hybrid_rnnt_ctc_bpe.py\n",
    "\n",
    "if not os.path.exists(\"../configs/fastconformer_hybrid_transducer_ctc_bpe.yaml\"):\n",
    "    !wget -P ../configs https://raw.githubusercontent.com/NVIDIA/NeMo/refs/heads/main/examples/asr/conf/fastconformer/hybrid_transducer_ctc/fastconformer_hybrid_transducer_ctc_bpe.yaml\n",
    "\n",
    "if not os.path.exists(\"../scripts/process_asr_text_tokenizer.py\"):\n",
    "    !wget -P ../scripts https://raw.githubusercontent.com/NVIDIA/NeMo/refs/heads/main/scripts/tokenizers/process_asr_text_tokenizer.py\n",
    "\n",
    "if not os.path.exists(\"../scripts/convert_hf_dataset_to_nemo.py\"):\n",
    "    !wget -P ../scripts https://raw.githubusercontent.com/NVIDIA/NeMo/refs/heads/main/scripts/speech_recognition/convert_hf_dataset_to_nemo.py"
   ]
  },
  {
   "cell_type": "code",
   "execution_count": 3,
   "id": "7fa99b54-1d36-47bd-b9de-d47cf4c02e7b",
   "metadata": {
    "execution": {
     "iopub.execute_input": "2025-07-20T05:27:10.363952Z",
     "iopub.status.busy": "2025-07-20T05:27:10.363071Z",
     "iopub.status.idle": "2025-07-20T05:27:44.825328Z",
     "shell.execute_reply": "2025-07-20T05:27:44.824799Z",
     "shell.execute_reply.started": "2025-07-20T05:27:10.363885Z"
    }
   },
   "outputs": [
    {
     "data": {
      "application/vnd.jupyter.widget-view+json": {
       "model_id": "a21ea7400073489ca06fb867958b4e4a",
       "version_major": 2,
       "version_minor": 0
      },
      "text/plain": [
       "stt_fa_fastconformer_hybrid_large.nemo:   0%|          | 0.00/459M [00:00<?, ?B/s]"
      ]
     },
     "metadata": {},
     "output_type": "display_data"
    },
    {
     "name": "stdout",
     "output_type": "stream",
     "text": [
      "[NeMo I 2025-07-20 05:27:42 nemo_logging:393] Tokenizer SentencePieceTokenizer initialized with 1024 tokens\n"
     ]
    },
    {
     "name": "stderr",
     "output_type": "stream",
     "text": [
      "[NeMo W 2025-07-20 05:27:43 nemo_logging:405] If you intend to do training or fine-tuning, please call the ModelPT.setup_training_data() method and provide a valid configuration file to setup the train data loader.\n",
      "    Train config : \n",
      "    manifest_filepath: dummy\n",
      "    sample_rate: 16000\n",
      "    batch_size: 1\n",
      "    shuffle: true\n",
      "    num_workers: 8\n",
      "    pin_memory: true\n",
      "    max_duration: 10\n",
      "    min_duration: 0.5\n",
      "    is_tarred: false\n",
      "    tarred_audio_filepaths: null\n",
      "    shuffle_n: 2048\n",
      "    bucketing_strategy: fully_randomized\n",
      "    bucketing_batch_size: null\n",
      "    use_lhotse: true\n",
      "    lhotse:\n",
      "      shar_path: /data_artifacts/data/shar/train\n",
      "      batch_duration: 1200\n",
      "      quadratic_duration: 15\n",
      "      num_buckets: 10\n",
      "      num_cuts_for_bins_estimate: 10000\n",
      "      buffer_size: 10000\n",
      "      shuffle_buffer_size: 10000\n",
      "    \n",
      "[NeMo W 2025-07-20 05:27:43 nemo_logging:405] If you intend to do validation, please call the ModelPT.setup_validation_data() or ModelPT.setup_multiple_validation_data() method and provide a valid configuration file to setup the validation data loader(s). \n",
      "    Validation config : \n",
      "    manifest_filepath: /data_artifacts/data/nemo/dev_decoded_exprunner.json\n",
      "    sample_rate: 16000\n",
      "    batch_size: 512\n",
      "    shuffle: false\n",
      "    use_start_end_token: false\n",
      "    num_workers: 8\n",
      "    pin_memory: true\n",
      "    \n",
      "[NeMo W 2025-07-20 05:27:43 nemo_logging:405] Please call the ModelPT.setup_test_data() or ModelPT.setup_multiple_test_data() method and provide a valid configuration file to setup the test data loader(s).\n",
      "    Test config : \n",
      "    manifest_filepath: /data_artifacts/data/nemo/test_decoded_exprunner.json\n",
      "    sample_rate: 16000\n",
      "    batch_size: 512\n",
      "    shuffle: false\n",
      "    use_start_end_token: false\n",
      "    num_workers: 8\n",
      "    pin_memory: true\n",
      "    \n"
     ]
    },
    {
     "name": "stdout",
     "output_type": "stream",
     "text": [
      "[NeMo I 2025-07-20 05:27:43 nemo_logging:393] PADDING: 0\n",
      "[NeMo I 2025-07-20 05:27:43 nemo_logging:393] Using RNNT Loss : warprnnt_numba\n",
      "    Loss warprnnt_numba_kwargs: {'fastemit_lambda': 0.0, 'clamp': -1.0}\n",
      "[NeMo I 2025-07-20 05:27:43 nemo_logging:393] Using RNNT Loss : warprnnt_numba\n",
      "    Loss warprnnt_numba_kwargs: {'fastemit_lambda': 0.0, 'clamp': -1.0}\n"
     ]
    },
    {
     "name": "stderr",
     "output_type": "stream",
     "text": [
      "[NeMo W 2025-07-20 05:27:43 nemo_logging:405] No conditional node support for Cuda.\n",
      "    Cuda graphs with while loops are disabled, decoding speed will be slower\n",
      "    Reason: No `cuda-python` module. Please do `pip install cuda-python>=12.3`\n"
     ]
    },
    {
     "name": "stdout",
     "output_type": "stream",
     "text": [
      "[NeMo I 2025-07-20 05:27:44 nemo_logging:393] Using RNNT Loss : warprnnt_numba\n",
      "    Loss warprnnt_numba_kwargs: {'fastemit_lambda': 0.0, 'clamp': -1.0}\n"
     ]
    },
    {
     "name": "stderr",
     "output_type": "stream",
     "text": [
      "[NeMo W 2025-07-20 05:27:44 nemo_logging:405] No conditional node support for Cuda.\n",
      "    Cuda graphs with while loops are disabled, decoding speed will be slower\n",
      "    Reason: No `cuda-python` module. Please do `pip install cuda-python>=12.3`\n"
     ]
    },
    {
     "name": "stdout",
     "output_type": "stream",
     "text": [
      "[NeMo I 2025-07-20 05:27:44 nemo_logging:393] Model EncDecHybridRNNTCTCBPEModel was successfully restored from /home/jovyan/.cache/huggingface/hub/models--nvidia--stt_fa_fastconformer_hybrid_large/snapshots/249cf5bf70dda7220a60ddeeecff2f6aad8e1784/stt_fa_fastconformer_hybrid_large.nemo.\n"
     ]
    }
   ],
   "source": [
    "import nemo.collections.asr as nemo_asr\n",
    "from omegaconf import OmegaConf\n",
    "\n",
    "asr_model = nemo_asr.models.EncDecHybridRNNTCTCBPEModel.from_pretrained(model_name=\"nvidia/stt_fa_fastconformer_hybrid_large\")\n",
    "cfg = asr_model.cfg\n",
    "OmegaConf.save(cfg, \"../configs/fastconformer_hybrid_transducer_ctc_bpe_persian_pretrained.yaml\")"
   ]
  },
  {
   "cell_type": "code",
   "execution_count": 2,
   "id": "69e96b82-f624-4018-ae7f-d4ed2633c43f",
   "metadata": {
    "execution": {
     "iopub.execute_input": "2025-07-19T12:52:31.426021Z",
     "iopub.status.busy": "2025-07-19T12:52:31.425802Z",
     "iopub.status.idle": "2025-07-19T12:52:31.430997Z",
     "shell.execute_reply": "2025-07-19T12:52:31.430381Z",
     "shell.execute_reply.started": "2025-07-19T12:52:31.426003Z"
    }
   },
   "outputs": [],
   "source": [
    "# python [NEMO_GIT_FOLDER]/scripts/tokenizers/process_asr_text_tokenizer.py \\\n",
    "#   --manifest=\"train_manifest.json\" \\\n",
    "#   --data_root=\"<OUTPUT DIRECTORY FOR TOKENIZER>\" \\\n",
    "#   --vocab_size=1024 \\\n",
    "#   --tokenizer=\"spe\" \\\n",
    "#   --spe_type=\"unigram\" \\\n",
    "#   --spe_character_coverage=1.0 \\\n",
    "#   --no_lower_case \\\n",
    "#   --log"
   ]
  },
  {
   "cell_type": "markdown",
   "id": "7e7e5619-22f8-4662-9603-ba3456907706",
   "metadata": {},
   "source": [
    "# dataset preparation"
   ]
  },
  {
   "cell_type": "code",
   "execution_count": 2,
   "id": "4f1020cf-c2d2-4fc0-9c88-6f8bedabd278",
   "metadata": {
    "execution": {
     "iopub.execute_input": "2025-07-20T06:38:01.547647Z",
     "iopub.status.busy": "2025-07-20T06:38:01.547328Z",
     "iopub.status.idle": "2025-07-20T06:38:04.487541Z",
     "shell.execute_reply": "2025-07-20T06:38:04.487020Z",
     "shell.execute_reply.started": "2025-07-20T06:38:01.547623Z"
    }
   },
   "outputs": [],
   "source": [
    "import os\n",
    "import sys_append\n",
    "from tqdm import tqdm\n",
    "from utils.create_dataset import convert_hf_dataset_nemo\n",
    "from nemo.collections.asr.parts.utils.manifest_utils import read_manifest, write_manifest"
   ]
  },
  {
   "cell_type": "code",
   "execution_count": null,
   "id": "1c25acad-3f2b-4a7f-a563-a4167589726f",
   "metadata": {
    "execution": {
     "iopub.status.busy": "2025-07-20T06:37:58.655724Z",
     "iopub.status.idle": "2025-07-20T06:37:58.655882Z",
     "shell.execute_reply": "2025-07-20T06:37:58.655814Z",
     "shell.execute_reply.started": "2025-07-20T06:37:58.655806Z"
    }
   },
   "outputs": [],
   "source": [
    "convert_hf_dataset_nemo(dataset_name=\"hsekhalilian/sorted_commonvoice\", split=\"train\")\n",
    "convert_hf_dataset_nemo(dataset_name=\"hsekhalilian/sorted_commonvoice\", split=\"dev\")\n",
    "convert_hf_dataset_nemo(dataset_name=\"hsekhalilian/sorted_commonvoice\", split=\"test\")"
   ]
  },
  {
   "cell_type": "code",
   "execution_count": 3,
   "id": "74681ddc-5c1d-49e7-80c6-e91393580267",
   "metadata": {
    "execution": {
     "iopub.execute_input": "2025-07-20T06:38:13.404873Z",
     "iopub.status.busy": "2025-07-20T06:38:13.403176Z",
     "iopub.status.idle": "2025-07-20T06:38:13.409286Z",
     "shell.execute_reply": "2025-07-20T06:38:13.408649Z",
     "shell.execute_reply.started": "2025-07-20T06:38:13.404792Z"
    }
   },
   "outputs": [],
   "source": [
    "manifest_dir = \"/home/jovyan/.cache/datasets/hsekhalilian___sorted_commonvoice/manifests\"\n",
    "\n",
    "train_manifest = f\"{manifest_dir}/train_manifest.json\"\n",
    "dev_manifest = f\"{manifest_dir}/dev_manifest.json\"\n",
    "test_manifest = f\"{manifest_dir}/test_manifest.json\""
   ]
  },
  {
   "cell_type": "code",
   "execution_count": 4,
   "id": "e08dbb39-c6ab-43f4-986b-2973aa3320c0",
   "metadata": {
    "execution": {
     "iopub.execute_input": "2025-07-20T06:38:15.852367Z",
     "iopub.status.busy": "2025-07-20T06:38:15.851407Z",
     "iopub.status.idle": "2025-07-20T06:38:15.858048Z",
     "shell.execute_reply": "2025-07-20T06:38:15.857544Z",
     "shell.execute_reply.started": "2025-07-20T06:38:15.852291Z"
    }
   },
   "outputs": [],
   "source": [
    "# Processing pipeline\n",
    "def apply_preprocessors(manifest_data, preprocessors):\n",
    "    for processor in preprocessors:\n",
    "        for idx in tqdm(range(len(manifest_data)), desc=f\"Applying {processor.__name__}\"):\n",
    "            manifest_data[idx] = processor(manifest_data[idx])\n",
    "\n",
    "    print(\"Finished processing manifest !\")\n",
    "    return manifest_data\n",
    "\n",
    "def write_processed_manifest(manifest_data, original_path):\n",
    "    original_manifest_name = os.path.basename(original_path)\n",
    "    new_manifest_name = original_manifest_name.replace(\".json\", \"_processed.json\")\n",
    "\n",
    "    manifest_dir = os.path.split(original_path)[0]\n",
    "    filepath = os.path.join(manifest_dir, new_manifest_name)\n",
    "    write_manifest(filepath, manifest_data)\n",
    "    print(f\"Finished writing manifest: {filepath}\")\n",
    "    \n",
    "    return filepath"
   ]
  },
  {
   "cell_type": "code",
   "execution_count": 5,
   "id": "2d204681-0dc8-48ea-90c9-ae32e830bbe2",
   "metadata": {
    "execution": {
     "iopub.execute_input": "2025-07-20T06:38:20.323509Z",
     "iopub.status.busy": "2025-07-20T06:38:20.322537Z",
     "iopub.status.idle": "2025-07-20T06:38:20.327907Z",
     "shell.execute_reply": "2025-07-20T06:38:20.327598Z",
     "shell.execute_reply.started": "2025-07-20T06:38:20.323435Z"
    }
   },
   "outputs": [],
   "source": [
    "def make_lower_case(sample):\n",
    "    sample[\"text\"] = sample[\"text\"].lower().strip()\n",
    "    return sample\n",
    "\n",
    "def do_nothing(sample):\n",
    "    return sample\n",
    "    \n",
    "PREPROCESSORS = [\n",
    "    make_lower_case,\n",
    "]"
   ]
  },
  {
   "cell_type": "code",
   "execution_count": 6,
   "id": "3a0bcb7b-3bf3-448d-817d-df117b0e49cd",
   "metadata": {
    "execution": {
     "iopub.execute_input": "2025-07-20T06:38:59.953444Z",
     "iopub.status.busy": "2025-07-20T06:38:59.952434Z",
     "iopub.status.idle": "2025-07-20T06:39:00.466015Z",
     "shell.execute_reply": "2025-07-20T06:39:00.465433Z",
     "shell.execute_reply.started": "2025-07-20T06:38:59.953371Z"
    }
   },
   "outputs": [
    {
     "name": "stderr",
     "output_type": "stream",
     "text": [
      "Applying make_lower_case: 100%|██████████| 30061/30061 [00:00<00:00, 2224270.06it/s]\n"
     ]
    },
    {
     "name": "stdout",
     "output_type": "stream",
     "text": [
      "Finished processing manifest !\n"
     ]
    },
    {
     "name": "stderr",
     "output_type": "stream",
     "text": [
      "Applying make_lower_case: 100%|██████████| 10540/10540 [00:00<00:00, 2092783.76it/s]\n"
     ]
    },
    {
     "name": "stdout",
     "output_type": "stream",
     "text": [
      "Finished processing manifest !\n"
     ]
    },
    {
     "name": "stderr",
     "output_type": "stream",
     "text": [
      "Applying make_lower_case: 100%|██████████| 10540/10540 [00:00<00:00, 2271735.05it/s]\n"
     ]
    },
    {
     "name": "stdout",
     "output_type": "stream",
     "text": [
      "Finished processing manifest !\n",
      "Finished writing manifest: /home/jovyan/.cache/datasets/hsekhalilian___sorted_commonvoice/manifests/train_manifest_processed.json\n",
      "Finished writing manifest: /home/jovyan/.cache/datasets/hsekhalilian___sorted_commonvoice/manifests/dev_manifest_processed.json\n",
      "Finished writing manifest: /home/jovyan/.cache/datasets/hsekhalilian___sorted_commonvoice/manifests/test_manifest_processed.json\n"
     ]
    }
   ],
   "source": [
    "# Load manifests\n",
    "train_manifest_data = read_manifest(train_manifest)\n",
    "dev_manifest_data = read_manifest(dev_manifest)\n",
    "test_manifest_data = read_manifest(test_manifest)\n",
    "\n",
    "# Apply preprocessing\n",
    "train_data_processed = apply_preprocessors(train_manifest_data, PREPROCESSORS)\n",
    "dev_data_processed = apply_preprocessors(dev_manifest_data, PREPROCESSORS)\n",
    "test_data_processed = apply_preprocessors(test_manifest_data, PREPROCESSORS)\n",
    "\n",
    "# Write new manifests\n",
    "train_manifest_cleaned = write_processed_manifest(train_data_processed, train_manifest)\n",
    "dev_manifest_cleaned = write_processed_manifest(dev_data_processed, dev_manifest)\n",
    "test_manifest_cleaned = write_processed_manifest(test_data_processed, test_manifest)"
   ]
  },
  {
   "cell_type": "markdown",
   "id": "bd05f1b8-eca7-4bb5-b55d-c955df68af0e",
   "metadata": {},
   "source": [
    "## create tokenizer"
   ]
  },
  {
   "cell_type": "code",
   "execution_count": 23,
   "id": "2737a6c1-3499-4d02-a52c-7311f878910d",
   "metadata": {
    "execution": {
     "iopub.execute_input": "2025-07-20T08:02:19.816776Z",
     "iopub.status.busy": "2025-07-20T08:02:19.815848Z",
     "iopub.status.idle": "2025-07-20T08:02:24.179943Z",
     "shell.execute_reply": "2025-07-20T08:02:24.176656Z",
     "shell.execute_reply.started": "2025-07-20T08:02:19.816700Z"
    }
   },
   "outputs": [
    {
     "name": "stdout",
     "output_type": "stream",
     "text": [
      "usage: process_asr_text_tokenizer.py [-h]\n",
      "                                     (--manifest MANIFEST | --data_file DATA_FILE)\n",
      "                                     --data_root DATA_ROOT\n",
      "                                     [--vocab_size VOCAB_SIZE]\n",
      "                                     [--tokenizer {spe,wpe}]\n",
      "                                     [--spe_type {bpe,unigram,char,word}]\n",
      "                                     [--spe_character_coverage SPE_CHARACTER_COVERAGE]\n",
      "                                     [--spe_bos] [--spe_eos] [--spe_pad]\n",
      "                                     [--spe_user_defined_symbols SPE_USER_DEFINED_SYMBOLS [SPE_USER_DEFINED_SYMBOLS ...]]\n",
      "                                     [--spe_control_symbols SPE_CONTROL_SYMBOLS [SPE_CONTROL_SYMBOLS ...]]\n",
      "                                     [--spe_split_digits]\n",
      "                                     [--spe_remove_extra_whitespaces]\n",
      "                                     [--spe_sample_size SPE_SAMPLE_SIZE]\n",
      "                                     [--spe_train_extremely_large_corpus]\n",
      "                                     [--spe_max_sentencepiece_length SPE_MAX_SENTENCEPIECE_LENGTH]\n",
      "                                     [--spe_no_split_by_unicode_script]\n",
      "                                     [--spe_byte_fallback] [--no_lower_case]\n",
      "                                     [--log]\n",
      "process_asr_text_tokenizer.py: error: argument --vocab_size: invalid int value: ''\n"
     ]
    }
   ],
   "source": [
    "VOCAB_SIZE = 1024\n",
    "TOKENIZER_TYPE = \"bpe\"\n",
    "tokenizer_dir = \"/home/jovyan/.cache/datasets/hsekhalilian___sorted_commonvoice/tokenizers\"\n",
    "\n",
    "!python ../scripts/process_asr_text_tokenizer.py \\\n",
    "  --manifest=$train_manifest_cleaned,$dev_manifest_cleaned \\\n",
    "  --vocab_size=$VOCAB_SIZE \\\n",
    "  --data_root=$tokenizer_dir \\\n",
    "  --tokenizer=\"spe\" \\\n",
    "  --spe_type=$TOKENIZER_TYPE \\\n",
    "  --spe_character_coverage=1.0 \\\n",
    "  --log"
   ]
  },
  {
   "cell_type": "code",
   "execution_count": 76,
   "id": "02565290-c632-4858-8128-be8b84ad0eeb",
   "metadata": {
    "execution": {
     "iopub.execute_input": "2025-07-20T06:54:49.996130Z",
     "iopub.status.busy": "2025-07-20T06:54:49.995968Z",
     "iopub.status.idle": "2025-07-20T06:54:50.000263Z",
     "shell.execute_reply": "2025-07-20T06:54:49.999901Z",
     "shell.execute_reply.started": "2025-07-20T06:54:49.996114Z"
    }
   },
   "outputs": [
    {
     "name": "stdout",
     "output_type": "stream",
     "text": [
      "Tokenizer directory : /home/jovyan/.cache/datasets/hsekhalilian___sorted_commonvoice/tokenizers/tokenizer_spe_bpe_v1024/\n",
      "Number of tokens :  1024\n",
      "['ب', 'ا', 'م', 'د', 'ک', '##را', '##ان', '##ار', '##ست', 'ت', 'خ', '##ای', '##ند', 'ن', '##رد', 'ش', 'می', 'و', 'پ', '##ین', 'را', 'س', 'به', '##ود', 'ه', 'ر', 'او', '##ید', '##اد', 'در', 'آ', 'با', 'چ', 'ج', 'از', 'است', 'ز', '##های', 'کرد', '##ام', '##یم', 'این', 'گ', '##ال', 'ح', 'خو', '##اه', '##یر', 'ی', 'که', '##ور', 'ف', '##شت', 'من', '##ون', '##فت', '##هی', 'رو', 'ق', '##لی', 'شد', '##ها', 'بر', 'ع', '##اب', 'بود', 'تو', 'هم', 'کن', '##ری', 'دار', 'خود', 'برا', '##از', '##خت', '##می', 'یک', '##سی', 'دو', '##رو', '##ات', 'ص', 'آن', '##نگ', 'بی', 'ل', 'میک', '##وی', '##اری', 'برای', '##لا', '##ران', '##مان', 'سر', 'ما', 'مو', '##ما', '##اشت', 'پی', '##ده', '##وان', '##ول', '##زی', 'داد', '##گی', 'کار', 'نی', '##تر', '##بی', '##تی', '##انه', 'دی', '##نی', 'خواه', 'تا', 'کردن', '##انی', '##در', 'پر', '##اس', '##گر', '##وش', 'چه', 'مح', '##نج', 'ط', 'شده', '##اق', '##ایی', 'هست', 'دست', '##رف', 'چی', 'بد', 'دارد', '##خو', '##اید', 'میش', 'رفت', 'مت', 'نمی', 'مر', 'خی', 'گر', 'ای', 'باش', '##وم', '##قی', 'سا', 'غ', '##دی', '##بر', '##اده', '##جا', 'ند', '##اش', '##هر', 'داشت', '##کن', '##اند', '##نده', 'ام', '##گاه', 'پس', 'شما', '##دا', '##عی', '##له', 'کش', '##کی', 'مع', '##ره', 'پیش', 'بز', '##رم', 'مرد', '##گه', '##عت', 'روی', 'نیست', '##شم', '##اره', 'زی', '##نه', 'ان', 'تر', 'کنم', '##کت', '##بت', '##اف', 'سی', 'هر', 'روز', '##الی', '##وز', '##است', '##مد', 'گرفت', '##به', '##اط', 'خیلی', 'نش', 'کم', 'میکند', 'مس', 'بخ', 'راه', '##رار', 'ات', 'زد', 'یه', '##گیر', '##لو', 'دوست', '##یده', 'فر', '##شک', 'چند', '##فا', '##وری', '##لم', 'زند', 'سال', 'رس', '##ارد', 'باز', 'باید', 'حال', '##یش', '##توان', '##ههای', 'صد', '##نا', 'ده', '##قت', 'نو', 'تم', 'مد', 'کند', '##وت', '##مین', 'یا', '##کر', 'بیم', '##ادی', '##رای', 'کرده', 'تح', '##عد', '##خی', '##شی', 'هی', 'میکرد', '##نام', '##ورد', 'زن', '##چه', 'آنها', 'دارم', 'حرف', 'مرا', 'مج', '##وا', '##فر', 'نه', 'حس', 'خوب', 'شو', 'پای', 'میکن', '##که', 'پول', 'عم', 'نم', 'میشود', 'همه', 'آب', 'خان', '##هم', 'توان', 'کنید', '##رگ', '##صی', '##وه', 'نظ', 'اون', '##سته', 'تن', 'بسی', '##اک', '##دم', '##..', '##تاب', '##یدن', 'سو', 'اگر', 'میز', 'اس', '##ونی', 'لط', 'گفت', 'خواهم', '##قه', 'گذ', 'تص', 'شک', 'نب', 'نام', 'اند', 'پنج', '##وب', '##عه', '##بار', '##زار', 'مخ', 'برد', '##جه', 'قرار', '##لت', 'مید', 'شر', 'خواهد', 'شدن', 'میخو', '##وس', 'لطفا', 'زندگی', 'نق', 'کسی', 'ساخت', 'بل', 'مق', '##اهی', '##بین', 'آم', 'هیچ', 'پدر', 'میتوان', '##دید', '##شتر', '##گان', 'جم', 'اد', 'اف', '##با', '##گذ', 'بده', 'زمین', 'صدای', 'کردند', '##رش', 'پیر', 'نا', 'چرا', '##سه', 'دا', '##ستان', '##فی', '##کار', 'بین', 'تمام', '##بان', '##ونه', 'تع', 'تق', '##جود', 'ری', 'مش', 'بزرگ', '##رات', 'جه', '##رز', '##شین', 'بسیار', 'اینجا', 'شهر', 'کام', 'دیگر', 'ولی', 'دل', 'اح', 'ال', 'جنگ', 'کتاب', 'هستند', '##اخت', 'جو', 'کردم', 'فکر', '##ترین', 'واق', 'خوش', 'دور', 'تل', 'کی', 'مث', 'های', 'اص', '##هایی', '##رت', '##ندی', 'خط', 'ساز', 'بودند', 'شب', 'چیزی', '##وق', 'ساعت', 'صح', 'هن', 'خانه', 'ها', '##وار', '##نامه', 'بار', 'خاط', 'رنگ', 'فق', 'میده', '##بال', '##انش', '##لیس', '##مت', 'بش', 'کشور', 'زیر', 'فرو', 'خورد', 'بیشتر', 'وجود', 'بعد', 'کجا', 'اول', 'جای', '##ازه', 'خر', 'انگ', 'دری', '##وند', 'رفتار', '##رام', 'اج', 'برخی', 'حق', 'نس', 'دادن', 'سه', 'فی', 'لب', 'مورد', 'هستم', 'جن', 'مه', 'شود', 'خدا', 'کنیم', '##جی', 'نز', 'انج', 'سب', 'افت', '##مل', '##ویی', '##ضی', '##شان', 'پار', 'آورد', '##لام', '##گرد', '##ستم', 'ض', '##کم', 'آز', 'روش', 'وی', 'چیز', '##یشه', '##طور', '##کان', 'انت', 'گوش', '##ورت', '##یدم', 'پرو', 'باشد', 'نیاز', '##عا', 'ماد', 'نظر', '##کا', '،', '##باز', 'مردم', 'تب', 'شع', 'وق', 'کو', 'میر', '##ئی', '##دار', 'بن', '##گران', '##هن', '##قدر', 'مم', '##گو', '##لات', '##کرد', 'خاطر', 'انجام', '##ارم', '##راک', 'گل', 'بگیر', '##خانه', 'خبر', 'کنی', '##ابل', 'بیر', 'اتاق', 'شرکت', '##رب', '##لب', 'جلو', '##سم', 'گرد', 'جدید', 'دیگه', '##اپ', 'مست', '##زه', 'قب', 'بازی', 'کنند', 'زود', 'سخت', 'فقط', 'داده', '##شتی', 'شم', 'شی', 'پرد', 'سنگ', 'شیر', 'ندارد', 'یکی', '##باره', '##مانی', 'جان', 'بدون', '؟', 'آمد', 'بیا', '##رخ', '##نم', '##کس', '##تون', 'اط', 'بخش', '##ایش', 'خواب', 'درست', 'ماشین', 'میکنند', '##حی', 'اع', 'توی', '##نو', 'بچه', 'ایران', 'یاد', 'جوان', '##ایت', 'شه', '##میم', 'کل', 'وقت', 'تاری', 'سرباز', '##کش', 'سپ', 'ببین', 'وقتی', 'پاس', 'کمی', 'ث', '##ستی', '##شته', '##فته', '##راب', 'عق', 'مط', 'چون', 'توانم', '##زد', '##ازی', 'غیر', 'حساب', 'پوش', '##خته', '##سان', '##ندان', 'چشم', 'ذ', 'پا', 'دخت', 'فرا', '##خش', '##غی', '##ارت', 'تج', 'ته', 'مدر', 'بلند', 'بودن', 'بیرون', 'دارید', 'بیماری', 'جا', 'سف', 'رود', 'گذاشت', '##پی', 'خودش', 'نبود', '##یمی', 'برگ', 'بست', 'جام', 'دولت', 'توس', 'مثل', 'زیاد', '##یدا', 'میان', 'بیمار', '##فه', 'زدن', 'نشان', '##قا', '##...', '##عیت', 'خوراک', '##ثر', '##میز', 'دانش', 'دریا', 'صورت', 'همیشه', 'مان', 'کود', '##اهد', '##روع', 'ظ', 'حالا', 'رسید', '##خم', '##یری', 'خار', 'پو', '##فاده', 'دقی', 'پسر', 'بودم', 'کاری', 'میدهد', '##نین', 'بع', 'سخ', 'چش', 'گو', 'گی', 'هوا', 'پشت', 'وارد', 'همین', 'تصمیم', '##اسی', 'زبان', '##شون', 'جل', 'نگاه', 'هنوز', '##مه', '##ایه', '##ینی', 'وا', '##گیری', 'کمک', '##الت', 'تش', 'طول', 'نسبت', 'داشته', '##لاق', '##گری', 'شعر', 'بالا', '##یره', 'اخ', 'شن', 'قد', 'نکن', 'دارند', 'استفاده', '##رسی', 'جز', 'کوچ', 'شروع', 'واقعا', '##ایل', 'رد', 'باشه', 'خوبی', '##اص', '##اشی', 'درد', 'میگ', 'جهان', '##زین', 'مرت', 'چهار', 'دن', 'شا', 'برو', 'مرگ', 'داری', 'فیلم', '##ضا', '##طی', '##وع', '##هاش', '##گار', 'اش', 'اه', 'درآ', 'قط', '##گذار', 'میخ', 'همهی', '##تش', 'خواست', 'نداشت', 'حی', 'مص', 'تاب', 'شوهر', '##خص', '##شه', 'ژ', '##ومی', '##ونم', 'حل', 'سفر', 'داره', 'دنبال', 'چندین', '##امی', 'حر', 'شنا', 'رفتن', 'ممکن', 'پلیس', 'اب', 'سخن', 'میآ', 'تنها', 'صحبت', 'قابل', '##خر', 'داریم', 'زیادی', 'سربازان', '.', 'تغی', 'نزدی', 'ست', 'مشک', 'چطور', 'تی', 'پرس', '##اتی', 'اعت', 'دیر', 'میشه', 'سازمان', 'عن', 'خون', 'دنی', 'نگه', 'زمان', '##جب', '##بیل', '##نگی', 'دید', 'عمل', 'مخت', '##ندگان', 'پیدا', 'کشید', 'مل', 'تلف', 'دارای', 'پیشنه', 'تک', '##رانی', 'خاک', '##ذیر', 'قر', '##انهی', 'کاملا', 'ساختمان', '##سب', 'تف', 'نف', 'لباس', '##حت', '##ورم', '##داری', '##سانی', 'انداخت', '##سد', 'حا', 'لی', '##اندن', '##ندهی', 'ماه', 'میکنم', '##زن', 'کر', 'اگه', 'ترس', 'چقدر', '##چی', '##روی', 'دشم', 'موق', 'بهتر', 'ماهی', 'دیوار', '##تم', '##افی', '##برد', 'غذ', 'کا', 'زیب', 'منظ', 'خانو', 'پاسخ', 'تاریخ', '##ابی', '##ازم', 'طرف', 'دربار', '##اح', '##خصی', 'چشمان', '##لف', '##دود', 'آی', 'پن', '##مرد', 'قدر', 'هفت', 'عنوان', '##دام', 'بح', 'هو', 'پز', '##اران', '##خورد', 'حتی', 'برادر', 'پرداخت', 'ور', 'سرم', 'ایست', 'خودت', 'دشمن', 'نزدیک', 'حرفهای', 'میکردند', 'پیشنهاد', '##شن', '##ریف', 'پل', '##وشید', 'صدا', 'اینکه', 'خانهی', 'گرفته', '##راز', 'کف', 'نفر', 'کنار', 'کردیم', 'برنامه', '##وط', '##گز', '##عات', '##ایید', '##داشت', 'تول', 'شور', 'فرد', 'اصلا', 'حقوق', '##مو', '##بور', 'بال', 'برف', 'گرفتن', '##سل', '##امل', 'اک', 'مذ', 'باد', 'تند', 'مهم', 'موف', 'شاید', 'تغییر', '##وله', 'حم', 'مغ', 'سری', 'توانید', '##شد', 'احس', 'تیم', 'شاه', 'قان', 'نکرد', '##غل', '##نش', '##ریک', '##کاری', 'تما', 'مشت', 'کلی', 'خونه', 'دوباره', 'دربارهی', 'نمیتوان', '##راند', 'آدم', '▁', '##ا', '##ی', '##ر', '##د', '##ن', '##م', '##و', '##ه', '##ت', '##ب', '##س', '##ک', '##ش', '##ل', '##ز', '##خ', '##.', '##گ', '##ف', '##ق', '##پ', '##ج', '##ع', '##ح', '##چ', '##آ', '##ص', '##ط', '##،', '##؟', '##غ', '##ض', '##ذ', '##ظ', '##ث', '##!', '##ئ', '##ژ', '##:', '##-', '##\"', '##«', '##»', '##a', '##e', '##t', '##r', '##n', '##s', '##i', '##c', '##o', '##,', '##h', '##l', '##u', '##؛', '##(', '##)', '##b', '##d', '##m', '##g', '##k', '##p', '##w', '##y', '##f', '##x', '##–', '##q', '##v', '##&', \"##'\", '##=', '##z']\n"
     ]
    }
   ],
   "source": [
    "TOKENIZER_DIR = f\"{tokenizer_dir}/tokenizer_spe_{TOKENIZER_TYPE}_v{VOCAB_SIZE}/\"\n",
    "print(\"Tokenizer directory :\", TOKENIZER_DIR)\n",
    "\n",
    "with open(os.path.join(TOKENIZER_DIR, 'tokenizer.vocab')) as f:\n",
    "      tokens = f.readlines()\n",
    "\n",
    "num_tokens = len(tokens)\n",
    "print(\"Number of tokens : \", num_tokens)\n",
    "\n",
    "with open(os.path.join(TOKENIZER_DIR, 'vocab.txt')) as f:\n",
    "      vocab = f.read()\n",
    "print(vocab.split())"
   ]
  },
  {
   "cell_type": "markdown",
   "id": "48d74ed4-16e0-49c1-b63f-fc11686cc575",
   "metadata": {},
   "source": [
    "# load english pretrained model"
   ]
  },
  {
   "cell_type": "code",
   "execution_count": 1,
   "id": "81c2a65d-7777-471d-9a78-610cda660c4c",
   "metadata": {
    "execution": {
     "iopub.execute_input": "2025-07-20T09:48:24.622951Z",
     "iopub.status.busy": "2025-07-20T09:48:24.622782Z",
     "iopub.status.idle": "2025-07-20T09:48:29.098245Z",
     "shell.execute_reply": "2025-07-20T09:48:29.097709Z",
     "shell.execute_reply.started": "2025-07-20T09:48:24.622938Z"
    }
   },
   "outputs": [],
   "source": [
    "from omegaconf import OmegaConf, open_dict\n",
    "from nemo.collections.asr.models import EncDecHybridRNNTCTCBPEModel\n",
    "from nemo.utils import logging, exp_manager"
   ]
  },
  {
   "cell_type": "code",
   "execution_count": 2,
   "id": "ab77406e-1a34-4871-804c-e2876278127a",
   "metadata": {
    "execution": {
     "iopub.execute_input": "2025-07-20T09:48:29.099103Z",
     "iopub.status.busy": "2025-07-20T09:48:29.098713Z",
     "iopub.status.idle": "2025-07-20T09:48:33.045391Z",
     "shell.execute_reply": "2025-07-20T09:48:33.044863Z",
     "shell.execute_reply.started": "2025-07-20T09:48:29.099088Z"
    },
    "scrolled": true
   },
   "outputs": [
    {
     "name": "stdout",
     "output_type": "stream",
     "text": [
      "[NeMo I 2025-07-20 09:48:29 nemo_logging:393] Found existing object /home/jovyan/.cache/torch/NeMo/NeMo_2.3.2/stt_en_fastconformer_hybrid_large_pc/465b32000fc320f5905fda11a1866ef6/stt_en_fastconformer_hybrid_large_pc.nemo.\n",
      "[NeMo I 2025-07-20 09:48:29 nemo_logging:393] Re-using file from: /home/jovyan/.cache/torch/NeMo/NeMo_2.3.2/stt_en_fastconformer_hybrid_large_pc/465b32000fc320f5905fda11a1866ef6/stt_en_fastconformer_hybrid_large_pc.nemo\n",
      "[NeMo I 2025-07-20 09:48:29 nemo_logging:393] Instantiating model from pre-trained checkpoint\n",
      "[NeMo I 2025-07-20 09:48:29 nemo_logging:393] Tokenizer SentencePieceTokenizer initialized with 1024 tokens\n"
     ]
    },
    {
     "name": "stderr",
     "output_type": "stream",
     "text": [
      "[NeMo W 2025-07-20 09:48:30 nemo_logging:405] If you intend to do training or fine-tuning, please call the ModelPT.setup_training_data() method and provide a valid configuration file to setup the train data loader.\n",
      "    Train config : \n",
      "    is_concat: false\n",
      "    concat_sampling_technique: random\n",
      "    concat_sampling_temperature: 8\n",
      "    concat_shuffle: true\n",
      "    concat_sampling_scale: 1.0\n",
      "    manifest_filepath:\n",
      "    - - /data/mml/en/tarred_train/pcstrip_sharded_manifests/manifest__OP_0..511_CL_.json\n",
      "    tarred_audio_filepaths:\n",
      "    - - /data/mml/en/tarred_train/audio__OP_0..511_CL_.tar\n",
      "    concat_sampling_probabilities:\n",
      "    - 1.0\n",
      "    sample_rate: 16000\n",
      "    batch_size: 16\n",
      "    shuffle: true\n",
      "    num_workers: 8\n",
      "    pin_memory: true\n",
      "    use_start_end_token: false\n",
      "    trim_silence: false\n",
      "    max_duration: 20\n",
      "    min_duration: 0.1\n",
      "    is_tarred: true\n",
      "    shard_manifests: true\n",
      "    defer_setup: true\n",
      "    shuffle_n: 528387\n",
      "    bucketing_strategy: synced_randomized\n",
      "    bucketing_batch_size: null\n",
      "    \n",
      "[NeMo W 2025-07-20 09:48:30 nemo_logging:405] If you intend to do validation, please call the ModelPT.setup_validation_data() or ModelPT.setup_multiple_validation_data() method and provide a valid configuration file to setup the validation data loader(s). \n",
      "    Validation config : \n",
      "    ds_item:\n",
      "    - name: en_\n",
      "      is_concat: true\n",
      "      concat_sampling_technique: random\n",
      "      concat_sampling_seed: 1234\n",
      "      concat_shuffle: false\n",
      "      concat_sampling_scale: 0.25\n",
      "      concat_sampling_probabilities:\n",
      "      - 0.088929287\n",
      "      - 0.116404906\n",
      "      - 0.101879436\n",
      "      - 0.171855007\n",
      "      - 0.160962192\n",
      "      - 0.092674082\n",
      "      - 0.041152255\n",
      "      - 0.226142835\n",
      "      manifest_filepath:\n",
      "      - - /data/mml/en/val_test/fisher/audio_manifest_dev_clean_pcstrip_en.json\n",
      "        - /data/mml/en/val_test/europarl/audio_manifest_dev_clean_pcstrip_en.json\n",
      "        - /data/mml/en/val_test/librispeech/audio_manifest_dev_clean_pcstrip_en.json\n",
      "        - /data/mml/en/val_test/mcv11/audio_manifest_dev_clean_pcstrip_en.json\n",
      "        - /data/mml/en/val_test/nsc1/audio_manifest_dev_clean_pcstrip_en.json\n",
      "        - /data/mml/en/val_test/SPGI/audio_manifest_dev_clean_pcstrip_en.json\n",
      "        - /data/mml/en/val_test/voxpopuli/audio_manifest_dev_clean_pcstrip_en.json\n",
      "        - /data/mml/en/val_test/mls_dev/mls_dev_pcstrip_en.json\n",
      "      sample_rate: 16000\n",
      "      batch_size: 64\n",
      "      shuffle: false\n",
      "      num_workers: 1\n",
      "      pin_memory: true\n",
      "      max_duration: 20.0\n",
      "      min_duration: 0.1\n",
      "      use_start_end_token: false\n",
      "    - name: fisher_\n",
      "      is_concat: false\n",
      "      manifest_filepath: /data/mml/en/val_test/fisher/audio_manifest_dev_clean_pcstrip_en.json\n",
      "      sample_rate: 16000\n",
      "      batch_size: 64\n",
      "      shuffle: false\n",
      "      num_workers: 1\n",
      "      pin_memory: true\n",
      "      max_duration: 20.0\n",
      "      min_duration: 0.1\n",
      "      use_start_end_token: false\n",
      "    - name: europarl_\n",
      "      is_concat: false\n",
      "      manifest_filepath: /data/mml/en/val_test/europarl/audio_manifest_dev_clean_pcstrip_en.json\n",
      "      sample_rate: 16000\n",
      "      batch_size: 64\n",
      "      shuffle: false\n",
      "      num_workers: 1\n",
      "      pin_memory: true\n",
      "      max_duration: 20.0\n",
      "      min_duration: 0.1\n",
      "      use_start_end_token: false\n",
      "    - name: librispeech_\n",
      "      is_concat: false\n",
      "      manifest_filepath: /data/mml/en/val_test/librispeech/audio_manifest_dev_clean_pcstrip_en.json\n",
      "      sample_rate: 16000\n",
      "      batch_size: 64\n",
      "      shuffle: false\n",
      "      num_workers: 1\n",
      "      pin_memory: true\n",
      "      max_duration: 20.0\n",
      "      min_duration: 0.1\n",
      "      use_start_end_token: false\n",
      "    - name: mcv11_\n",
      "      is_concat: false\n",
      "      manifest_filepath: /data/mml/en/val_test/mcv11/audio_manifest_dev_clean_pcstrip_en.json\n",
      "      sample_rate: 16000\n",
      "      batch_size: 64\n",
      "      shuffle: false\n",
      "      num_workers: 1\n",
      "      pin_memory: true\n",
      "      max_duration: 20.0\n",
      "      min_duration: 0.1\n",
      "      use_start_end_token: false\n",
      "    - name: nsc1_\n",
      "      is_concat: false\n",
      "      manifest_filepath: /data/mml/en/val_test/nsc1/audio_manifest_dev_clean_pcstrip_en.json\n",
      "      sample_rate: 16000\n",
      "      batch_size: 64\n",
      "      shuffle: false\n",
      "      num_workers: 1\n",
      "      pin_memory: true\n",
      "      max_duration: 20.0\n",
      "      min_duration: 0.1\n",
      "      use_start_end_token: false\n",
      "    - name: spgi_\n",
      "      is_concat: false\n",
      "      manifest_filepath: /data/mml/en/val_test/SPGI/audio_manifest_dev_clean_pcstrip_en.json\n",
      "      sample_rate: 16000\n",
      "      batch_size: 64\n",
      "      shuffle: false\n",
      "      num_workers: 1\n",
      "      pin_memory: true\n",
      "      max_duration: 20.0\n",
      "      min_duration: 0.1\n",
      "      use_start_end_token: false\n",
      "    - name: voxpopuli_\n",
      "      is_concat: false\n",
      "      manifest_filepath: /data/mml/en/val_test/voxpopuli/audio_manifest_dev_clean_pcstrip_en.json\n",
      "      sample_rate: 16000\n",
      "      batch_size: 64\n",
      "      shuffle: false\n",
      "      num_workers: 1\n",
      "      pin_memory: true\n",
      "      max_duration: 20.0\n",
      "      min_duration: 0.1\n",
      "      use_start_end_token: false\n",
      "    - name: mls_\n",
      "      is_concat: false\n",
      "      manifest_filepath: /data/mml/en/val_test/mls_dev/mls_dev_pcstrip_en.json\n",
      "      sample_rate: 16000\n",
      "      batch_size: 64\n",
      "      shuffle: false\n",
      "      num_workers: 1\n",
      "      pin_memory: true\n",
      "      max_duration: 20.0\n",
      "      min_duration: 0.1\n",
      "      use_start_end_token: false\n",
      "    max_duration: 20\n",
      "    \n",
      "[NeMo W 2025-07-20 09:48:30 nemo_logging:405] Please call the ModelPT.setup_test_data() or ModelPT.setup_multiple_test_data() method and provide a valid configuration file to setup the test data loader(s).\n",
      "    Test config : \n",
      "    manifest_filepath: null\n",
      "    sample_rate: 16000\n",
      "    batch_size: 16\n",
      "    shuffle: false\n",
      "    num_workers: 8\n",
      "    pin_memory: true\n",
      "    use_start_end_token: false\n",
      "    \n"
     ]
    },
    {
     "name": "stdout",
     "output_type": "stream",
     "text": [
      "[NeMo I 2025-07-20 09:48:30 nemo_logging:393] PADDING: 0\n",
      "[NeMo I 2025-07-20 09:48:31 nemo_logging:393] Using RNNT Loss : warprnnt_numba\n",
      "    Loss warprnnt_numba_kwargs: {'fastemit_lambda': 0.0, 'clamp': -1.0}\n",
      "[NeMo I 2025-07-20 09:48:31 nemo_logging:393] Using RNNT Loss : warprnnt_numba\n",
      "    Loss warprnnt_numba_kwargs: {'fastemit_lambda': 0.0, 'clamp': -1.0}\n",
      "[NeMo I 2025-07-20 09:48:31 nemo_logging:393] Using RNNT Loss : warprnnt_numba\n",
      "    Loss warprnnt_numba_kwargs: {'fastemit_lambda': 0.0, 'clamp': -1.0}\n",
      "[NeMo I 2025-07-20 09:48:32 nemo_logging:393] Model EncDecHybridRNNTCTCBPEModel was successfully restored from /home/jovyan/.cache/torch/NeMo/NeMo_2.3.2/stt_en_fastconformer_hybrid_large_pc/465b32000fc320f5905fda11a1866ef6/stt_en_fastconformer_hybrid_large_pc.nemo.\n"
     ]
    },
    {
     "name": "stderr",
     "output_type": "stream",
     "text": [
      "[NeMo W 2025-07-20 09:48:32 nemo_logging:405] You tried to register an artifact under config key=tokenizer.model_path but an artifact for it has already been registered.\n",
      "[NeMo W 2025-07-20 09:48:32 nemo_logging:405] You tried to register an artifact under config key=tokenizer.vocab_path but an artifact for it has already been registered.\n",
      "[NeMo W 2025-07-20 09:48:32 nemo_logging:405] You tried to register an artifact under config key=tokenizer.spe_tokenizer_vocab but an artifact for it has already been registered.\n"
     ]
    },
    {
     "name": "stdout",
     "output_type": "stream",
     "text": [
      "[NeMo I 2025-07-20 09:48:32 nemo_logging:393] Tokenizer SentencePieceTokenizer initialized with 1024 tokens\n",
      "[NeMo I 2025-07-20 09:48:32 nemo_logging:393] Using RNNT Loss : warprnnt_numba\n",
      "    Loss warprnnt_numba_kwargs: {'fastemit_lambda': 0.0, 'clamp': -1.0}\n",
      "[NeMo I 2025-07-20 09:48:32 nemo_logging:393] Changed tokenizer of the RNNT decoder to ['<unk>', '▁ب', '▁ا', '▁م', '▁د', '▁ک', 'را', 'ان', 'ار', 'ست', '▁ت', '▁خ', 'ای', 'ند', '▁ن', 'رد', '▁ش', '▁می', '▁و', '▁پ', 'ین', '▁را', '▁س', '▁به', 'ود', '▁ه', '▁ر', '▁او', 'ید', 'اد', '▁در', '▁آ', '▁با', '▁چ', '▁ج', '▁از', '▁است', '▁ز', 'های', '▁کرد', 'ام', 'یم', '▁این', '▁گ', 'ال', '▁ح', '▁خو', 'اه', 'یر', '▁ی', '▁که', 'ور', '▁ف', 'شت', '▁من', 'ون', 'فت', 'هی', '▁رو', '▁ق', 'لی', '▁شد', 'ها', '▁بر', '▁ع', 'اب', '▁بود', '▁تو', '▁هم', '▁کن', 'ری', '▁دار', '▁خود', '▁برا', 'از', 'خت', 'می', '▁یک', 'سی', '▁دو', 'رو', 'ات', '▁ص', '▁آن', 'نگ', '▁بی', '▁ل', '▁میک', 'وی', 'اری', '▁برای', 'لا', 'ران', 'مان', '▁سر', '▁ما', '▁مو', 'ما', 'اشت', '▁پی', 'ده', 'وان', 'ول', 'زی', '▁داد', 'گی', '▁کار', '▁نی', 'تر', 'بی', 'تی', 'انه', '▁دی', 'نی', '▁خواه', '▁تا', '▁کردن', 'انی', 'در', '▁پر', 'اس', 'گر', 'وش', '▁چه', '▁مح', 'نج', '▁ط', '▁شده', 'اق', 'ایی', '▁هست', '▁دست', 'رف', '▁چی', '▁بد', '▁دارد', 'خو', 'اید', '▁میش', '▁رفت', '▁مت', '▁نمی', '▁مر', '▁خی', '▁گر', '▁ای', '▁باش', 'وم', 'قی', '▁سا', '▁غ', 'دی', 'بر', 'اده', 'جا', '▁ند', 'اش', 'هر', '▁داشت', 'کن', 'اند', 'نده', '▁ام', 'گاه', '▁پس', '▁شما', 'دا', 'عی', 'له', '▁کش', 'کی', '▁مع', 'ره', '▁پیش', '▁بز', 'رم', '▁مرد', 'گه', 'عت', '▁روی', '▁نیست', 'شم', 'اره', '▁زی', 'نه', '▁ان', '▁تر', '▁کنم', 'کت', 'بت', 'اف', '▁سی', '▁هر', '▁روز', 'الی', 'وز', 'است', 'مد', '▁گرفت', 'به', 'اط', '▁خیلی', '▁نش', '▁کم', '▁میکند', '▁مس', '▁بخ', '▁راه', 'رار', '▁ات', '▁زد', '▁یه', 'گیر', 'لو', '▁دوست', 'یده', '▁فر', 'شک', '▁چند', 'فا', 'وری', 'لم', '▁زند', '▁سال', '▁رس', 'ارد', '▁باز', '▁باید', '▁حال', 'یش', 'توان', 'ههای', '▁صد', 'نا', '▁ده', 'قت', '▁نو', '▁تم', '▁مد', '▁کند', 'وت', 'مین', '▁یا', 'کر', '▁بیم', 'ادی', 'رای', '▁کرده', '▁تح', 'عد', 'خی', 'شی', '▁هی', '▁میکرد', 'نام', 'ورد', '▁زن', 'چه', '▁آنها', '▁دارم', '▁حرف', '▁مرا', '▁مج', 'وا', 'فر', '▁نه', '▁حس', '▁خوب', '▁شو', '▁پای', '▁میکن', 'که', '▁پول', '▁عم', '▁نم', '▁میشود', '▁همه', '▁آب', '▁خان', 'هم', '▁توان', '▁کنید', 'رگ', 'صی', 'وه', '▁نظ', '▁اون', 'سته', '▁تن', '▁بسی', 'اک', 'دم', '..', 'تاب', 'یدن', '▁سو', '▁اگر', '▁میز', '▁اس', 'ونی', '▁لط', '▁گفت', '▁خواهم', 'قه', '▁گذ', '▁تص', '▁شک', '▁نب', '▁نام', '▁اند', '▁پنج', 'وب', 'عه', 'بار', 'زار', '▁مخ', '▁برد', 'جه', '▁قرار', 'لت', '▁مید', '▁شر', '▁خواهد', '▁شدن', '▁میخو', 'وس', '▁لطفا', '▁زندگی', '▁نق', '▁کسی', '▁ساخت', '▁بل', '▁مق', 'اهی', 'بین', '▁آم', '▁هیچ', '▁پدر', '▁میتوان', 'دید', 'شتر', 'گان', '▁جم', '▁اد', '▁اف', 'با', 'گذ', '▁بده', '▁زمین', '▁صدای', '▁کردند', 'رش', '▁پیر', '▁نا', '▁چرا', 'سه', '▁دا', 'ستان', 'فی', 'کار', '▁بین', '▁تمام', 'بان', 'ونه', '▁تع', '▁تق', 'جود', '▁ری', '▁مش', '▁بزرگ', 'رات', '▁جه', 'رز', 'شین', '▁بسیار', '▁اینجا', '▁شهر', '▁کام', '▁دیگر', '▁ولی', '▁دل', '▁اح', '▁ال', '▁جنگ', '▁کتاب', '▁هستند', 'اخت', '▁جو', '▁کردم', '▁فکر', 'ترین', '▁واق', '▁خوش', '▁دور', '▁تل', '▁کی', '▁مث', '▁های', '▁اص', 'هایی', 'رت', 'ندی', '▁خط', '▁ساز', '▁بودند', '▁شب', '▁چیزی', 'وق', '▁ساعت', '▁صح', '▁هن', '▁خانه', '▁ها', 'وار', 'نامه', '▁بار', '▁خاط', '▁رنگ', '▁فق', '▁میده', 'بال', 'انش', 'لیس', 'مت', '▁بش', '▁کشور', '▁زیر', '▁فرو', '▁خورد', '▁بیشتر', '▁وجود', '▁بعد', '▁کجا', '▁اول', '▁جای', 'ازه', '▁خر', '▁انگ', '▁دری', 'وند', '▁رفتار', 'رام', '▁اج', '▁برخی', '▁حق', '▁نس', '▁دادن', '▁سه', '▁فی', '▁لب', '▁مورد', '▁هستم', '▁جن', '▁مه', '▁شود', '▁خدا', '▁کنیم', 'جی', '▁نز', '▁انج', '▁سب', '▁افت', 'مل', 'ویی', 'ضی', 'شان', '▁پار', '▁آورد', 'لام', 'گرد', 'ستم', '▁ض', 'کم', '▁آز', '▁روش', '▁وی', '▁چیز', 'یشه', 'طور', 'کان', '▁انت', '▁گوش', 'ورت', 'یدم', '▁پرو', '▁باشد', '▁نیاز', 'عا', '▁ماد', '▁نظر', 'کا', '▁،', 'باز', '▁مردم', '▁تب', '▁شع', '▁وق', '▁کو', '▁میر', 'ئی', 'دار', '▁بن', 'گران', 'هن', 'قدر', '▁مم', 'گو', 'لات', 'کرد', '▁خاطر', '▁انجام', 'ارم', 'راک', '▁گل', '▁بگیر', 'خانه', '▁خبر', '▁کنی', 'ابل', '▁بیر', '▁اتاق', '▁شرکت', 'رب', 'لب', '▁جلو', 'سم', '▁گرد', '▁جدید', '▁دیگه', 'اپ', '▁مست', 'زه', '▁قب', '▁بازی', '▁کنند', '▁زود', '▁سخت', '▁فقط', '▁داده', 'شتی', '▁شم', '▁شی', '▁پرد', '▁سنگ', '▁شیر', '▁ندارد', '▁یکی', 'باره', 'مانی', '▁جان', '▁بدون', '▁؟', '▁آمد', '▁بیا', 'رخ', 'نم', 'کس', 'تون', '▁اط', '▁بخش', 'ایش', '▁خواب', '▁درست', '▁ماشین', '▁میکنند', 'حی', '▁اع', '▁توی', 'نو', '▁بچه', '▁ایران', '▁یاد', '▁جوان', 'ایت', '▁شه', 'میم', '▁کل', '▁وقت', '▁تاری', '▁سرباز', 'کش', '▁سپ', '▁ببین', '▁وقتی', '▁پاس', '▁کمی', '▁ث', 'ستی', 'شته', 'فته', 'راب', '▁عق', '▁مط', '▁چون', '▁توانم', 'زد', 'ازی', '▁غیر', '▁حساب', '▁پوش', 'خته', 'سان', 'ندان', '▁چشم', '▁ذ', '▁پا', '▁دخت', '▁فرا', 'خش', 'غی', 'ارت', '▁تج', '▁ته', '▁مدر', '▁بلند', '▁بودن', '▁بیرون', '▁دارید', '▁بیماری', '▁جا', '▁سف', '▁رود', '▁گذاشت', 'پی', '▁خودش', '▁نبود', 'یمی', '▁برگ', '▁بست', '▁جام', '▁دولت', '▁توس', '▁مثل', '▁زیاد', 'یدا', '▁میان', '▁بیمار', 'فه', '▁زدن', '▁نشان', 'قا', '...', 'عیت', '▁خوراک', 'ثر', 'میز', '▁دانش', '▁دریا', '▁صورت', '▁همیشه', '▁مان', '▁کود', 'اهد', 'روع', '▁ظ', '▁حالا', '▁رسید', 'خم', 'یری', '▁خار', '▁پو', 'فاده', '▁دقی', '▁پسر', '▁بودم', '▁کاری', '▁میدهد', 'نین', '▁بع', '▁سخ', '▁چش', '▁گو', '▁گی', '▁هوا', '▁پشت', '▁وارد', '▁همین', '▁تصمیم', 'اسی', '▁زبان', 'شون', '▁جل', '▁نگاه', '▁هنوز', 'مه', 'ایه', 'ینی', '▁وا', 'گیری', '▁کمک', 'الت', '▁تش', '▁طول', '▁نسبت', '▁داشته', 'لاق', 'گری', '▁شعر', '▁بالا', 'یره', '▁اخ', '▁شن', '▁قد', '▁نکن', '▁دارند', '▁استفاده', 'رسی', '▁جز', '▁کوچ', '▁شروع', '▁واقعا', 'ایل', '▁رد', '▁باشه', '▁خوبی', 'اص', 'اشی', '▁درد', '▁میگ', '▁جهان', 'زین', '▁مرت', '▁چهار', '▁دن', '▁شا', '▁برو', '▁مرگ', '▁داری', '▁فیلم', 'ضا', 'طی', 'وع', 'هاش', 'گار', '▁اش', '▁اه', '▁درآ', '▁قط', 'گذار', '▁میخ', '▁همهی', 'تش', '▁خواست', '▁نداشت', '▁حی', '▁مص', '▁تاب', '▁شوهر', 'خص', 'شه', '▁ژ', 'ومی', 'ونم', '▁حل', '▁سفر', '▁داره', '▁دنبال', '▁چندین', 'امی', '▁حر', '▁شنا', '▁رفتن', '▁ممکن', '▁پلیس', '▁اب', '▁سخن', '▁میآ', '▁تنها', '▁صحبت', '▁قابل', 'خر', '▁داریم', '▁زیادی', '▁سربازان', '▁.', '▁تغی', '▁نزدی', '▁ست', '▁مشک', '▁چطور', '▁تی', '▁پرس', 'اتی', '▁اعت', '▁دیر', '▁میشه', '▁سازمان', '▁عن', '▁خون', '▁دنی', '▁نگه', '▁زمان', 'جب', 'بیل', 'نگی', '▁دید', '▁عمل', '▁مخت', 'ندگان', '▁پیدا', '▁کشید', '▁مل', '▁تلف', '▁دارای', '▁پیشنه', '▁تک', 'رانی', '▁خاک', 'ذیر', '▁قر', 'انهی', '▁کاملا', '▁ساختمان', 'سب', '▁تف', '▁نف', '▁لباس', 'حت', 'ورم', 'داری', 'سانی', '▁انداخت', 'سد', '▁حا', '▁لی', 'اندن', 'ندهی', '▁ماه', '▁میکنم', 'زن', '▁کر', '▁اگه', '▁ترس', '▁چقدر', 'چی', 'روی', '▁دشم', '▁موق', '▁بهتر', '▁ماهی', '▁دیوار', 'تم', 'افی', 'برد', '▁غذ', '▁کا', '▁زیب', '▁منظ', '▁خانو', '▁پاسخ', '▁تاریخ', 'ابی', 'ازم', '▁طرف', '▁دربار', 'اح', 'خصی', '▁چشمان', 'لف', 'دود', '▁آی', '▁پن', 'مرد', '▁قدر', '▁هفت', '▁عنوان', 'دام', '▁بح', '▁هو', '▁پز', 'اران', 'خورد', '▁حتی', '▁برادر', '▁پرداخت', '▁ور', '▁سرم', '▁ایست', '▁خودت', '▁دشمن', '▁نزدیک', '▁حرفهای', '▁میکردند', '▁پیشنهاد', 'شن', 'ریف', '▁پل', 'وشید', '▁صدا', '▁اینکه', '▁خانهی', '▁گرفته', 'راز', '▁کف', '▁نفر', '▁کنار', '▁کردیم', '▁برنامه', 'وط', 'گز', 'عات', 'ایید', 'داشت', '▁تول', '▁شور', '▁فرد', '▁اصلا', '▁حقوق', 'مو', 'بور', '▁بال', '▁برف', '▁گرفتن', 'سل', 'امل', '▁اک', '▁مذ', '▁باد', '▁تند', '▁مهم', '▁موف', '▁شاید', '▁تغییر', 'وله', '▁حم', '▁مغ', '▁سری', '▁توانید', 'شد', '▁احس', '▁تیم', '▁شاه', '▁قان', '▁نکرد', 'غل', 'نش', 'ریک', 'کاری', '▁تما', '▁مشت', '▁کلی', '▁خونه', '▁دوباره', '▁دربارهی', '▁نمیتوان', 'راند', '▁آدم', '▁', 'ا', 'ی', 'ر', 'د', 'ن', 'م', 'و', 'ه', 'ت', 'ب', 'س', 'ک', 'ش', 'ل', 'ز', 'خ', '.', 'گ', 'ف', 'ق', 'پ', 'ج', 'ع', 'ح', 'چ', 'آ', 'ص', 'ط', '،', '؟', 'غ', 'ض', 'ذ', 'ظ', 'ث', '!', 'ئ', 'ژ', ':', '-', '\"', '«', '»', 'a', 'e', 't', 'r', 'n', 's', 'i', 'c', 'o', ',', 'h', 'l', 'u', '؛', '(', ')', 'b', 'd', 'm', 'g', 'k', 'p', 'w', 'y', 'f', 'x', '–', 'q', 'v', '&', \"'\", '=', 'z'] vocabulary.\n",
      "[NeMo I 2025-07-20 09:48:32 nemo_logging:393] \n",
      "    Replacing old number of classes (1024) with new number of classes - 1024\n",
      "[NeMo I 2025-07-20 09:48:33 nemo_logging:393] Changed tokenizer of the CTC decoder to ['<unk>', '▁ب', '▁ا', '▁م', '▁د', '▁ک', 'را', 'ان', 'ار', 'ست', '▁ت', '▁خ', 'ای', 'ند', '▁ن', 'رد', '▁ش', '▁می', '▁و', '▁پ', 'ین', '▁را', '▁س', '▁به', 'ود', '▁ه', '▁ر', '▁او', 'ید', 'اد', '▁در', '▁آ', '▁با', '▁چ', '▁ج', '▁از', '▁است', '▁ز', 'های', '▁کرد', 'ام', 'یم', '▁این', '▁گ', 'ال', '▁ح', '▁خو', 'اه', 'یر', '▁ی', '▁که', 'ور', '▁ف', 'شت', '▁من', 'ون', 'فت', 'هی', '▁رو', '▁ق', 'لی', '▁شد', 'ها', '▁بر', '▁ع', 'اب', '▁بود', '▁تو', '▁هم', '▁کن', 'ری', '▁دار', '▁خود', '▁برا', 'از', 'خت', 'می', '▁یک', 'سی', '▁دو', 'رو', 'ات', '▁ص', '▁آن', 'نگ', '▁بی', '▁ل', '▁میک', 'وی', 'اری', '▁برای', 'لا', 'ران', 'مان', '▁سر', '▁ما', '▁مو', 'ما', 'اشت', '▁پی', 'ده', 'وان', 'ول', 'زی', '▁داد', 'گی', '▁کار', '▁نی', 'تر', 'بی', 'تی', 'انه', '▁دی', 'نی', '▁خواه', '▁تا', '▁کردن', 'انی', 'در', '▁پر', 'اس', 'گر', 'وش', '▁چه', '▁مح', 'نج', '▁ط', '▁شده', 'اق', 'ایی', '▁هست', '▁دست', 'رف', '▁چی', '▁بد', '▁دارد', 'خو', 'اید', '▁میش', '▁رفت', '▁مت', '▁نمی', '▁مر', '▁خی', '▁گر', '▁ای', '▁باش', 'وم', 'قی', '▁سا', '▁غ', 'دی', 'بر', 'اده', 'جا', '▁ند', 'اش', 'هر', '▁داشت', 'کن', 'اند', 'نده', '▁ام', 'گاه', '▁پس', '▁شما', 'دا', 'عی', 'له', '▁کش', 'کی', '▁مع', 'ره', '▁پیش', '▁بز', 'رم', '▁مرد', 'گه', 'عت', '▁روی', '▁نیست', 'شم', 'اره', '▁زی', 'نه', '▁ان', '▁تر', '▁کنم', 'کت', 'بت', 'اف', '▁سی', '▁هر', '▁روز', 'الی', 'وز', 'است', 'مد', '▁گرفت', 'به', 'اط', '▁خیلی', '▁نش', '▁کم', '▁میکند', '▁مس', '▁بخ', '▁راه', 'رار', '▁ات', '▁زد', '▁یه', 'گیر', 'لو', '▁دوست', 'یده', '▁فر', 'شک', '▁چند', 'فا', 'وری', 'لم', '▁زند', '▁سال', '▁رس', 'ارد', '▁باز', '▁باید', '▁حال', 'یش', 'توان', 'ههای', '▁صد', 'نا', '▁ده', 'قت', '▁نو', '▁تم', '▁مد', '▁کند', 'وت', 'مین', '▁یا', 'کر', '▁بیم', 'ادی', 'رای', '▁کرده', '▁تح', 'عد', 'خی', 'شی', '▁هی', '▁میکرد', 'نام', 'ورد', '▁زن', 'چه', '▁آنها', '▁دارم', '▁حرف', '▁مرا', '▁مج', 'وا', 'فر', '▁نه', '▁حس', '▁خوب', '▁شو', '▁پای', '▁میکن', 'که', '▁پول', '▁عم', '▁نم', '▁میشود', '▁همه', '▁آب', '▁خان', 'هم', '▁توان', '▁کنید', 'رگ', 'صی', 'وه', '▁نظ', '▁اون', 'سته', '▁تن', '▁بسی', 'اک', 'دم', '..', 'تاب', 'یدن', '▁سو', '▁اگر', '▁میز', '▁اس', 'ونی', '▁لط', '▁گفت', '▁خواهم', 'قه', '▁گذ', '▁تص', '▁شک', '▁نب', '▁نام', '▁اند', '▁پنج', 'وب', 'عه', 'بار', 'زار', '▁مخ', '▁برد', 'جه', '▁قرار', 'لت', '▁مید', '▁شر', '▁خواهد', '▁شدن', '▁میخو', 'وس', '▁لطفا', '▁زندگی', '▁نق', '▁کسی', '▁ساخت', '▁بل', '▁مق', 'اهی', 'بین', '▁آم', '▁هیچ', '▁پدر', '▁میتوان', 'دید', 'شتر', 'گان', '▁جم', '▁اد', '▁اف', 'با', 'گذ', '▁بده', '▁زمین', '▁صدای', '▁کردند', 'رش', '▁پیر', '▁نا', '▁چرا', 'سه', '▁دا', 'ستان', 'فی', 'کار', '▁بین', '▁تمام', 'بان', 'ونه', '▁تع', '▁تق', 'جود', '▁ری', '▁مش', '▁بزرگ', 'رات', '▁جه', 'رز', 'شین', '▁بسیار', '▁اینجا', '▁شهر', '▁کام', '▁دیگر', '▁ولی', '▁دل', '▁اح', '▁ال', '▁جنگ', '▁کتاب', '▁هستند', 'اخت', '▁جو', '▁کردم', '▁فکر', 'ترین', '▁واق', '▁خوش', '▁دور', '▁تل', '▁کی', '▁مث', '▁های', '▁اص', 'هایی', 'رت', 'ندی', '▁خط', '▁ساز', '▁بودند', '▁شب', '▁چیزی', 'وق', '▁ساعت', '▁صح', '▁هن', '▁خانه', '▁ها', 'وار', 'نامه', '▁بار', '▁خاط', '▁رنگ', '▁فق', '▁میده', 'بال', 'انش', 'لیس', 'مت', '▁بش', '▁کشور', '▁زیر', '▁فرو', '▁خورد', '▁بیشتر', '▁وجود', '▁بعد', '▁کجا', '▁اول', '▁جای', 'ازه', '▁خر', '▁انگ', '▁دری', 'وند', '▁رفتار', 'رام', '▁اج', '▁برخی', '▁حق', '▁نس', '▁دادن', '▁سه', '▁فی', '▁لب', '▁مورد', '▁هستم', '▁جن', '▁مه', '▁شود', '▁خدا', '▁کنیم', 'جی', '▁نز', '▁انج', '▁سب', '▁افت', 'مل', 'ویی', 'ضی', 'شان', '▁پار', '▁آورد', 'لام', 'گرد', 'ستم', '▁ض', 'کم', '▁آز', '▁روش', '▁وی', '▁چیز', 'یشه', 'طور', 'کان', '▁انت', '▁گوش', 'ورت', 'یدم', '▁پرو', '▁باشد', '▁نیاز', 'عا', '▁ماد', '▁نظر', 'کا', '▁،', 'باز', '▁مردم', '▁تب', '▁شع', '▁وق', '▁کو', '▁میر', 'ئی', 'دار', '▁بن', 'گران', 'هن', 'قدر', '▁مم', 'گو', 'لات', 'کرد', '▁خاطر', '▁انجام', 'ارم', 'راک', '▁گل', '▁بگیر', 'خانه', '▁خبر', '▁کنی', 'ابل', '▁بیر', '▁اتاق', '▁شرکت', 'رب', 'لب', '▁جلو', 'سم', '▁گرد', '▁جدید', '▁دیگه', 'اپ', '▁مست', 'زه', '▁قب', '▁بازی', '▁کنند', '▁زود', '▁سخت', '▁فقط', '▁داده', 'شتی', '▁شم', '▁شی', '▁پرد', '▁سنگ', '▁شیر', '▁ندارد', '▁یکی', 'باره', 'مانی', '▁جان', '▁بدون', '▁؟', '▁آمد', '▁بیا', 'رخ', 'نم', 'کس', 'تون', '▁اط', '▁بخش', 'ایش', '▁خواب', '▁درست', '▁ماشین', '▁میکنند', 'حی', '▁اع', '▁توی', 'نو', '▁بچه', '▁ایران', '▁یاد', '▁جوان', 'ایت', '▁شه', 'میم', '▁کل', '▁وقت', '▁تاری', '▁سرباز', 'کش', '▁سپ', '▁ببین', '▁وقتی', '▁پاس', '▁کمی', '▁ث', 'ستی', 'شته', 'فته', 'راب', '▁عق', '▁مط', '▁چون', '▁توانم', 'زد', 'ازی', '▁غیر', '▁حساب', '▁پوش', 'خته', 'سان', 'ندان', '▁چشم', '▁ذ', '▁پا', '▁دخت', '▁فرا', 'خش', 'غی', 'ارت', '▁تج', '▁ته', '▁مدر', '▁بلند', '▁بودن', '▁بیرون', '▁دارید', '▁بیماری', '▁جا', '▁سف', '▁رود', '▁گذاشت', 'پی', '▁خودش', '▁نبود', 'یمی', '▁برگ', '▁بست', '▁جام', '▁دولت', '▁توس', '▁مثل', '▁زیاد', 'یدا', '▁میان', '▁بیمار', 'فه', '▁زدن', '▁نشان', 'قا', '...', 'عیت', '▁خوراک', 'ثر', 'میز', '▁دانش', '▁دریا', '▁صورت', '▁همیشه', '▁مان', '▁کود', 'اهد', 'روع', '▁ظ', '▁حالا', '▁رسید', 'خم', 'یری', '▁خار', '▁پو', 'فاده', '▁دقی', '▁پسر', '▁بودم', '▁کاری', '▁میدهد', 'نین', '▁بع', '▁سخ', '▁چش', '▁گو', '▁گی', '▁هوا', '▁پشت', '▁وارد', '▁همین', '▁تصمیم', 'اسی', '▁زبان', 'شون', '▁جل', '▁نگاه', '▁هنوز', 'مه', 'ایه', 'ینی', '▁وا', 'گیری', '▁کمک', 'الت', '▁تش', '▁طول', '▁نسبت', '▁داشته', 'لاق', 'گری', '▁شعر', '▁بالا', 'یره', '▁اخ', '▁شن', '▁قد', '▁نکن', '▁دارند', '▁استفاده', 'رسی', '▁جز', '▁کوچ', '▁شروع', '▁واقعا', 'ایل', '▁رد', '▁باشه', '▁خوبی', 'اص', 'اشی', '▁درد', '▁میگ', '▁جهان', 'زین', '▁مرت', '▁چهار', '▁دن', '▁شا', '▁برو', '▁مرگ', '▁داری', '▁فیلم', 'ضا', 'طی', 'وع', 'هاش', 'گار', '▁اش', '▁اه', '▁درآ', '▁قط', 'گذار', '▁میخ', '▁همهی', 'تش', '▁خواست', '▁نداشت', '▁حی', '▁مص', '▁تاب', '▁شوهر', 'خص', 'شه', '▁ژ', 'ومی', 'ونم', '▁حل', '▁سفر', '▁داره', '▁دنبال', '▁چندین', 'امی', '▁حر', '▁شنا', '▁رفتن', '▁ممکن', '▁پلیس', '▁اب', '▁سخن', '▁میآ', '▁تنها', '▁صحبت', '▁قابل', 'خر', '▁داریم', '▁زیادی', '▁سربازان', '▁.', '▁تغی', '▁نزدی', '▁ست', '▁مشک', '▁چطور', '▁تی', '▁پرس', 'اتی', '▁اعت', '▁دیر', '▁میشه', '▁سازمان', '▁عن', '▁خون', '▁دنی', '▁نگه', '▁زمان', 'جب', 'بیل', 'نگی', '▁دید', '▁عمل', '▁مخت', 'ندگان', '▁پیدا', '▁کشید', '▁مل', '▁تلف', '▁دارای', '▁پیشنه', '▁تک', 'رانی', '▁خاک', 'ذیر', '▁قر', 'انهی', '▁کاملا', '▁ساختمان', 'سب', '▁تف', '▁نف', '▁لباس', 'حت', 'ورم', 'داری', 'سانی', '▁انداخت', 'سد', '▁حا', '▁لی', 'اندن', 'ندهی', '▁ماه', '▁میکنم', 'زن', '▁کر', '▁اگه', '▁ترس', '▁چقدر', 'چی', 'روی', '▁دشم', '▁موق', '▁بهتر', '▁ماهی', '▁دیوار', 'تم', 'افی', 'برد', '▁غذ', '▁کا', '▁زیب', '▁منظ', '▁خانو', '▁پاسخ', '▁تاریخ', 'ابی', 'ازم', '▁طرف', '▁دربار', 'اح', 'خصی', '▁چشمان', 'لف', 'دود', '▁آی', '▁پن', 'مرد', '▁قدر', '▁هفت', '▁عنوان', 'دام', '▁بح', '▁هو', '▁پز', 'اران', 'خورد', '▁حتی', '▁برادر', '▁پرداخت', '▁ور', '▁سرم', '▁ایست', '▁خودت', '▁دشمن', '▁نزدیک', '▁حرفهای', '▁میکردند', '▁پیشنهاد', 'شن', 'ریف', '▁پل', 'وشید', '▁صدا', '▁اینکه', '▁خانهی', '▁گرفته', 'راز', '▁کف', '▁نفر', '▁کنار', '▁کردیم', '▁برنامه', 'وط', 'گز', 'عات', 'ایید', 'داشت', '▁تول', '▁شور', '▁فرد', '▁اصلا', '▁حقوق', 'مو', 'بور', '▁بال', '▁برف', '▁گرفتن', 'سل', 'امل', '▁اک', '▁مذ', '▁باد', '▁تند', '▁مهم', '▁موف', '▁شاید', '▁تغییر', 'وله', '▁حم', '▁مغ', '▁سری', '▁توانید', 'شد', '▁احس', '▁تیم', '▁شاه', '▁قان', '▁نکرد', 'غل', 'نش', 'ریک', 'کاری', '▁تما', '▁مشت', '▁کلی', '▁خونه', '▁دوباره', '▁دربارهی', '▁نمیتوان', 'راند', '▁آدم', '▁', 'ا', 'ی', 'ر', 'د', 'ن', 'م', 'و', 'ه', 'ت', 'ب', 'س', 'ک', 'ش', 'ل', 'ز', 'خ', '.', 'گ', 'ف', 'ق', 'پ', 'ج', 'ع', 'ح', 'چ', 'آ', 'ص', 'ط', '،', '؟', 'غ', 'ض', 'ذ', 'ظ', 'ث', '!', 'ئ', 'ژ', ':', '-', '\"', '«', '»', 'a', 'e', 't', 'r', 'n', 's', 'i', 'c', 'o', ',', 'h', 'l', 'u', '؛', '(', ')', 'b', 'd', 'm', 'g', 'k', 'p', 'w', 'y', 'f', 'x', '–', 'q', 'v', '&', \"'\", '=', 'z'] vocabulary.\n",
      "[NeMo I 2025-07-20 09:48:33 nemo_logging:393] Decoder shapes matched - restored weights from pre-trained model\n"
     ]
    }
   ],
   "source": [
    "model_name = \"stt_en_fastconformer_hybrid_large_pc\"\n",
    "asr_model = EncDecHybridRNNTCTCBPEModel.from_pretrained(model_name=model_name)\n",
    "\n",
    "TOKENIZER_DIR = \"/home/jovyan/.cache/datasets/hsekhalilian___sorted_commonvoice/tokenizers/tokenizer_spe_bpe_v1024/\"\n",
    "pretrained_decoder = asr_model.decoder.state_dict()\n",
    "asr_model.cfg.labels = None\n",
    "asr_model.change_vocabulary(new_tokenizer_dir=TOKENIZER_DIR, new_tokenizer_type=\"bpe\")\n",
    "\n",
    "# Insert preserved model weights if shapes match\n",
    "if list(asr_model.decoder.state_dict().values())[0].shape == list(pretrained_decoder.values())[0].shape:\n",
    "    asr_model.decoder.load_state_dict(pretrained_decoder)\n",
    "    logging.info(\"Decoder shapes matched - restored weights from pre-trained model\")\n",
    "else:\n",
    "    logging.info(\"\\nDecoder shapes did not match - could not restore decoder weights from pre-trained model.\")"
   ]
  },
  {
   "cell_type": "code",
   "execution_count": 3,
   "id": "374fbf66-2515-4ebb-96da-ceaf2bc39e10",
   "metadata": {
    "execution": {
     "iopub.execute_input": "2025-07-20T09:48:33.046118Z",
     "iopub.status.busy": "2025-07-20T09:48:33.045923Z",
     "iopub.status.idle": "2025-07-20T09:48:33.052865Z",
     "shell.execute_reply": "2025-07-20T09:48:33.052190Z",
     "shell.execute_reply.started": "2025-07-20T09:48:33.046088Z"
    }
   },
   "outputs": [
    {
     "name": "stdout",
     "output_type": "stream",
     "text": [
      "[NeMo I 2025-07-20 09:48:33 nemo_logging:393] Model encoder has been frozen\n"
     ]
    }
   ],
   "source": [
    "import torch\n",
    "import torch.nn as nn\n",
    "\n",
    "def enable_bn_se(m):\n",
    "    if type(m) == nn.BatchNorm1d:\n",
    "        m.train()\n",
    "        for param in m.parameters():\n",
    "            param.requires_grad_(True)\n",
    "\n",
    "    if 'SqueezeExcite' in type(m).__name__:\n",
    "        m.train()\n",
    "        for param in m.parameters():\n",
    "            param.requires_grad_(True)\n",
    "     \n",
    "\n",
    "\n",
    "freeze_encoder = True\n",
    "freeze_encoder = bool(freeze_encoder)\n",
    "\n",
    "if freeze_encoder:\n",
    "  asr_model.encoder.freeze()\n",
    "  asr_model.encoder.apply(enable_bn_se)\n",
    "  logging.info(\"Model encoder has been frozen\")\n",
    "else:\n",
    "  asr_model.encoder.unfreeze()\n",
    "  logging.info(\"Model encoder has been un-frozen\")"
   ]
  },
  {
   "cell_type": "markdown",
   "id": "10080290-9778-4e6d-9828-a016880b1e1d",
   "metadata": {},
   "source": [
    "# update configs"
   ]
  },
  {
   "cell_type": "code",
   "execution_count": 4,
   "id": "9d8e3e6a-d4c1-4acb-9dde-8591812fe04e",
   "metadata": {
    "execution": {
     "iopub.execute_input": "2025-07-20T09:48:33.053674Z",
     "iopub.status.busy": "2025-07-20T09:48:33.053508Z",
     "iopub.status.idle": "2025-07-20T09:48:33.074391Z",
     "shell.execute_reply": "2025-07-20T09:48:33.073898Z",
     "shell.execute_reply.started": "2025-07-20T09:48:33.053662Z"
    }
   },
   "outputs": [],
   "source": [
    "cfg = OmegaConf.load(\"../configs/fastconformer_hybrid_transducer_ctc_bpe.yaml\")\n",
    "\n",
    "cfg.exp_manager.create_tensorboard_logger = False\n",
    "cfg.exp_manager.create_wandb_logger = True\n",
    "cfg.exp_manager.wandb_logger_kwargs = {\"name\": \"nemo_fastconformer\", \"project\": \"persian-asr\"}\n",
    "\n",
    "cfg.trainer.log_every_n_steps = 50"
   ]
  },
  {
   "cell_type": "code",
   "execution_count": 17,
   "id": "1d42a26d-32ab-434d-b366-225691f73c31",
   "metadata": {
    "execution": {
     "iopub.execute_input": "2025-07-20T09:49:28.346955Z",
     "iopub.status.busy": "2025-07-20T09:49:28.346010Z",
     "iopub.status.idle": "2025-07-20T09:49:29.891141Z",
     "shell.execute_reply": "2025-07-20T09:49:29.890671Z",
     "shell.execute_reply.started": "2025-07-20T09:49:28.346875Z"
    }
   },
   "outputs": [
    {
     "name": "stdout",
     "output_type": "stream",
     "text": [
      "[NeMo I 2025-07-20 09:49:29 nemo_logging:393] Dataset loaded with 30061 files totalling 34.08 hours\n",
      "[NeMo I 2025-07-20 09:49:29 nemo_logging:393] 0 files were filtered totalling 0.00 hours\n",
      "[NeMo I 2025-07-20 09:49:29 nemo_logging:393] Dataset loaded with 10540 files totalling 12.67 hours\n",
      "[NeMo I 2025-07-20 09:49:29 nemo_logging:393] 0 files were filtered totalling 0.00 hours\n",
      "[NeMo I 2025-07-20 09:49:29 nemo_logging:393] Dataset loaded with 10540 files totalling 12.09 hours\n",
      "[NeMo I 2025-07-20 09:49:29 nemo_logging:393] 0 files were filtered totalling 0.00 hours\n"
     ]
    }
   ],
   "source": [
    "train_manifest_cleaned = \"/home/jovyan/.cache/datasets/hsekhalilian___sorted_commonvoice/manifests/train_manifest_processed.json\"\n",
    "dev_manifest_cleaned = \"/home/jovyan/.cache/datasets/hsekhalilian___sorted_commonvoice/manifests/dev_manifest_processed.json\"\n",
    "test_manifest_cleaned = \"/home/jovyan/.cache/datasets/hsekhalilian___sorted_commonvoice/manifests/test_manifest_processed.json\"\n",
    "\n",
    "with open_dict(cfg):\n",
    "    cfg.model.tokenizer[\"dir\"] = TOKENIZER_DIR\n",
    "    \n",
    "    # Train dataset\n",
    "    cfg.model.train_ds.manifest_filepath = train_manifest_cleaned\n",
    "    cfg.model.train_ds.batch_size = 64\n",
    "    cfg.model.train_ds.num_workers = 1\n",
    "    \n",
    "    # Validation dataset\n",
    "    cfg.model.validation_ds.manifest_filepath = dev_manifest_cleaned\n",
    "    cfg.model.validation_ds.batch_size = 8\n",
    "    cfg.model.validation_ds.num_workers = 1\n",
    "    \n",
    "    # Test dataset\n",
    "    cfg.model.test_ds.manifest_filepath = test_manifest_cleaned\n",
    "    cfg.model.test_ds.batch_size = 8\n",
    "    cfg.model.test_ds.num_workers = 1\n",
    "\n",
    "cfg = OmegaConf.create(OmegaConf.to_container(cfg, resolve=True))\n",
    "\n",
    "asr_model.setup_training_data(cfg.model.train_ds)\n",
    "asr_model.setup_multiple_validation_data(cfg.model.validation_ds)\n",
    "asr_model.setup_multiple_test_data(cfg.model.test_ds)\n",
    "asr_model.cfg.tokenizer = cfg.model.tokenizer"
   ]
  },
  {
   "cell_type": "code",
   "execution_count": 18,
   "id": "eca23c79-1b20-4da0-ad85-cc8ac534735e",
   "metadata": {
    "execution": {
     "iopub.execute_input": "2025-07-20T09:49:29.892144Z",
     "iopub.status.busy": "2025-07-20T09:49:29.891915Z",
     "iopub.status.idle": "2025-07-20T09:49:29.943224Z",
     "shell.execute_reply": "2025-07-20T09:49:29.942827Z",
     "shell.execute_reply.started": "2025-07-20T09:49:29.892131Z"
    }
   },
   "outputs": [
    {
     "name": "stderr",
     "output_type": "stream",
     "text": [
      "GPU available: True (cuda), used: True\n",
      "TPU available: False, using: 0 TPU cores\n",
      "HPU available: False, using: 0 HPUs\n",
      "`Trainer(val_check_interval=1.0)` was configured so validation will run at the end of the training epoch..\n"
     ]
    },
    {
     "name": "stdout",
     "output_type": "stream",
     "text": [
      "[NeMo I 2025-07-20 09:49:29 nemo_logging:393] ExpManager schema\n",
      "[NeMo I 2025-07-20 09:49:29 nemo_logging:393] {'explicit_log_dir': None, 'exp_dir': None, 'name': None, 'version': None, 'use_datetime_version': True, 'resume_if_exists': False, 'resume_past_end': False, 'resume_ignore_no_checkpoint': False, 'resume_from_checkpoint': None, 'create_tensorboard_logger': True, 'summary_writer_kwargs': None, 'create_wandb_logger': False, 'wandb_logger_kwargs': None, 'create_mlflow_logger': False, 'mlflow_logger_kwargs': {'experiment_name': None, 'tracking_uri': None, 'tags': None, 'save_dir': './mlruns', 'prefix': '', 'artifact_location': None, 'run_id': None, 'log_model': False}, 'create_dllogger_logger': False, 'dllogger_logger_kwargs': {'verbose': False, 'stdout': False, 'json_file': './dllogger.json'}, 'create_clearml_logger': False, 'clearml_logger_kwargs': {'project': None, 'task': None, 'connect_pytorch': False, 'model_name': None, 'tags': None, 'log_model': False, 'log_cfg': False, 'log_metrics': False}, 'create_neptune_logger': False, 'neptune_logger_kwargs': None, 'create_checkpoint_callback': True, 'checkpoint_callback_params': {'filepath': None, 'dirpath': None, 'filename': None, 'monitor': 'val_loss', 'verbose': True, 'save_last': True, 'save_top_k': 3, 'save_weights_only': False, 'mode': 'min', 'auto_insert_metric_name': True, 'every_n_epochs': 1, 'every_n_train_steps': None, 'train_time_interval': None, 'prefix': None, 'postfix': '.nemo', 'save_best_model': False, 'always_save_nemo': False, 'save_nemo_on_train_end': True, 'model_parallel_size': None, 'save_on_train_epoch_end': False, 'async_save': False, 'save_last_n_optim_states': -1}, 'create_early_stopping_callback': False, 'early_stopping_callback_params': {'monitor': 'val_loss', 'mode': 'min', 'min_delta': 0.001, 'patience': 10, 'verbose': True, 'strict': True, 'check_finite': True, 'stopping_threshold': None, 'divergence_threshold': None, 'check_on_train_epoch_end': None, 'log_rank_zero_only': False}, 'create_preemption_callback': True, 'files_to_copy': None, 'log_step_timing': True, 'log_delta_step_timing': False, 'step_timing_kwargs': {'reduction': 'mean', 'sync_cuda': False, 'buffer_size': 1}, 'log_local_rank_0_only': False, 'log_global_rank_0_only': False, 'disable_validation_on_resume': True, 'ema': {'enable': False, 'decay': 0.999, 'cpu_offload': False, 'validate_original_weights': False, 'every_n_steps': 1}, 'max_time_per_run': None, 'seconds_to_sleep': 5.0, 'create_straggler_detection_callback': False, 'straggler_detection_params': {'report_time_interval': 300.0, 'calc_relative_gpu_perf': True, 'calc_individual_gpu_perf': True, 'num_gpu_perf_scores_to_log': 5, 'gpu_relative_perf_threshold': 0.7, 'gpu_individual_perf_threshold': 0.7, 'stop_if_detected': False}, 'create_fault_tolerance_callback': False, 'fault_tolerance': {'workload_check_interval': 5.0, 'initial_rank_heartbeat_timeout': 3600.0, 'rank_heartbeat_timeout': 2700.0, 'calculate_timeouts': True, 'safety_factor': 5.0, 'rank_termination_signal': <Signals.SIGKILL: 9>, 'log_level': 'INFO', 'max_rank_restarts': 0, 'max_subsequent_job_failures': 0, 'additional_ft_launcher_args': '', 'simulated_fault': None}, 'log_tflops_per_sec_per_gpu': True}\n",
      "[NeMo I 2025-07-20 09:49:29 nemo_logging:393] Experiments will be logged at /home/jovyan/projects/hse/git/asr-finetuning/notebooks/nemo_experiments/FastConformer-Hybrid-Transducer-CTC-BPE/2025-07-20_09-48-34\n",
      "[NeMo I 2025-07-20 09:49:29 nemo_logging:393] WandBLogger has been set up\n",
      "[NeMo I 2025-07-20 09:49:29 nemo_logging:393] TFLOPs per sec per GPU will be calculated, conditioned on supported models. Defaults to -1 upon failure.\n"
     ]
    }
   ],
   "source": [
    "import lightning.pytorch as pl\n",
    "from nemo.utils.exp_manager import exp_manager\n",
    "from nemo.utils.trainer_utils import resolve_trainer_cfg\n",
    "\n",
    "cfg.trainer.strategy = \"auto\"\n",
    "trainer = pl.Trainer(**resolve_trainer_cfg(cfg.trainer))\n",
    "\n",
    "exp_manager(trainer, cfg.get(\"exp_manager\", None))\n",
    "asr_model.set_trainer(trainer)"
   ]
  },
  {
   "cell_type": "code",
   "execution_count": 19,
   "id": "8910a8f8-e7d6-4393-86bc-5fb3937dabe1",
   "metadata": {
    "execution": {
     "iopub.execute_input": "2025-07-20T09:49:29.944009Z",
     "iopub.status.busy": "2025-07-20T09:49:29.943821Z",
     "iopub.status.idle": "2025-07-20T09:49:29.948905Z",
     "shell.execute_reply": "2025-07-20T09:49:29.948313Z",
     "shell.execute_reply.started": "2025-07-20T09:49:29.943990Z"
    }
   },
   "outputs": [
    {
     "name": "stdout",
     "output_type": "stream",
     "text": [
      "name: adamw\n",
      "lr: 5.0\n",
      "betas:\n",
      "- 0.9\n",
      "- 0.98\n",
      "weight_decay: 0.001\n",
      "sched:\n",
      "  name: NoamAnnealing\n",
      "  d_model: 512\n",
      "  warmup_steps: 10000\n",
      "  warmup_ratio: null\n",
      "  min_lr: 1.0e-06\n",
      "\n",
      "_target_: nemo.collections.asr.modules.SpectrogramAugmentation\n",
      "freq_masks: 2\n",
      "time_masks: 10\n",
      "freq_width: 27\n",
      "time_width: 0.05\n",
      "\n"
     ]
    }
   ],
   "source": [
    "print(OmegaConf.to_yaml(cfg.model.optim))\n",
    "print(OmegaConf.to_yaml(cfg.model.spec_augment))"
   ]
  },
  {
   "cell_type": "code",
   "execution_count": null,
   "id": "894b7570-ceda-4029-9e0f-fdb5b982ed25",
   "metadata": {
    "execution": {
     "iopub.execute_input": "2025-07-20T09:49:29.949914Z",
     "iopub.status.busy": "2025-07-20T09:49:29.949682Z"
    }
   },
   "outputs": [
    {
     "name": "stderr",
     "output_type": "stream",
     "text": [
      "LOCAL_RANK: 0 - CUDA_VISIBLE_DEVICES: [0]\n"
     ]
    },
    {
     "name": "stdout",
     "output_type": "stream",
     "text": [
      "[NeMo I 2025-07-20 09:49:30 nemo_logging:393] Optimizer config = AdamW (\n",
      "    Parameter Group 0\n",
      "        amsgrad: False\n",
      "        betas: [0.9, 0.98]\n",
      "        capturable: False\n",
      "        decoupled_weight_decay: True\n",
      "        differentiable: False\n",
      "        eps: 1e-08\n",
      "        foreach: None\n",
      "        fused: None\n",
      "        lr: 0.0005\n",
      "        maximize: False\n",
      "        weight_decay: 0.001\n",
      "    )\n",
      "[NeMo I 2025-07-20 09:49:30 nemo_logging:393] Scheduler \"<nemo.core.optim.lr_scheduler.CosineAnnealing object at 0x7139b5c6e090>\" \n",
      "    will be used during training (effective maximum steps = 470000) - \n",
      "    Parameters : \n",
      "    (warmup_steps: 1000\n",
      "    warmup_ratio: null\n",
      "    min_lr: 5.0e-05\n",
      "    max_steps: 470000\n",
      "    )\n"
     ]
    },
    {
     "name": "stderr",
     "output_type": "stream",
     "text": [
      "\n",
      "  | Name              | Type                              | Params | Mode \n",
      "--------------------------------------------------------------------------------\n",
      "0 | preprocessor      | AudioToMelSpectrogramPreprocessor | 0      | train\n",
      "1 | encoder           | ConformerEncoder                  | 108 M  | eval \n",
      "2 | spec_augmentation | SpectrogramAugmentation           | 0      | train\n",
      "3 | wer               | WER                               | 0      | train\n",
      "4 | ctc_wer           | WER                               | 0      | train\n",
      "5 | joint             | RNNTJoint                         | 1.4 M  | train\n",
      "6 | decoder           | RNNTDecoder                       | 3.9 M  | train\n",
      "7 | loss              | RNNTLoss                          | 0      | train\n",
      "8 | ctc_decoder       | ConvASRDecoder                    | 525 K  | train\n",
      "9 | ctc_loss          | CTCLoss                           | 0      | train\n",
      "--------------------------------------------------------------------------------\n",
      "5.9 M     Trainable params\n",
      "108 M     Non-trainable params\n",
      "114 M     Total params\n",
      "458.486   Total estimated model params size (MB)\n",
      "42        Modules in train mode\n",
      "473       Modules in eval mode\n",
      "[NeMo W 2025-07-20 09:49:30 nemo_logging:405] /opt/conda/lib/python3.12/site-packages/lightning/pytorch/trainer/connectors/data_connector.py:424: The 'train_dataloader' does not have many workers which may be a bottleneck. Consider increasing the value of the `num_workers` argument` to `num_workers=18` in the `DataLoader` to improve performance.\n",
      "    \n",
      "[NeMo W 2025-07-20 09:49:30 nemo_logging:405] /opt/conda/lib/python3.12/site-packages/lightning/pytorch/trainer/connectors/data_connector.py:424: The 'val_dataloader' does not have many workers which may be a bottleneck. Consider increasing the value of the `num_workers` argument` to `num_workers=18` in the `DataLoader` to improve performance.\n",
      "    \n"
     ]
    },
    {
     "data": {
      "application/vnd.jupyter.widget-view+json": {
       "model_id": "934cc27f9fa54a04b164124cf56f9fc0",
       "version_major": 2,
       "version_minor": 0
      },
      "text/plain": [
       "Training: |          | 0/? [00:00<?, ?it/s]"
      ]
     },
     "metadata": {},
     "output_type": "display_data"
    },
    {
     "name": "stdout",
     "output_type": "stream",
     "text": [
      "[NeMo I 2025-07-20 09:49:30 nemo_logging:393] Preemption requires torch distributed to be initialized, disabling preemption\n",
      "[NeMo I 2025-07-20 09:49:30 nemo_logging:393] Disabled CUDA graphs for module <class 'nemo.collections.asr.models.hybrid_rnnt_ctc_bpe_models.EncDecHybridRNNTCTCBPEModel'>.decoding.decoding\n",
      "[NeMo I 2025-07-20 09:49:30 nemo_logging:393] Disabled CUDA graphs for module <class 'nemo.collections.asr.metrics.wer.WER'>wer.decoding.decoding\n"
     ]
    },
    {
     "name": "stderr",
     "output_type": "stream",
     "text": [
      "[NeMo W 2025-07-20 09:49:30 nemo_logging:405] /opt/conda/lib/python3.12/site-packages/numba/cuda/dispatcher.py:536: NumbaPerformanceWarning: \u001b[1mGrid size 4 will likely result in GPU under-utilization due to low occupancy.\u001b[0m\n",
      "      warn(NumbaPerformanceWarning(msg))\n",
      "    \n",
      "[NeMo W 2025-07-20 09:49:30 nemo_logging:405] /opt/conda/lib/python3.12/site-packages/numba/cuda/dispatcher.py:536: NumbaPerformanceWarning: \u001b[1mGrid size 1 will likely result in GPU under-utilization due to low occupancy.\u001b[0m\n",
      "      warn(NumbaPerformanceWarning(msg))\n",
      "    \n"
     ]
    },
    {
     "name": "stdout",
     "output_type": "stream",
     "text": [
      "[NeMo I 2025-07-20 09:49:48 nemo_logging:393] \n",
      "    \n",
      "[NeMo I 2025-07-20 09:49:48 nemo_logging:393] reference:سبک تند و تیز نگارش او\n",
      "[NeMo I 2025-07-20 09:49:48 nemo_logging:393] predicted:گار\n",
      "[NeMo I 2025-07-20 09:49:48 nemo_logging:393] \n",
      "    \n",
      "[NeMo I 2025-07-20 09:49:48 nemo_logging:393] reference:خیار را معمولا در سالاد مصرف میکنند.\n",
      "[NeMo I 2025-07-20 09:49:48 nemo_logging:393] predicted:کامکارودزار\n",
      "[NeMo I 2025-07-20 09:49:48 nemo_logging:393] \n",
      "    \n",
      "[NeMo I 2025-07-20 09:49:48 nemo_logging:393] reference:پولها را روی میز پراند.\n",
      "[NeMo I 2025-07-20 09:49:48 nemo_logging:393] predicted:ذ کنی میگ\n",
      "[NeMo I 2025-07-20 09:49:48 nemo_logging:393] \n",
      "    \n",
      "[NeMo I 2025-07-20 09:49:48 nemo_logging:393] reference:عادت مذموم\n",
      "[NeMo I 2025-07-20 09:49:48 nemo_logging:393] predicted:تتت؟ تک\n",
      "[NeMo I 2025-07-20 09:49:48 nemo_logging:393] \n",
      "    \n",
      "[NeMo I 2025-07-20 09:49:48 nemo_logging:393] reference:مسئله یه چیز دیگه هست\n",
      "[NeMo I 2025-07-20 09:49:48 nemo_logging:393] predicted:متن\n",
      "[NeMo I 2025-07-20 09:49:48 nemo_logging:393] \n",
      "    \n",
      "[NeMo I 2025-07-20 09:49:48 nemo_logging:393] reference:هی می خواستم باهاش حرف بزنم نمی تونستم\n",
      "[NeMo I 2025-07-20 09:49:48 nemo_logging:393] predicted:تکزار\n",
      "[NeMo I 2025-07-20 09:49:48 nemo_logging:393] \n",
      "    \n",
      "[NeMo I 2025-07-20 09:49:48 nemo_logging:393] reference:دوستان و رفقای عزیزتر از جانم.\n",
      "[NeMo I 2025-07-20 09:49:48 nemo_logging:393] predicted:به مت مت\n",
      "[NeMo I 2025-07-20 09:49:48 nemo_logging:393] \n",
      "    \n",
      "[NeMo I 2025-07-20 09:49:48 nemo_logging:393] reference:ما بیش از یک ساعت منتظر بوده ایم.\n",
      "[NeMo I 2025-07-20 09:49:48 nemo_logging:393] predicted:اندن تک\n",
      "[NeMo I 2025-07-20 09:49:48 nemo_logging:393] \n",
      "    \n",
      "[NeMo I 2025-07-20 09:49:48 nemo_logging:393] reference:اون تمام شرایط رو داره\n",
      "[NeMo I 2025-07-20 09:49:48 nemo_logging:393] predicted:qوق\n",
      "[NeMo I 2025-07-20 09:49:48 nemo_logging:393] \n",
      "    \n",
      "[NeMo I 2025-07-20 09:49:48 nemo_logging:393] reference:جنس از گونه فراگیرتر است.\n",
      "[NeMo I 2025-07-20 09:49:48 nemo_logging:393] predicted:مت میگ\n",
      "[NeMo I 2025-07-20 09:49:49 nemo_logging:393] \n",
      "    \n",
      "[NeMo I 2025-07-20 09:49:49 nemo_logging:393] reference:جایی که ساعتها وقت را صرف نگاه کردن به آسمان میکردم\n",
      "[NeMo I 2025-07-20 09:49:49 nemo_logging:393] predicted:؟ متن توسنراند تک تک تک تک\n",
      "[NeMo I 2025-07-20 09:49:49 nemo_logging:393] \n",
      "    \n",
      "[NeMo I 2025-07-20 09:49:49 nemo_logging:393] reference:جعبهی جواهرات\n",
      "[NeMo I 2025-07-20 09:49:49 nemo_logging:393] predicted:هم؟\n",
      "[NeMo I 2025-07-20 09:49:49 nemo_logging:393] \n",
      "    \n",
      "[NeMo I 2025-07-20 09:49:49 nemo_logging:393] reference:چه نوع شرابی دارید؟\n",
      "[NeMo I 2025-07-20 09:49:49 nemo_logging:393] predicted:باره\n",
      "[NeMo I 2025-07-20 09:49:49 nemo_logging:393] \n",
      "    \n",
      "[NeMo I 2025-07-20 09:49:49 nemo_logging:393] reference:تزلزل روانی\n",
      "[NeMo I 2025-07-20 09:49:49 nemo_logging:393] predicted:همینن\n",
      "[NeMo I 2025-07-20 09:49:49 nemo_logging:393] \n",
      "    \n",
      "[NeMo I 2025-07-20 09:49:49 nemo_logging:393] reference:من به راکفلر سنتر می روم.\n",
      "[NeMo I 2025-07-20 09:49:49 nemo_logging:393] predicted:دم آستان چند همود\n",
      "[NeMo I 2025-07-20 09:49:49 nemo_logging:393] \n",
      "    \n",
      "[NeMo I 2025-07-20 09:49:49 nemo_logging:393] reference:چه کسی نقش اصلی را بازی می کند؟\n",
      "[NeMo I 2025-07-20 09:49:49 nemo_logging:393] predicted:ساخت کام\n"
     ]
    },
    {
     "name": "stderr",
     "output_type": "stream",
     "text": [
      "[NeMo W 2025-07-20 09:49:49 nemo_logging:405] CTC decoding strategy 'greedy' is slower than 'greedy_batch', which implements the same exact interface. Consider changing your strategy to 'greedy_batch' for a free performance improvement.\n"
     ]
    },
    {
     "name": "stdout",
     "output_type": "stream",
     "text": [
      "[NeMo I 2025-07-20 09:49:49 nemo_logging:393] \n",
      "    \n",
      "[NeMo I 2025-07-20 09:49:49 nemo_logging:393] reference:سبک تند و تیز نگارش او\n",
      "[NeMo I 2025-07-20 09:49:49 nemo_logging:393] predicted:دریرد چهار مرتندگان مرتضیعیت ق همهروع خون چشماندهت مشک همه جه بیرون ام اینجا کلی جهمیز اگه چشمان مس اگه چشمان\n",
      "[NeMo I 2025-07-20 09:50:07 nemo_logging:393] \n",
      "    \n",
      "[NeMo I 2025-07-20 09:50:07 nemo_logging:393] reference:تمام عمرم را منتظر ماندم تا پدرم از من عذرخواهی کند\n",
      "[NeMo I 2025-07-20 09:50:07 nemo_logging:393] predicted:\n",
      "[NeMo I 2025-07-20 09:50:07 nemo_logging:393] \n",
      "    \n",
      "[NeMo I 2025-07-20 09:50:07 nemo_logging:393] reference:وقتی امپراتوری روم به سمت جنوب در حال گسترش بود\n",
      "[NeMo I 2025-07-20 09:50:07 nemo_logging:393] predicted:\n",
      "[NeMo I 2025-07-20 09:50:08 nemo_logging:393] \n",
      "    \n",
      "[NeMo I 2025-07-20 09:50:08 nemo_logging:393] reference:من دوقلو دارم.\n",
      "[NeMo I 2025-07-20 09:50:08 nemo_logging:393] predicted:\n",
      "[NeMo I 2025-07-20 09:50:08 nemo_logging:393] \n",
      "    \n",
      "[NeMo I 2025-07-20 09:50:08 nemo_logging:393] reference:سوراخ کردن، شکاویدن\n",
      "[NeMo I 2025-07-20 09:50:08 nemo_logging:393] predicted:\n",
      "[NeMo I 2025-07-20 09:50:08 nemo_logging:393] \n",
      "    \n",
      "[NeMo I 2025-07-20 09:50:08 nemo_logging:393] reference:بیشکک\n",
      "[NeMo I 2025-07-20 09:50:08 nemo_logging:393] predicted:\n",
      "[NeMo I 2025-07-20 09:50:08 nemo_logging:393] \n",
      "    \n",
      "[NeMo I 2025-07-20 09:50:08 nemo_logging:393] reference:تلفن دارد زنگ میزند.\n",
      "[NeMo I 2025-07-20 09:50:08 nemo_logging:393] predicted:\n",
      "[NeMo I 2025-07-20 09:50:08 nemo_logging:393] \n",
      "    \n",
      "[NeMo I 2025-07-20 09:50:08 nemo_logging:393] reference:سانسورچی بخشی از فیلم را زد.\n",
      "[NeMo I 2025-07-20 09:50:08 nemo_logging:393] predicted:\n",
      "[NeMo I 2025-07-20 09:50:08 nemo_logging:393] \n",
      "    \n",
      "[NeMo I 2025-07-20 09:50:08 nemo_logging:393] reference:مرده پرستی کردن\n",
      "[NeMo I 2025-07-20 09:50:08 nemo_logging:393] predicted:\n",
      "[NeMo I 2025-07-20 09:50:08 nemo_logging:393] \n",
      "    \n",
      "[NeMo I 2025-07-20 09:50:08 nemo_logging:393] reference:تحویل پست به منازل دو روز متوقف شد.\n",
      "[NeMo I 2025-07-20 09:50:08 nemo_logging:393] predicted:\n",
      "[NeMo I 2025-07-20 09:50:08 nemo_logging:393] \n",
      "    \n",
      "[NeMo I 2025-07-20 09:50:08 nemo_logging:393] reference:گام زد\n",
      "[NeMo I 2025-07-20 09:50:08 nemo_logging:393] predicted:\n",
      "[NeMo I 2025-07-20 09:50:08 nemo_logging:393] \n",
      "    \n",
      "[NeMo I 2025-07-20 09:50:08 nemo_logging:393] reference:رضایت آگاهانه\n",
      "[NeMo I 2025-07-20 09:50:08 nemo_logging:393] predicted:\n",
      "[NeMo I 2025-07-20 09:50:08 nemo_logging:393] \n",
      "    \n",
      "[NeMo I 2025-07-20 09:50:08 nemo_logging:393] reference:پس ویروسی با وخامت بسیار کمتر است\n",
      "[NeMo I 2025-07-20 09:50:08 nemo_logging:393] predicted:\n",
      "[NeMo I 2025-07-20 09:50:08 nemo_logging:393] \n",
      "    \n",
      "[NeMo I 2025-07-20 09:50:08 nemo_logging:393] reference:چندین راه باریک جنگل را قطع میکرد.\n",
      "[NeMo I 2025-07-20 09:50:08 nemo_logging:393] predicted:\n",
      "[NeMo I 2025-07-20 09:50:08 nemo_logging:393] \n",
      "    \n",
      "[NeMo I 2025-07-20 09:50:08 nemo_logging:393] reference:تاج نادر شاه\n",
      "[NeMo I 2025-07-20 09:50:08 nemo_logging:393] predicted:\n",
      "[NeMo I 2025-07-20 09:50:08 nemo_logging:393] \n",
      "    \n",
      "[NeMo I 2025-07-20 09:50:08 nemo_logging:393] reference:پشتیبانی سرسختانه از یک اندیشه\n",
      "[NeMo I 2025-07-20 09:50:08 nemo_logging:393] predicted:\n",
      "[NeMo I 2025-07-20 09:50:08 nemo_logging:393] \n",
      "    \n",
      "[NeMo I 2025-07-20 09:50:08 nemo_logging:393] reference:خیابانی که در مرز پارک قرار دارد\n",
      "[NeMo I 2025-07-20 09:50:08 nemo_logging:393] predicted:\n",
      "[NeMo I 2025-07-20 09:50:08 nemo_logging:393] \n",
      "    \n",
      "[NeMo I 2025-07-20 09:50:08 nemo_logging:393] reference:تمام عمرم را منتظر ماندم تا پدرم از من عذرخواهی کند\n",
      "[NeMo I 2025-07-20 09:50:08 nemo_logging:393] predicted:پن موجه آن دشم مرتجهراتان چشماننج چشمانخی رفتار نکن رفتارورم رفتار بلند تع است جهاند خوب چشمان نسبتاندبی ن نزنج مت لطمانچهفیاند استفادهج آز عریفخم مرت اینجا خوراک اینجاجه فرو همه آبکش مو ممانش میخواده مرگ کردندزهندی\n",
      "[NeMo I 2025-07-20 09:50:27 nemo_logging:393] \n",
      "    \n",
      "[NeMo I 2025-07-20 09:50:27 nemo_logging:393] reference:بیماری درمان ناپذیر\n",
      "[NeMo I 2025-07-20 09:50:27 nemo_logging:393] predicted:\n",
      "[NeMo I 2025-07-20 09:50:27 nemo_logging:393] \n",
      "    \n",
      "[NeMo I 2025-07-20 09:50:27 nemo_logging:393] reference:مدارکتان را تحویل دهید\n",
      "[NeMo I 2025-07-20 09:50:27 nemo_logging:393] predicted:\n",
      "[NeMo I 2025-07-20 09:50:27 nemo_logging:393] \n",
      "    \n",
      "[NeMo I 2025-07-20 09:50:27 nemo_logging:393] reference:تو الان کجایی؟\n",
      "[NeMo I 2025-07-20 09:50:27 nemo_logging:393] predicted:\n",
      "[NeMo I 2025-07-20 09:50:27 nemo_logging:393] \n",
      "    \n",
      "[NeMo I 2025-07-20 09:50:27 nemo_logging:393] reference:پوست نگاشتی با مهر نادرشاه\n",
      "[NeMo I 2025-07-20 09:50:27 nemo_logging:393] predicted:\n",
      "[NeMo I 2025-07-20 09:50:27 nemo_logging:393] \n",
      "    \n",
      "[NeMo I 2025-07-20 09:50:27 nemo_logging:393] reference:چتر نجات ضمن نزدیک شدن به ساختمان شروع کرد به جمع شدن.\n",
      "[NeMo I 2025-07-20 09:50:27 nemo_logging:393] predicted:\n",
      "[NeMo I 2025-07-20 09:50:27 nemo_logging:393] \n",
      "    \n",
      "[NeMo I 2025-07-20 09:50:27 nemo_logging:393] reference:چون دو برادر سر تقسیم ارث اختلاف داشتند، سید مهدی را حکم قرار دادند.\n",
      "[NeMo I 2025-07-20 09:50:27 nemo_logging:393] predicted:\n",
      "[NeMo I 2025-07-20 09:50:27 nemo_logging:393] \n",
      "    \n",
      "[NeMo I 2025-07-20 09:50:27 nemo_logging:393] reference:راوی هر کس که میخواهد باشد، این حرف صحت ندارد.\n",
      "[NeMo I 2025-07-20 09:50:27 nemo_logging:393] predicted:\n",
      "[NeMo I 2025-07-20 09:50:27 nemo_logging:393] \n",
      "    \n",
      "[NeMo I 2025-07-20 09:50:27 nemo_logging:393] reference:جعفر یک جایی در لندن زندگی میکند.\n",
      "[NeMo I 2025-07-20 09:50:27 nemo_logging:393] predicted:\n",
      "[NeMo I 2025-07-20 09:50:27 nemo_logging:393] \n",
      "    \n",
      "[NeMo I 2025-07-20 09:50:27 nemo_logging:393] reference:اوه منم از اون میخوام\n",
      "[NeMo I 2025-07-20 09:50:27 nemo_logging:393] predicted:\n",
      "[NeMo I 2025-07-20 09:50:27 nemo_logging:393] \n",
      "    \n",
      "[NeMo I 2025-07-20 09:50:27 nemo_logging:393] reference:جسد او را از زیر برف درآوردند.\n",
      "[NeMo I 2025-07-20 09:50:27 nemo_logging:393] predicted:\n",
      "[NeMo I 2025-07-20 09:50:27 nemo_logging:393] \n",
      "    \n",
      "[NeMo I 2025-07-20 09:50:27 nemo_logging:393] reference:خواست سرنوشت چنین بوده است.\n",
      "[NeMo I 2025-07-20 09:50:27 nemo_logging:393] predicted:\n",
      "[NeMo I 2025-07-20 09:50:27 nemo_logging:393] \n",
      "    \n",
      "[NeMo I 2025-07-20 09:50:27 nemo_logging:393] reference:درد میکشیدم\n",
      "[NeMo I 2025-07-20 09:50:27 nemo_logging:393] predicted:\n",
      "[NeMo I 2025-07-20 09:50:27 nemo_logging:393] \n",
      "    \n",
      "[NeMo I 2025-07-20 09:50:27 nemo_logging:393] reference:من کنکور رو دادم بعده کنکور خیلی خشحال بودم چون امتحان رو عالی دادم\n",
      "[NeMo I 2025-07-20 09:50:27 nemo_logging:393] predicted:\n",
      "[NeMo I 2025-07-20 09:50:27 nemo_logging:393] \n",
      "    \n",
      "[NeMo I 2025-07-20 09:50:27 nemo_logging:393] reference:سرویس حبوبات\n",
      "[NeMo I 2025-07-20 09:50:27 nemo_logging:393] predicted:\n",
      "[NeMo I 2025-07-20 09:50:27 nemo_logging:393] \n",
      "    \n",
      "[NeMo I 2025-07-20 09:50:27 nemo_logging:393] reference:چهرهی خود را کج و معوج کردن\n",
      "[NeMo I 2025-07-20 09:50:27 nemo_logging:393] predicted:\n",
      "[NeMo I 2025-07-20 09:50:27 nemo_logging:393] \n",
      "    \n",
      "[NeMo I 2025-07-20 09:50:27 nemo_logging:393] reference:فرد پرسشگر، از لینوکس به جای کرنل مطرح وقت گنو استفاده میکرده است\n",
      "[NeMo I 2025-07-20 09:50:27 nemo_logging:393] predicted:\n",
      "[NeMo I 2025-07-20 09:50:27 nemo_logging:393] \n",
      "    \n",
      "[NeMo I 2025-07-20 09:50:27 nemo_logging:393] reference:بیماری درمان ناپذیر\n",
      "[NeMo I 2025-07-20 09:50:27 nemo_logging:393] predicted:غ آن هم فنگ شد شب رویوت قیر ویفه مشک زیر تاارتخ فون رفتار ظاش فرو یک!ینی خوب کاراستزهشیندی\n",
      "[NeMo I 2025-07-20 09:50:45 nemo_logging:393] \n",
      "    \n",
      "[NeMo I 2025-07-20 09:50:45 nemo_logging:393] reference:رسوم مذهبی\n",
      "[NeMo I 2025-07-20 09:50:45 nemo_logging:393] predicted:\n",
      "[NeMo I 2025-07-20 09:50:45 nemo_logging:393] \n",
      "    \n",
      "[NeMo I 2025-07-20 09:50:45 nemo_logging:393] reference:توطئهی قتل رییس جمهور\n",
      "[NeMo I 2025-07-20 09:50:45 nemo_logging:393] predicted:\n",
      "[NeMo I 2025-07-20 09:50:45 nemo_logging:393] \n",
      "    \n",
      "[NeMo I 2025-07-20 09:50:45 nemo_logging:393] reference:واردننده لی پول تحت عناوین مختلف میده\n",
      "[NeMo I 2025-07-20 09:50:45 nemo_logging:393] predicted:\n",
      "[NeMo I 2025-07-20 09:50:45 nemo_logging:393] \n",
      "    \n",
      "[NeMo I 2025-07-20 09:50:45 nemo_logging:393] reference:حاشیه آن کتاب را تذهیب کردهاند.\n",
      "[NeMo I 2025-07-20 09:50:45 nemo_logging:393] predicted:\n",
      "[NeMo I 2025-07-20 09:50:45 nemo_logging:393] \n",
      "    \n",
      "[NeMo I 2025-07-20 09:50:45 nemo_logging:393] reference:تو باید به وظایف خود نسبت به مادرت عمل کنی.\n",
      "[NeMo I 2025-07-20 09:50:45 nemo_logging:393] predicted:\n",
      "[NeMo I 2025-07-20 09:50:45 nemo_logging:393] \n",
      "    \n",
      "[NeMo I 2025-07-20 09:50:45 nemo_logging:393] reference:گیت یک کجاست؟\n",
      "[NeMo I 2025-07-20 09:50:45 nemo_logging:393] predicted:\n",
      "[NeMo I 2025-07-20 09:50:46 nemo_logging:393] \n",
      "    \n",
      "[NeMo I 2025-07-20 09:50:46 nemo_logging:393] reference:و کاشف سرزمینای دورافتاده در گروه پنجاه و چهار\n",
      "[NeMo I 2025-07-20 09:50:46 nemo_logging:393] predicted:\n",
      "[NeMo I 2025-07-20 09:50:46 nemo_logging:393] \n",
      "    \n",
      "[NeMo I 2025-07-20 09:50:46 nemo_logging:393] reference:پاستل نوعی تکنیک خشک است که ویژگی بافت مخملنما را دارد\n",
      "[NeMo I 2025-07-20 09:50:46 nemo_logging:393] predicted:\n",
      "[NeMo I 2025-07-20 09:50:46 nemo_logging:393] \n",
      "    \n",
      "[NeMo I 2025-07-20 09:50:46 nemo_logging:393] reference:مال فراوان گرد کردن\n",
      "[NeMo I 2025-07-20 09:50:46 nemo_logging:393] predicted:\n",
      "[NeMo I 2025-07-20 09:50:46 nemo_logging:393] \n",
      "    \n",
      "[NeMo I 2025-07-20 09:50:46 nemo_logging:393] reference:مسئولیت چه کسانی است؟ بوووم! این آدمها\n",
      "[NeMo I 2025-07-20 09:50:46 nemo_logging:393] predicted:\n",
      "[NeMo I 2025-07-20 09:50:46 nemo_logging:393] \n",
      "    \n",
      "[NeMo I 2025-07-20 09:50:46 nemo_logging:393] reference:تایپ کردن را به این اضافه کنید.\n",
      "[NeMo I 2025-07-20 09:50:46 nemo_logging:393] predicted:\n",
      "[NeMo I 2025-07-20 09:50:46 nemo_logging:393] \n",
      "    \n",
      "[NeMo I 2025-07-20 09:50:46 nemo_logging:393] reference:دکتره دستش بهش می رسه\n",
      "[NeMo I 2025-07-20 09:50:46 nemo_logging:393] predicted:\n",
      "[NeMo I 2025-07-20 09:50:46 nemo_logging:393] \n",
      "    \n",
      "[NeMo I 2025-07-20 09:50:46 nemo_logging:393] reference:ساعات عادی کار\n",
      "[NeMo I 2025-07-20 09:50:46 nemo_logging:393] predicted:\n",
      "[NeMo I 2025-07-20 09:50:46 nemo_logging:393] \n",
      "    \n",
      "[NeMo I 2025-07-20 09:50:46 nemo_logging:393] reference:من یک صفحه کلید جدید نیاز دارم.\n",
      "[NeMo I 2025-07-20 09:50:46 nemo_logging:393] predicted:\n",
      "[NeMo I 2025-07-20 09:50:46 nemo_logging:393] \n",
      "    \n",
      "[NeMo I 2025-07-20 09:50:46 nemo_logging:393] reference:زود به خانه رفتن\n",
      "[NeMo I 2025-07-20 09:50:46 nemo_logging:393] predicted:\n",
      "[NeMo I 2025-07-20 09:50:46 nemo_logging:393] \n",
      "    \n",
      "[NeMo I 2025-07-20 09:50:46 nemo_logging:393] reference:متنفذین شریر\n",
      "[NeMo I 2025-07-20 09:50:46 nemo_logging:393] predicted:\n",
      "[NeMo I 2025-07-20 09:50:46 nemo_logging:393] \n",
      "    \n",
      "[NeMo I 2025-07-20 09:50:46 nemo_logging:393] reference:رسوم مذهبی\n",
      "[NeMo I 2025-07-20 09:50:46 nemo_logging:393] predicted:سظونق آنن میج است پاس است خانک استیمه.\n",
      "[NeMo I 2025-07-20 09:51:04 nemo_logging:393] \n",
      "    \n",
      "[NeMo I 2025-07-20 09:51:04 nemo_logging:393] reference:ممکن است مرز مشترک داشته باشیم.\n",
      "[NeMo I 2025-07-20 09:51:04 nemo_logging:393] predicted:\n",
      "[NeMo I 2025-07-20 09:51:04 nemo_logging:393] \n",
      "    \n",
      "[NeMo I 2025-07-20 09:51:04 nemo_logging:393] reference:تا وقت هست قدری استراحت کردن\n",
      "[NeMo I 2025-07-20 09:51:04 nemo_logging:393] predicted:\n",
      "[NeMo I 2025-07-20 09:51:04 nemo_logging:393] \n",
      "    \n",
      "[NeMo I 2025-07-20 09:51:04 nemo_logging:393] reference:والا حرف منم هست. داره ازبین می بره خودش رو\n",
      "[NeMo I 2025-07-20 09:51:04 nemo_logging:393] predicted:\n",
      "[NeMo I 2025-07-20 09:51:04 nemo_logging:393] \n",
      "    \n",
      "[NeMo I 2025-07-20 09:51:04 nemo_logging:393] reference:نیاز دارم این شسته شود.\n",
      "[NeMo I 2025-07-20 09:51:04 nemo_logging:393] predicted:\n",
      "[NeMo I 2025-07-20 09:51:04 nemo_logging:393] \n",
      "    \n",
      "[NeMo I 2025-07-20 09:51:04 nemo_logging:393] reference:دلم گرفته از این شهر\n",
      "[NeMo I 2025-07-20 09:51:04 nemo_logging:393] predicted:\n",
      "[NeMo I 2025-07-20 09:51:04 nemo_logging:393] \n",
      "    \n",
      "[NeMo I 2025-07-20 09:51:04 nemo_logging:393] reference:نزدیک ترین داروخانه کجا است؟\n",
      "[NeMo I 2025-07-20 09:51:04 nemo_logging:393] predicted:\n",
      "[NeMo I 2025-07-20 09:51:05 nemo_logging:393] \n",
      "    \n",
      "[NeMo I 2025-07-20 09:51:05 nemo_logging:393] reference:در ده روز.\n",
      "[NeMo I 2025-07-20 09:51:05 nemo_logging:393] predicted:\n",
      "[NeMo I 2025-07-20 09:51:05 nemo_logging:393] \n",
      "    \n",
      "[NeMo I 2025-07-20 09:51:05 nemo_logging:393] reference:من یک میز در قسمت سیگاری ها می خواهم.\n",
      "[NeMo I 2025-07-20 09:51:05 nemo_logging:393] predicted:\n",
      "[NeMo I 2025-07-20 09:51:05 nemo_logging:393] \n",
      "    \n",
      "[NeMo I 2025-07-20 09:51:05 nemo_logging:393] reference:مگه نگفتم برو تو به سید کمک کن\n",
      "[NeMo I 2025-07-20 09:51:05 nemo_logging:393] predicted:\n",
      "[NeMo I 2025-07-20 09:51:05 nemo_logging:393] \n",
      "    \n",
      "[NeMo I 2025-07-20 09:51:05 nemo_logging:393] reference:کی من این حرف رو زدم؟\n",
      "[NeMo I 2025-07-20 09:51:05 nemo_logging:393] predicted:\n",
      "[NeMo I 2025-07-20 09:51:05 nemo_logging:393] \n",
      "    \n",
      "[NeMo I 2025-07-20 09:51:05 nemo_logging:393] reference:ده پوندی، لطفا.\n",
      "[NeMo I 2025-07-20 09:51:05 nemo_logging:393] predicted:\n",
      "[NeMo I 2025-07-20 09:51:05 nemo_logging:393] \n",
      "    \n",
      "[NeMo I 2025-07-20 09:51:05 nemo_logging:393] reference:پول در گردش، پول رایج\n",
      "[NeMo I 2025-07-20 09:51:05 nemo_logging:393] predicted:\n",
      "[NeMo I 2025-07-20 09:51:05 nemo_logging:393] \n",
      "    \n",
      "[NeMo I 2025-07-20 09:51:05 nemo_logging:393] reference:حسابی مورد بازخواست قرار گرفت.\n",
      "[NeMo I 2025-07-20 09:51:05 nemo_logging:393] predicted:\n",
      "[NeMo I 2025-07-20 09:51:05 nemo_logging:393] \n",
      "    \n",
      "[NeMo I 2025-07-20 09:51:05 nemo_logging:393] reference:پنج شرکت کننده شاهد عمل گستاخانهی یک آزمایشگر نسبت به کسی که برای تحقیق دیر رسیده بود میشدند\n",
      "[NeMo I 2025-07-20 09:51:05 nemo_logging:393] predicted:\n",
      "[NeMo I 2025-07-20 09:51:05 nemo_logging:393] \n",
      "    \n",
      "[NeMo I 2025-07-20 09:51:05 nemo_logging:393] reference:پس اون فقط یه مرد خوبه\n",
      "[NeMo I 2025-07-20 09:51:05 nemo_logging:393] predicted:\n",
      "[NeMo I 2025-07-20 09:51:05 nemo_logging:393] \n",
      "    \n",
      "[NeMo I 2025-07-20 09:51:05 nemo_logging:393] reference:تنها مرجع قابل قبول برای تعیین نام اندروید، توسعهدهنده اصلی آن است\n",
      "[NeMo I 2025-07-20 09:51:05 nemo_logging:393] predicted:\n",
      "[NeMo I 2025-07-20 09:51:05 nemo_logging:393] \n",
      "    \n",
      "[NeMo I 2025-07-20 09:51:05 nemo_logging:393] reference:ممکن است مرز مشترک داشته باشیم.\n",
      "[NeMo I 2025-07-20 09:51:05 nemo_logging:393] predicted:انورمزرابج یک رفتار بی استفییدمهیطجح که..؟\n",
      "[NeMo I 2025-07-20 09:51:23 nemo_logging:393] \n",
      "    \n",
      "[NeMo I 2025-07-20 09:51:23 nemo_logging:393] reference:تقریبا همهی قوانین کلی دارای استثناهای مربوط به خود میباشند.\n",
      "[NeMo I 2025-07-20 09:51:23 nemo_logging:393] predicted:\n",
      "[NeMo I 2025-07-20 09:51:24 nemo_logging:393] \n",
      "    \n",
      "[NeMo I 2025-07-20 09:51:24 nemo_logging:393] reference:سروان از سرهنگ پایینتر است.\n",
      "[NeMo I 2025-07-20 09:51:24 nemo_logging:393] predicted:\n",
      "[NeMo I 2025-07-20 09:51:24 nemo_logging:393] \n",
      "    \n",
      "[NeMo I 2025-07-20 09:51:24 nemo_logging:393] reference:تا بتونی راحت سر بخوری\n",
      "[NeMo I 2025-07-20 09:51:24 nemo_logging:393] predicted:\n",
      "[NeMo I 2025-07-20 09:51:24 nemo_logging:393] \n",
      "    \n",
      "[NeMo I 2025-07-20 09:51:24 nemo_logging:393] reference:پاد روندهای سیاسی\n",
      "[NeMo I 2025-07-20 09:51:24 nemo_logging:393] predicted:\n",
      "[NeMo I 2025-07-20 09:51:24 nemo_logging:393] \n",
      "    \n",
      "[NeMo I 2025-07-20 09:51:24 nemo_logging:393] reference:خوب اینجا چیکار میکنن؟\n",
      "[NeMo I 2025-07-20 09:51:24 nemo_logging:393] predicted:\n",
      "[NeMo I 2025-07-20 09:51:24 nemo_logging:393] \n",
      "    \n",
      "[NeMo I 2025-07-20 09:51:24 nemo_logging:393] reference:هر کسی میتواند یک نمونه از این شبکه برای خودش بسازد\n",
      "[NeMo I 2025-07-20 09:51:24 nemo_logging:393] predicted:\n",
      "[NeMo I 2025-07-20 09:51:24 nemo_logging:393] \n",
      "    \n",
      "[NeMo I 2025-07-20 09:51:24 nemo_logging:393] reference:میتونم رو مبلت بخوابم؟\n",
      "[NeMo I 2025-07-20 09:51:24 nemo_logging:393] predicted:\n",
      "[NeMo I 2025-07-20 09:51:24 nemo_logging:393] \n",
      "    \n",
      "[NeMo I 2025-07-20 09:51:24 nemo_logging:393] reference:رادیوی او هرگز از صدا باز نمیایستاد.\n",
      "[NeMo I 2025-07-20 09:51:24 nemo_logging:393] predicted:\n",
      "[NeMo I 2025-07-20 09:51:24 nemo_logging:393] \n",
      "    \n",
      "[NeMo I 2025-07-20 09:51:24 nemo_logging:393] reference:سه میلیارد دلار در سال هزینه دارد\n",
      "[NeMo I 2025-07-20 09:51:24 nemo_logging:393] predicted:\n",
      "[NeMo I 2025-07-20 09:51:24 nemo_logging:393] \n",
      "    \n",
      "[NeMo I 2025-07-20 09:51:24 nemo_logging:393] reference:شوهر سابق او\n",
      "[NeMo I 2025-07-20 09:51:24 nemo_logging:393] predicted:\n",
      "[NeMo I 2025-07-20 09:51:24 nemo_logging:393] \n",
      "    \n",
      "[NeMo I 2025-07-20 09:51:24 nemo_logging:393] reference:درصورتیکه مامان خودمن چندین برابربیشتر ازش،ازخودگذشتگی کرده،امااصلابه زبون نمیاره\n",
      "[NeMo I 2025-07-20 09:51:24 nemo_logging:393] predicted:\n",
      "[NeMo I 2025-07-20 09:51:24 nemo_logging:393] \n",
      "    \n",
      "[NeMo I 2025-07-20 09:51:24 nemo_logging:393] reference:پدرم مرا تنبیه کرد\n",
      "[NeMo I 2025-07-20 09:51:24 nemo_logging:393] predicted:\n",
      "[NeMo I 2025-07-20 09:51:24 nemo_logging:393] \n",
      "    \n",
      "[NeMo I 2025-07-20 09:51:24 nemo_logging:393] reference:موج سواری خوشایند است، اینطور نیست؟\n",
      "[NeMo I 2025-07-20 09:51:24 nemo_logging:393] predicted:\n",
      "[NeMo I 2025-07-20 09:51:24 nemo_logging:393] \n",
      "    \n",
      "[NeMo I 2025-07-20 09:51:24 nemo_logging:393] reference:قربان صدقهاش میرفتم چون محبت درمان را تکمیل میکرد\n",
      "[NeMo I 2025-07-20 09:51:24 nemo_logging:393] predicted:\n",
      "[NeMo I 2025-07-20 09:51:24 nemo_logging:393] \n",
      "    \n",
      "[NeMo I 2025-07-20 09:51:24 nemo_logging:393] reference:زنان پیر سنگرهای خیابانی را حفاظت میکردند.\n",
      "[NeMo I 2025-07-20 09:51:24 nemo_logging:393] predicted:\n",
      "[NeMo I 2025-07-20 09:51:24 nemo_logging:393] \n",
      "    \n",
      "[NeMo I 2025-07-20 09:51:24 nemo_logging:393] reference:ممکن است چند تا چینی سفید به من نشان بدهید؟\n",
      "[NeMo I 2025-07-20 09:51:24 nemo_logging:393] predicted:\n",
      "[NeMo I 2025-07-20 09:51:24 nemo_logging:393] \n",
      "    \n",
      "[NeMo I 2025-07-20 09:51:24 nemo_logging:393] reference:تقریبا همهی قوانین کلی دارای استثناهای مربوط به خود میباشند.\n",
      "[NeMo I 2025-07-20 09:51:24 nemo_logging:393] predicted:یهای بهنان از من که بهن تاان کهم درتن و را استش است از بهع راهایانوت و وتو راشم است.\n",
      "[NeMo I 2025-07-20 09:51:42 nemo_logging:393] \n",
      "    \n",
      "[NeMo I 2025-07-20 09:51:42 nemo_logging:393] reference:مربوط ساختن\n",
      "[NeMo I 2025-07-20 09:51:42 nemo_logging:393] predicted:\n",
      "[NeMo I 2025-07-20 09:51:42 nemo_logging:393] \n",
      "    \n",
      "[NeMo I 2025-07-20 09:51:42 nemo_logging:393] reference:حین گفتگو نکتهای را مورد بحث قرار دادن\n",
      "[NeMo I 2025-07-20 09:51:42 nemo_logging:393] predicted:\n",
      "[NeMo I 2025-07-20 09:51:42 nemo_logging:393] \n",
      "    \n",
      "[NeMo I 2025-07-20 09:51:42 nemo_logging:393] reference:جراحی ترمیمی، جراحی بازسازی\n",
      "[NeMo I 2025-07-20 09:51:42 nemo_logging:393] predicted:\n",
      "[NeMo I 2025-07-20 09:51:42 nemo_logging:393] \n",
      "    \n",
      "[NeMo I 2025-07-20 09:51:42 nemo_logging:393] reference:چرا داری او را سوسول بار میآوری؟\n",
      "[NeMo I 2025-07-20 09:51:42 nemo_logging:393] predicted:\n",
      "[NeMo I 2025-07-20 09:51:42 nemo_logging:393] \n",
      "    \n",
      "[NeMo I 2025-07-20 09:51:42 nemo_logging:393] reference:ریشههای درخت\n",
      "[NeMo I 2025-07-20 09:51:42 nemo_logging:393] predicted:\n",
      "[NeMo I 2025-07-20 09:51:42 nemo_logging:393] \n",
      "    \n",
      "[NeMo I 2025-07-20 09:51:42 nemo_logging:393] reference:متاسفم نمیتوانید.\n",
      "[NeMo I 2025-07-20 09:51:42 nemo_logging:393] predicted:من\n",
      "[NeMo I 2025-07-20 09:51:42 nemo_logging:393] \n",
      "    \n",
      "[NeMo I 2025-07-20 09:51:42 nemo_logging:393] reference:دماوند\n",
      "[NeMo I 2025-07-20 09:51:42 nemo_logging:393] predicted:من\n",
      "[NeMo I 2025-07-20 09:51:42 nemo_logging:393] \n",
      "    \n",
      "[NeMo I 2025-07-20 09:51:42 nemo_logging:393] reference:چسبندگی رنگ\n",
      "[NeMo I 2025-07-20 09:51:42 nemo_logging:393] predicted:\n",
      "[NeMo I 2025-07-20 09:51:42 nemo_logging:393] \n",
      "    \n",
      "[NeMo I 2025-07-20 09:51:42 nemo_logging:393] reference:بیا زود از اینجا برویم.\n",
      "[NeMo I 2025-07-20 09:51:42 nemo_logging:393] predicted:\n",
      "[NeMo I 2025-07-20 09:51:42 nemo_logging:393] \n",
      "    \n",
      "[NeMo I 2025-07-20 09:51:42 nemo_logging:393] reference:مرسول کردن\n",
      "[NeMo I 2025-07-20 09:51:42 nemo_logging:393] predicted:\n",
      "[NeMo I 2025-07-20 09:51:42 nemo_logging:393] \n",
      "    \n",
      "[NeMo I 2025-07-20 09:51:42 nemo_logging:393] reference:بیست کیلومتر دویدن کار کوچکی نیست.\n",
      "[NeMo I 2025-07-20 09:51:42 nemo_logging:393] predicted:\n",
      "[NeMo I 2025-07-20 09:51:43 nemo_logging:393] \n",
      "    \n",
      "[NeMo I 2025-07-20 09:51:43 nemo_logging:393] reference:متلخص\n",
      "[NeMo I 2025-07-20 09:51:43 nemo_logging:393] predicted:\n",
      "[NeMo I 2025-07-20 09:51:43 nemo_logging:393] \n",
      "    \n",
      "[NeMo I 2025-07-20 09:51:43 nemo_logging:393] reference:شیکاگو قلبگاه خطوط راه آهن است.\n",
      "[NeMo I 2025-07-20 09:51:43 nemo_logging:393] predicted:\n",
      "[NeMo I 2025-07-20 09:51:43 nemo_logging:393] \n",
      "    \n",
      "[NeMo I 2025-07-20 09:51:43 nemo_logging:393] reference:مجله مصور\n",
      "[NeMo I 2025-07-20 09:51:43 nemo_logging:393] predicted:من\n",
      "[NeMo I 2025-07-20 09:51:43 nemo_logging:393] \n",
      "    \n",
      "[NeMo I 2025-07-20 09:51:43 nemo_logging:393] reference:چای را از بسته درآورد و در قوطی ریخت.\n",
      "[NeMo I 2025-07-20 09:51:43 nemo_logging:393] predicted:\n",
      "[NeMo I 2025-07-20 09:51:43 nemo_logging:393] \n",
      "    \n",
      "[NeMo I 2025-07-20 09:51:43 nemo_logging:393] reference:بهره و کارمزد وام را پرداختن\n",
      "[NeMo I 2025-07-20 09:51:43 nemo_logging:393] predicted:\n",
      "[NeMo I 2025-07-20 09:51:43 nemo_logging:393] \n",
      "    \n",
      "[NeMo I 2025-07-20 09:51:43 nemo_logging:393] reference:مربوط ساختن\n",
      "[NeMo I 2025-07-20 09:51:43 nemo_logging:393] predicted:من باتیهای را وینم.\n"
     ]
    }
   ],
   "source": [
    "trainer.fit(asr_model)"
   ]
  },
  {
   "cell_type": "markdown",
   "id": "b13dfb82-a139-436f-9071-08a28611d59f",
   "metadata": {},
   "source": [
    "# test"
   ]
  }
 ],
 "metadata": {
  "kernelspec": {
   "display_name": "Python 3 (ipykernel)",
   "language": "python",
   "name": "python3"
  },
  "language_info": {
   "codemirror_mode": {
    "name": "ipython",
    "version": 3
   },
   "file_extension": ".py",
   "mimetype": "text/x-python",
   "name": "python",
   "nbconvert_exporter": "python",
   "pygments_lexer": "ipython3",
   "version": "3.12.9"
  }
 },
 "nbformat": 4,
 "nbformat_minor": 5
}
