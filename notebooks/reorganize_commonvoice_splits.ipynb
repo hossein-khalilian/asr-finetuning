{
 "cells": [
  {
   "cell_type": "code",
   "execution_count": 1,
   "id": "07052b33-c022-49c9-9e83-0bd309072a3e",
   "metadata": {
    "execution": {
     "iopub.execute_input": "2025-07-15T11:00:27.980577Z",
     "iopub.status.busy": "2025-07-15T11:00:27.980256Z",
     "iopub.status.idle": "2025-07-15T11:00:28.700569Z",
     "shell.execute_reply": "2025-07-15T11:00:28.699849Z",
     "shell.execute_reply.started": "2025-07-15T11:00:27.980556Z"
    }
   },
   "outputs": [],
   "source": [
    "from tqdm import tqdm\n",
    "from collections import Counter\n",
    "from datasets import load_dataset, concatenate_datasets, Dataset, DatasetDict"
   ]
  },
  {
   "cell_type": "code",
   "execution_count": 2,
   "id": "f1d3ce8c-6b96-4915-afc1-9b0669c7d9d3",
   "metadata": {
    "execution": {
     "iopub.execute_input": "2025-07-15T11:00:28.708839Z",
     "iopub.status.busy": "2025-07-15T11:00:28.708672Z",
     "iopub.status.idle": "2025-07-15T11:00:30.025893Z",
     "shell.execute_reply": "2025-07-15T11:00:30.025246Z",
     "shell.execute_reply.started": "2025-07-15T11:00:28.708821Z"
    }
   },
   "outputs": [],
   "source": [
    "# Step 1: Load the original splits\n",
    "dataset_dict = load_dataset(\"hsekhalilian/commonvoice\")\n",
    "\n",
    "# Step 2: Concatenate all splits\n",
    "full_dataset = concatenate_datasets([\n",
    "    dataset_dict[\"train\"],\n",
    "    dataset_dict[\"dev\"],\n",
    "    dataset_dict[\"test\"]\n",
    "])"
   ]
  },
  {
   "cell_type": "code",
   "execution_count": 3,
   "id": "b2e21d13-d994-4b7e-bc3b-ec1e910bca9b",
   "metadata": {
    "execution": {
     "iopub.execute_input": "2025-07-15T11:00:54.089831Z",
     "iopub.status.busy": "2025-07-15T11:00:54.089495Z",
     "iopub.status.idle": "2025-07-15T11:00:54.248255Z",
     "shell.execute_reply": "2025-07-15T11:00:54.247569Z",
     "shell.execute_reply.started": "2025-07-15T11:00:54.089809Z"
    }
   },
   "outputs": [],
   "source": [
    "transcripts = full_dataset[\"normalized_transcription\"]\n",
    "transcript_counts = Counter(transcripts)\n",
    "\n",
    "full_dataset = full_dataset.add_column(\n",
    "    \"transcript_occupancy\", [transcript_counts[t] for t in transcripts]\n",
    ")\n",
    "\n",
    "full_dataset = full_dataset.sort(\"normalized_transcription\")\n",
    "full_dataset = full_dataset.sort(\"transcript_occupancy\")"
   ]
  },
  {
   "cell_type": "code",
   "execution_count": 11,
   "id": "7a7711e2-0146-4396-8b63-011cbeca0580",
   "metadata": {
    "execution": {
     "iopub.execute_input": "2025-07-15T11:18:11.064129Z",
     "iopub.status.busy": "2025-07-15T11:18:11.063709Z",
     "iopub.status.idle": "2025-07-15T11:18:22.122930Z",
     "shell.execute_reply": "2025-07-15T11:18:22.121895Z",
     "shell.execute_reply.started": "2025-07-15T11:18:11.064097Z"
    }
   },
   "outputs": [
    {
     "data": {
      "application/vnd.jupyter.widget-view+json": {
       "model_id": "e0cb6e79131e44eab69f624d8bd4f4ad",
       "version_major": 2,
       "version_minor": 0
      },
      "text/plain": [
       "Saving the dataset (0/4 shards):   0%|          | 0/30061 [00:00<?, ? examples/s]"
      ]
     },
     "metadata": {},
     "output_type": "display_data"
    },
    {
     "data": {
      "application/vnd.jupyter.widget-view+json": {
       "model_id": "6e681c035bb1456da1dfb15175e1882a",
       "version_major": 2,
       "version_minor": 0
      },
      "text/plain": [
       "Saving the dataset (0/2 shards):   0%|          | 0/10540 [00:00<?, ? examples/s]"
      ]
     },
     "metadata": {},
     "output_type": "display_data"
    },
    {
     "data": {
      "application/vnd.jupyter.widget-view+json": {
       "model_id": "a6a03269164a4296afcab1f3a514b7f9",
       "version_major": 2,
       "version_minor": 0
      },
      "text/plain": [
       "Saving the dataset (0/2 shards):   0%|          | 0/10540 [00:00<?, ? examples/s]"
      ]
     },
     "metadata": {},
     "output_type": "display_data"
    }
   ],
   "source": [
    "# Split\n",
    "test_size = 10540\n",
    "dev_size = 10540\n",
    "\n",
    "test_data = full_dataset.select(range(test_size))\n",
    "dev_data = full_dataset.select(range(test_size, test_size + dev_size))\n",
    "train_data = full_dataset.select(range(test_size + dev_size, len(full_dataset)))\n",
    "\n",
    "# Reconstruct DatasetDict\n",
    "sorted_dataset = DatasetDict({\n",
    "    \"train\": train_data,\n",
    "    \"dev\": dev_data,\n",
    "    \"test\": test_data\n",
    "})\n",
    "\n",
    "sorted_dataset.save_to_disk(\"/home/jovyan/.cache/datasets/sorted_commonvoice\")"
   ]
  },
  {
   "cell_type": "code",
   "execution_count": 15,
   "id": "e7ebf4db-49fa-42a1-a1ec-69fa55068966",
   "metadata": {
    "execution": {
     "iopub.execute_input": "2025-07-15T11:19:09.664463Z",
     "iopub.status.busy": "2025-07-15T11:19:09.663974Z",
     "iopub.status.idle": "2025-07-15T11:20:20.107128Z",
     "shell.execute_reply": "2025-07-15T11:20:20.106481Z",
     "shell.execute_reply.started": "2025-07-15T11:19:09.664430Z"
    }
   },
   "outputs": [
    {
     "data": {
      "application/vnd.jupyter.widget-view+json": {
       "model_id": "e9d78e11eb8d4da29f2deca2b1982fff",
       "version_major": 2,
       "version_minor": 0
      },
      "text/plain": [
       "Uploading the dataset shards:   0%|          | 0/4 [00:00<?, ?it/s]"
      ]
     },
     "metadata": {},
     "output_type": "display_data"
    },
    {
     "data": {
      "application/vnd.jupyter.widget-view+json": {
       "model_id": "6b30ba7867e642ee8bab6af77b7ba3ae",
       "version_major": 2,
       "version_minor": 0
      },
      "text/plain": [
       "Map:   0%|          | 0/7516 [00:00<?, ? examples/s]"
      ]
     },
     "metadata": {},
     "output_type": "display_data"
    },
    {
     "data": {
      "application/vnd.jupyter.widget-view+json": {
       "model_id": "ad6d62af09244f1a9b2cbb03f6426eda",
       "version_major": 2,
       "version_minor": 0
      },
      "text/plain": [
       "Creating parquet from Arrow format:   0%|          | 0/76 [00:00<?, ?ba/s]"
      ]
     },
     "metadata": {},
     "output_type": "display_data"
    },
    {
     "data": {
      "application/vnd.jupyter.widget-view+json": {
       "model_id": "eeda720195fd443e9dbd1d99ffd42166",
       "version_major": 2,
       "version_minor": 0
      },
      "text/plain": [
       "Map:   0%|          | 0/7515 [00:00<?, ? examples/s]"
      ]
     },
     "metadata": {},
     "output_type": "display_data"
    },
    {
     "data": {
      "application/vnd.jupyter.widget-view+json": {
       "model_id": "0bcb377fb9d94f19abb19397eb03017c",
       "version_major": 2,
       "version_minor": 0
      },
      "text/plain": [
       "Creating parquet from Arrow format:   0%|          | 0/76 [00:00<?, ?ba/s]"
      ]
     },
     "metadata": {},
     "output_type": "display_data"
    },
    {
     "data": {
      "application/vnd.jupyter.widget-view+json": {
       "model_id": "bce5fcbefe6f47d38e58306d4efa48ce",
       "version_major": 2,
       "version_minor": 0
      },
      "text/plain": [
       "Map:   0%|          | 0/7515 [00:00<?, ? examples/s]"
      ]
     },
     "metadata": {},
     "output_type": "display_data"
    },
    {
     "data": {
      "application/vnd.jupyter.widget-view+json": {
       "model_id": "1cddcc755ab34049a3ea17be8f3dd35c",
       "version_major": 2,
       "version_minor": 0
      },
      "text/plain": [
       "Creating parquet from Arrow format:   0%|          | 0/76 [00:00<?, ?ba/s]"
      ]
     },
     "metadata": {},
     "output_type": "display_data"
    },
    {
     "data": {
      "application/vnd.jupyter.widget-view+json": {
       "model_id": "91c1683efc794da580294933cc7f9bdd",
       "version_major": 2,
       "version_minor": 0
      },
      "text/plain": [
       "Map:   0%|          | 0/7515 [00:00<?, ? examples/s]"
      ]
     },
     "metadata": {},
     "output_type": "display_data"
    },
    {
     "data": {
      "application/vnd.jupyter.widget-view+json": {
       "model_id": "a6d3c209589f4280843db44b5e49dea5",
       "version_major": 2,
       "version_minor": 0
      },
      "text/plain": [
       "Creating parquet from Arrow format:   0%|          | 0/76 [00:00<?, ?ba/s]"
      ]
     },
     "metadata": {},
     "output_type": "display_data"
    },
    {
     "data": {
      "application/vnd.jupyter.widget-view+json": {
       "model_id": "fed632d53ec944e4884807bf7396e66d",
       "version_major": 2,
       "version_minor": 0
      },
      "text/plain": [
       "Uploading the dataset shards:   0%|          | 0/2 [00:00<?, ?it/s]"
      ]
     },
     "metadata": {},
     "output_type": "display_data"
    },
    {
     "data": {
      "application/vnd.jupyter.widget-view+json": {
       "model_id": "4b579841facb4d148daf0be48ce7c8d2",
       "version_major": 2,
       "version_minor": 0
      },
      "text/plain": [
       "Map:   0%|          | 0/5270 [00:00<?, ? examples/s]"
      ]
     },
     "metadata": {},
     "output_type": "display_data"
    },
    {
     "data": {
      "application/vnd.jupyter.widget-view+json": {
       "model_id": "e7b0cb96f1274e32af6abf3fa7d932a2",
       "version_major": 2,
       "version_minor": 0
      },
      "text/plain": [
       "Creating parquet from Arrow format:   0%|          | 0/53 [00:00<?, ?ba/s]"
      ]
     },
     "metadata": {},
     "output_type": "display_data"
    },
    {
     "data": {
      "application/vnd.jupyter.widget-view+json": {
       "model_id": "f335cfd5e2ef4d97b1e16c87ee4301b8",
       "version_major": 2,
       "version_minor": 0
      },
      "text/plain": [
       "Map:   0%|          | 0/5270 [00:00<?, ? examples/s]"
      ]
     },
     "metadata": {},
     "output_type": "display_data"
    },
    {
     "data": {
      "application/vnd.jupyter.widget-view+json": {
       "model_id": "eff877f745824bf8a525be4b63ac55f8",
       "version_major": 2,
       "version_minor": 0
      },
      "text/plain": [
       "Creating parquet from Arrow format:   0%|          | 0/53 [00:00<?, ?ba/s]"
      ]
     },
     "metadata": {},
     "output_type": "display_data"
    },
    {
     "data": {
      "application/vnd.jupyter.widget-view+json": {
       "model_id": "e2ffe985403d4dad9f572863506f4182",
       "version_major": 2,
       "version_minor": 0
      },
      "text/plain": [
       "Uploading the dataset shards:   0%|          | 0/2 [00:00<?, ?it/s]"
      ]
     },
     "metadata": {},
     "output_type": "display_data"
    },
    {
     "data": {
      "application/vnd.jupyter.widget-view+json": {
       "model_id": "2e63b953ede04150b624cde3d96631e9",
       "version_major": 2,
       "version_minor": 0
      },
      "text/plain": [
       "Map:   0%|          | 0/5270 [00:00<?, ? examples/s]"
      ]
     },
     "metadata": {},
     "output_type": "display_data"
    },
    {
     "data": {
      "application/vnd.jupyter.widget-view+json": {
       "model_id": "78aaf32f8d4349c4af38904eb78871a6",
       "version_major": 2,
       "version_minor": 0
      },
      "text/plain": [
       "Creating parquet from Arrow format:   0%|          | 0/53 [00:00<?, ?ba/s]"
      ]
     },
     "metadata": {},
     "output_type": "display_data"
    },
    {
     "data": {
      "application/vnd.jupyter.widget-view+json": {
       "model_id": "7c1dda3eafc5495c9e0bd8e2cd818dc3",
       "version_major": 2,
       "version_minor": 0
      },
      "text/plain": [
       "Map:   0%|          | 0/5270 [00:00<?, ? examples/s]"
      ]
     },
     "metadata": {},
     "output_type": "display_data"
    },
    {
     "data": {
      "application/vnd.jupyter.widget-view+json": {
       "model_id": "a9ce0da5ae194d24bab9029b804b09b7",
       "version_major": 2,
       "version_minor": 0
      },
      "text/plain": [
       "Creating parquet from Arrow format:   0%|          | 0/53 [00:00<?, ?ba/s]"
      ]
     },
     "metadata": {},
     "output_type": "display_data"
    },
    {
     "data": {
      "text/plain": [
       "CommitInfo(commit_url='https://huggingface.co/datasets/hsekhalilian/sorted_commonvoice/commit/e2ae6ba110a7d9d35202ae9246ee0b2ab9ca4727', commit_message='Upload dataset', commit_description='', oid='e2ae6ba110a7d9d35202ae9246ee0b2ab9ca4727', pr_url=None, repo_url=RepoUrl('https://huggingface.co/datasets/hsekhalilian/sorted_commonvoice', endpoint='https://huggingface.co', repo_type='dataset', repo_id='hsekhalilian/sorted_commonvoice'), pr_revision=None, pr_num=None)"
      ]
     },
     "execution_count": 15,
     "metadata": {},
     "output_type": "execute_result"
    }
   ],
   "source": [
    "# sorted_dataset.push_to_hub(\"hsekhalilian/sorted_commonvoice\")"
   ]
  }
 ],
 "metadata": {
  "kernelspec": {
   "display_name": "Python 3 (ipykernel)",
   "language": "python",
   "name": "python3"
  },
  "language_info": {
   "codemirror_mode": {
    "name": "ipython",
    "version": 3
   },
   "file_extension": ".py",
   "mimetype": "text/x-python",
   "name": "python",
   "nbconvert_exporter": "python",
   "pygments_lexer": "ipython3",
   "version": "3.12.9"
  }
 },
 "nbformat": 4,
 "nbformat_minor": 5
}
