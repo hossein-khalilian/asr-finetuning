{
 "cells": [
  {
   "cell_type": "code",
   "execution_count": 26,
   "id": "a5ca44df-5752-4efb-86df-8653cd937cd9",
   "metadata": {
    "execution": {
     "iopub.execute_input": "2025-07-21T13:51:31.434992Z",
     "iopub.status.busy": "2025-07-21T13:51:31.434520Z",
     "iopub.status.idle": "2025-07-21T13:51:31.440440Z",
     "shell.execute_reply": "2025-07-21T13:51:31.439310Z",
     "shell.execute_reply.started": "2025-07-21T13:51:31.434955Z"
    }
   },
   "outputs": [],
   "source": [
    "import torch\n",
    "from nemo.collections.asr.models import EncDecHybridRNNTCTCBPEModel"
   ]
  },
  {
   "cell_type": "code",
   "execution_count": 28,
   "id": "b08d3ced-a85c-4ffa-8bee-d5d5f6922961",
   "metadata": {
    "execution": {
     "iopub.execute_input": "2025-07-21T13:53:22.622007Z",
     "iopub.status.busy": "2025-07-21T13:53:22.621508Z",
     "iopub.status.idle": "2025-07-21T13:53:27.535264Z",
     "shell.execute_reply": "2025-07-21T13:53:27.534234Z",
     "shell.execute_reply.started": "2025-07-21T13:53:22.621960Z"
    }
   },
   "outputs": [
    {
     "name": "stdout",
     "output_type": "stream",
     "text": [
      "[NeMo I 2025-07-21 13:53:24 nemo_logging:393] Tokenizer SentencePieceTokenizer initialized with 1024 tokens\n"
     ]
    },
    {
     "name": "stderr",
     "output_type": "stream",
     "text": [
      "[NeMo W 2025-07-21 13:53:25 nemo_logging:405] If you intend to do training or fine-tuning, please call the ModelPT.setup_training_data() method and provide a valid configuration file to setup the train data loader.\n",
      "    Train config : \n",
      "    manifest_filepath: /home/user/.cache/datasets/hsekhalilian___fleurs/manifests/train_manifest.json\n",
      "    sample_rate: 16000\n",
      "    batch_size: 16\n",
      "    shuffle: true\n",
      "    num_workers: 8\n",
      "    pin_memory: true\n",
      "    max_duration: 20\n",
      "    min_duration: 0.1\n",
      "    is_tarred: false\n",
      "    tarred_audio_filepaths: null\n",
      "    shuffle_n: 2048\n",
      "    bucketing_strategy: fully_randomized\n",
      "    bucketing_batch_size: null\n",
      "    \n",
      "[NeMo W 2025-07-21 13:53:25 nemo_logging:405] If you intend to do validation, please call the ModelPT.setup_validation_data() or ModelPT.setup_multiple_validation_data() method and provide a valid configuration file to setup the validation data loader(s). \n",
      "    Validation config : \n",
      "    manifest_filepath: /home/user/.cache/datasets/hsekhalilian___fleurs/manifests/validation_manifest.json\n",
      "    sample_rate: 16000\n",
      "    batch_size: 16\n",
      "    shuffle: false\n",
      "    use_start_end_token: false\n",
      "    num_workers: 8\n",
      "    pin_memory: true\n",
      "    \n",
      "[NeMo W 2025-07-21 13:53:25 nemo_logging:405] Please call the ModelPT.setup_test_data() or ModelPT.setup_multiple_test_data() method and provide a valid configuration file to setup the test data loader(s).\n",
      "    Test config : \n",
      "    manifest_filepath: /data_artifacts/data/nemo/test_decoded_exprunner.json\n",
      "    sample_rate: 16000\n",
      "    batch_size: 512\n",
      "    shuffle: false\n",
      "    use_start_end_token: false\n",
      "    num_workers: 8\n",
      "    pin_memory: true\n",
      "    \n"
     ]
    },
    {
     "name": "stdout",
     "output_type": "stream",
     "text": [
      "[NeMo I 2025-07-21 13:53:25 nemo_logging:393] PADDING: 0\n",
      "[NeMo I 2025-07-21 13:53:26 nemo_logging:393] Using RNNT Loss : warprnnt_numba\n",
      "    Loss warprnnt_numba_kwargs: {'fastemit_lambda': 0.0, 'clamp': -1.0}\n",
      "[NeMo I 2025-07-21 13:53:26 nemo_logging:393] Using RNNT Loss : warprnnt_numba\n",
      "    Loss warprnnt_numba_kwargs: {'fastemit_lambda': 0.0, 'clamp': -1.0}\n",
      "[NeMo I 2025-07-21 13:53:26 nemo_logging:393] Using RNNT Loss : warprnnt_numba\n",
      "    Loss warprnnt_numba_kwargs: {'fastemit_lambda': 0.0, 'clamp': -1.0}\n",
      "[NeMo I 2025-07-21 13:53:27 nemo_logging:393] Model EncDecHybridRNNTCTCBPEModel was successfully restored from /home/jovyan/.cache/nemo_experiments/Speech_To_Text_Finetuning/2025-07-21_08-15-49/checkpoints/Speech_To_Text_Finetuning.nemo.\n"
     ]
    },
    {
     "data": {
      "text/plain": [
       "<All keys matched successfully>"
      ]
     },
     "execution_count": 28,
     "metadata": {},
     "output_type": "execute_result"
    }
   ],
   "source": [
    "nemo_model = \"/home/jovyan/.cache/nemo_experiments/Speech_To_Text_Finetuning/2025-07-21_08-15-49/checkpoints/Speech_To_Text_Finetuning.nemo\"\n",
    "asr_model = EncDecHybridRNNTCTCBPEModel.restore_from(nemo_model)\n",
    "\n",
    "ckpt_path = \"/home/jovyan/.cache/nemo_experiments/Speech_To_Text_Finetuning/2025-07-21_08-15-49/checkpoints/Speech_To_Text_Finetuning--val_wer=0.1642-epoch=24.ckpt\"\n",
    "ckpt = torch.load(ckpt_path, map_location=\"cpu\", weights_only=False)\n",
    "\n",
    "asr_model.load_state_dict(ckpt['state_dict'], strict=False)"
   ]
  },
  {
   "cell_type": "code",
   "execution_count": 34,
   "id": "7b502a9f-2113-448f-be9b-701692c868e2",
   "metadata": {
    "execution": {
     "iopub.execute_input": "2025-07-21T14:08:06.115387Z",
     "iopub.status.busy": "2025-07-21T14:08:06.114941Z",
     "iopub.status.idle": "2025-07-21T14:08:07.998232Z",
     "shell.execute_reply": "2025-07-21T14:08:07.997531Z",
     "shell.execute_reply.started": "2025-07-21T14:08:06.115350Z"
    }
   },
   "outputs": [],
   "source": [
    "export_path = \"/home/jovyan/.cache/models/finetuned_s2t_model.nemo\"\n",
    "asr_model.save_to(export_path)"
   ]
  },
  {
   "cell_type": "code",
   "execution_count": 31,
   "id": "f26c3a48-1b3b-4755-829e-b4a81277a9a2",
   "metadata": {
    "execution": {
     "iopub.execute_input": "2025-07-21T14:06:00.421084Z",
     "iopub.status.busy": "2025-07-21T14:06:00.420634Z",
     "iopub.status.idle": "2025-07-21T14:06:00.456091Z",
     "shell.execute_reply": "2025-07-21T14:06:00.454716Z",
     "shell.execute_reply.started": "2025-07-21T14:06:00.421048Z"
    }
   },
   "outputs": [
    {
     "data": {
      "text/plain": [
       "RepoUrl('https://huggingface.co/hsekhalilian/speech-to-text-rnnt-finetuned', endpoint='https://huggingface.co', repo_type='model', repo_id='hsekhalilian/speech-to-text-rnnt-finetuned')"
      ]
     },
     "execution_count": 31,
     "metadata": {},
     "output_type": "execute_result"
    }
   ],
   "source": [
    "from huggingface_hub import HfApi, HfFolder, upload_file, create_repo\n",
    "\n",
    "repo_name = \"speech-to-text-rnnt-finetuned\"  # Customize this\n",
    "username = \"hsekhalilian\"  # Replace with your HF username\n",
    "full_repo_name = f\"{username}/{repo_name}\"\n",
    "create_repo(full_repo_name, exist_ok=True, private=True)"
   ]
  },
  {
   "cell_type": "code",
   "execution_count": 35,
   "id": "323f2a88-c0db-4c93-9556-3497fb532990",
   "metadata": {
    "execution": {
     "iopub.execute_input": "2025-07-21T14:08:39.377731Z",
     "iopub.status.busy": "2025-07-21T14:08:39.377287Z",
     "iopub.status.idle": "2025-07-21T14:08:52.591475Z",
     "shell.execute_reply": "2025-07-21T14:08:52.590173Z",
     "shell.execute_reply.started": "2025-07-21T14:08:39.377693Z"
    }
   },
   "outputs": [
    {
     "data": {
      "application/vnd.jupyter.widget-view+json": {
       "model_id": "9b04a854081f461d85ba44f8fae5dda9",
       "version_major": 2,
       "version_minor": 0
      },
      "text/plain": [
       "finetuned_s2t_model.nemo:   0%|          | 0.00/459M [00:00<?, ?B/s]"
      ]
     },
     "metadata": {},
     "output_type": "display_data"
    },
    {
     "data": {
      "text/plain": [
       "CommitInfo(commit_url='https://huggingface.co/hsekhalilian/speech-to-text-rnnt-finetuned/commit/77ba53db10856cf3eb4a7bc303596fc6803193be', commit_message='Upload Speech_To_Text_Finetuning.nemo with huggingface_hub', commit_description='', oid='77ba53db10856cf3eb4a7bc303596fc6803193be', pr_url=None, repo_url=RepoUrl('https://huggingface.co/hsekhalilian/speech-to-text-rnnt-finetuned', endpoint='https://huggingface.co', repo_type='model', repo_id='hsekhalilian/speech-to-text-rnnt-finetuned'), pr_revision=None, pr_num=None)"
      ]
     },
     "execution_count": 35,
     "metadata": {},
     "output_type": "execute_result"
    }
   ],
   "source": [
    "import os\n",
    "\n",
    "os.path.basename(nemo_model)\n",
    "\n",
    "upload_file(\n",
    "    path_or_fileobj=\"/home/jovyan/.cache/models/finetuned_s2t_model.nemo\",\n",
    "    path_in_repo=os.path.basename(nemo_model),\n",
    "    repo_id=full_repo_name,\n",
    "    repo_type=\"model\",\n",
    ")"
   ]
  },
  {
   "cell_type": "code",
   "execution_count": null,
   "id": "f20e995c-3ab0-4769-9077-c76d474e3375",
   "metadata": {},
   "outputs": [],
   "source": []
  }
 ],
 "metadata": {
  "kernelspec": {
   "display_name": "Python 3 (ipykernel)",
   "language": "python",
   "name": "python3"
  },
  "language_info": {
   "codemirror_mode": {
    "name": "ipython",
    "version": 3
   },
   "file_extension": ".py",
   "mimetype": "text/x-python",
   "name": "python",
   "nbconvert_exporter": "python",
   "pygments_lexer": "ipython3",
   "version": "3.12.9"
  }
 },
 "nbformat": 4,
 "nbformat_minor": 5
}
