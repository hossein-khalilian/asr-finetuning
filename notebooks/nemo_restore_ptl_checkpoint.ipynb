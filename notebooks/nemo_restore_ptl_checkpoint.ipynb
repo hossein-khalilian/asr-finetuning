{
 "cells": [
  {
   "cell_type": "code",
   "execution_count": 1,
   "id": "a5ca44df-5752-4efb-86df-8653cd937cd9",
   "metadata": {
    "execution": {
     "iopub.execute_input": "2025-07-22T06:32:50.412736Z",
     "iopub.status.busy": "2025-07-22T06:32:50.412227Z",
     "iopub.status.idle": "2025-07-22T06:32:57.382607Z",
     "shell.execute_reply": "2025-07-22T06:32:57.381342Z",
     "shell.execute_reply.started": "2025-07-22T06:32:50.412697Z"
    }
   },
   "outputs": [],
   "source": [
    "import torch\n",
    "from nemo.collections.asr.models import EncDecHybridRNNTCTCBPEModel"
   ]
  },
  {
   "cell_type": "code",
   "execution_count": 28,
   "id": "b08d3ced-a85c-4ffa-8bee-d5d5f6922961",
   "metadata": {
    "execution": {
     "iopub.execute_input": "2025-07-21T13:53:22.622007Z",
     "iopub.status.busy": "2025-07-21T13:53:22.621508Z",
     "iopub.status.idle": "2025-07-21T13:53:27.535264Z",
     "shell.execute_reply": "2025-07-21T13:53:27.534234Z",
     "shell.execute_reply.started": "2025-07-21T13:53:22.621960Z"
    }
   },
   "outputs": [
    {
     "name": "stdout",
     "output_type": "stream",
     "text": [
      "[NeMo I 2025-07-21 13:53:24 nemo_logging:393] Tokenizer SentencePieceTokenizer initialized with 1024 tokens\n"
     ]
    },
    {
     "name": "stderr",
     "output_type": "stream",
     "text": [
      "[NeMo W 2025-07-21 13:53:25 nemo_logging:405] If you intend to do training or fine-tuning, please call the ModelPT.setup_training_data() method and provide a valid configuration file to setup the train data loader.\n",
      "    Train config : \n",
      "    manifest_filepath: /home/user/.cache/datasets/hsekhalilian___fleurs/manifests/train_manifest.json\n",
      "    sample_rate: 16000\n",
      "    batch_size: 16\n",
      "    shuffle: true\n",
      "    num_workers: 8\n",
      "    pin_memory: true\n",
      "    max_duration: 20\n",
      "    min_duration: 0.1\n",
      "    is_tarred: false\n",
      "    tarred_audio_filepaths: null\n",
      "    shuffle_n: 2048\n",
      "    bucketing_strategy: fully_randomized\n",
      "    bucketing_batch_size: null\n",
      "    \n",
      "[NeMo W 2025-07-21 13:53:25 nemo_logging:405] If you intend to do validation, please call the ModelPT.setup_validation_data() or ModelPT.setup_multiple_validation_data() method and provide a valid configuration file to setup the validation data loader(s). \n",
      "    Validation config : \n",
      "    manifest_filepath: /home/user/.cache/datasets/hsekhalilian___fleurs/manifests/validation_manifest.json\n",
      "    sample_rate: 16000\n",
      "    batch_size: 16\n",
      "    shuffle: false\n",
      "    use_start_end_token: false\n",
      "    num_workers: 8\n",
      "    pin_memory: true\n",
      "    \n",
      "[NeMo W 2025-07-21 13:53:25 nemo_logging:405] Please call the ModelPT.setup_test_data() or ModelPT.setup_multiple_test_data() method and provide a valid configuration file to setup the test data loader(s).\n",
      "    Test config : \n",
      "    manifest_filepath: /data_artifacts/data/nemo/test_decoded_exprunner.json\n",
      "    sample_rate: 16000\n",
      "    batch_size: 512\n",
      "    shuffle: false\n",
      "    use_start_end_token: false\n",
      "    num_workers: 8\n",
      "    pin_memory: true\n",
      "    \n"
     ]
    },
    {
     "name": "stdout",
     "output_type": "stream",
     "text": [
      "[NeMo I 2025-07-21 13:53:25 nemo_logging:393] PADDING: 0\n",
      "[NeMo I 2025-07-21 13:53:26 nemo_logging:393] Using RNNT Loss : warprnnt_numba\n",
      "    Loss warprnnt_numba_kwargs: {'fastemit_lambda': 0.0, 'clamp': -1.0}\n",
      "[NeMo I 2025-07-21 13:53:26 nemo_logging:393] Using RNNT Loss : warprnnt_numba\n",
      "    Loss warprnnt_numba_kwargs: {'fastemit_lambda': 0.0, 'clamp': -1.0}\n",
      "[NeMo I 2025-07-21 13:53:26 nemo_logging:393] Using RNNT Loss : warprnnt_numba\n",
      "    Loss warprnnt_numba_kwargs: {'fastemit_lambda': 0.0, 'clamp': -1.0}\n",
      "[NeMo I 2025-07-21 13:53:27 nemo_logging:393] Model EncDecHybridRNNTCTCBPEModel was successfully restored from /home/jovyan/.cache/nemo_experiments/Speech_To_Text_Finetuning/2025-07-21_08-15-49/checkpoints/Speech_To_Text_Finetuning.nemo.\n"
     ]
    },
    {
     "data": {
      "text/plain": [
       "<All keys matched successfully>"
      ]
     },
     "execution_count": 28,
     "metadata": {},
     "output_type": "execute_result"
    }
   ],
   "source": [
    "nemo_model = \"/home/jovyan/.cache/nemo_experiments/Speech_To_Text_Finetuning/2025-07-21_08-15-49/checkpoints/Speech_To_Text_Finetuning.nemo\"\n",
    "asr_model = EncDecHybridRNNTCTCBPEModel.restore_from(nemo_model)\n",
    "\n",
    "ckpt_path = \"/home/jovyan/.cache/nemo_experiments/Speech_To_Text_Finetuning/2025-07-21_08-15-49/checkpoints/Speech_To_Text_Finetuning--val_wer=0.1642-epoch=24.ckpt\"\n",
    "ckpt = torch.load(ckpt_path, map_location=\"cpu\", weights_only=False)\n",
    "\n",
    "asr_model.load_state_dict(ckpt['state_dict'], strict=False)"
   ]
  },
  {
   "cell_type": "code",
   "execution_count": 2,
   "id": "b685ec7d-6a66-4cdb-a444-982d1ce9f8f5",
   "metadata": {
    "execution": {
     "iopub.execute_input": "2025-07-22T06:33:39.525694Z",
     "iopub.status.busy": "2025-07-22T06:33:39.525251Z",
     "iopub.status.idle": "2025-07-22T06:33:44.561165Z",
     "shell.execute_reply": "2025-07-22T06:33:44.560223Z",
     "shell.execute_reply.started": "2025-07-22T06:33:39.525657Z"
    }
   },
   "outputs": [
    {
     "name": "stdout",
     "output_type": "stream",
     "text": [
      "[NeMo I 2025-07-22 06:33:41 nemo_logging:393] Tokenizer SentencePieceTokenizer initialized with 1024 tokens\n"
     ]
    },
    {
     "name": "stderr",
     "output_type": "stream",
     "text": [
      "[NeMo W 2025-07-22 06:33:42 nemo_logging:405] If you intend to do training or fine-tuning, please call the ModelPT.setup_training_data() method and provide a valid configuration file to setup the train data loader.\n",
      "    Train config : \n",
      "    manifest_filepath: /home/user/.cache/datasets/hsekhalilian___fleurs/manifests/train_manifest.json\n",
      "    sample_rate: 16000\n",
      "    batch_size: 16\n",
      "    shuffle: true\n",
      "    num_workers: 8\n",
      "    pin_memory: true\n",
      "    max_duration: 20\n",
      "    min_duration: 0.1\n",
      "    is_tarred: false\n",
      "    tarred_audio_filepaths: null\n",
      "    shuffle_n: 2048\n",
      "    bucketing_strategy: fully_randomized\n",
      "    bucketing_batch_size: null\n",
      "    \n",
      "[NeMo W 2025-07-22 06:33:42 nemo_logging:405] If you intend to do validation, please call the ModelPT.setup_validation_data() or ModelPT.setup_multiple_validation_data() method and provide a valid configuration file to setup the validation data loader(s). \n",
      "    Validation config : \n",
      "    manifest_filepath: /home/user/.cache/datasets/hsekhalilian___fleurs/manifests/validation_manifest.json\n",
      "    sample_rate: 16000\n",
      "    batch_size: 16\n",
      "    shuffle: false\n",
      "    use_start_end_token: false\n",
      "    num_workers: 8\n",
      "    pin_memory: true\n",
      "    \n",
      "[NeMo W 2025-07-22 06:33:42 nemo_logging:405] Please call the ModelPT.setup_test_data() or ModelPT.setup_multiple_test_data() method and provide a valid configuration file to setup the test data loader(s).\n",
      "    Test config : \n",
      "    manifest_filepath: /data_artifacts/data/nemo/test_decoded_exprunner.json\n",
      "    sample_rate: 16000\n",
      "    batch_size: 512\n",
      "    shuffle: false\n",
      "    use_start_end_token: false\n",
      "    num_workers: 8\n",
      "    pin_memory: true\n",
      "    \n"
     ]
    },
    {
     "name": "stdout",
     "output_type": "stream",
     "text": [
      "[NeMo I 2025-07-22 06:33:42 nemo_logging:393] PADDING: 0\n",
      "[NeMo I 2025-07-22 06:33:43 nemo_logging:393] Using RNNT Loss : warprnnt_numba\n",
      "    Loss warprnnt_numba_kwargs: {'fastemit_lambda': 0.0, 'clamp': -1.0}\n",
      "[NeMo I 2025-07-22 06:33:43 nemo_logging:393] Using RNNT Loss : warprnnt_numba\n",
      "    Loss warprnnt_numba_kwargs: {'fastemit_lambda': 0.0, 'clamp': -1.0}\n"
     ]
    },
    {
     "name": "stderr",
     "output_type": "stream",
     "text": [
      "[NeMo W 2025-07-22 06:33:43 nemo_logging:405] No conditional node support for Cuda.\n",
      "    Cuda graphs with while loops are disabled, decoding speed will be slower\n",
      "    Reason: cannot import name '__version__' from 'cuda' (unknown location)\n"
     ]
    },
    {
     "name": "stdout",
     "output_type": "stream",
     "text": [
      "[NeMo I 2025-07-22 06:33:43 nemo_logging:393] Using RNNT Loss : warprnnt_numba\n",
      "    Loss warprnnt_numba_kwargs: {'fastemit_lambda': 0.0, 'clamp': -1.0}\n"
     ]
    },
    {
     "name": "stderr",
     "output_type": "stream",
     "text": [
      "[NeMo W 2025-07-22 06:33:43 nemo_logging:405] No conditional node support for Cuda.\n",
      "    Cuda graphs with while loops are disabled, decoding speed will be slower\n",
      "    Reason: cannot import name '__version__' from 'cuda' (unknown location)\n"
     ]
    },
    {
     "name": "stdout",
     "output_type": "stream",
     "text": [
      "[NeMo I 2025-07-22 06:33:44 nemo_logging:393] Model EncDecHybridRNNTCTCBPEModel was successfully restored from /home/jovyan/.cache/torch/NeMo/NeMo_2.3.2/hf_hub_cache/hsekhalilian/speech-to-text-rnnt-finetuned/ff74581080d6ccf826e46e9483935a5b/Speech_To_Text_Finetuning.nemo.\n"
     ]
    }
   ],
   "source": [
    "model_path = \"/home/jovyan/.cache/torch/NeMo/NeMo_2.3.2/hf_hub_cache/hsekhalilian/speech-to-text-rnnt-finetuned/ff74581080d6ccf826e46e9483935a5b/Speech_To_Text_Finetuning.nemo\"\n",
    "asr_model = EncDecHybridRNNTCTCBPEModel.restore_from(model_path)"
   ]
  },
  {
   "cell_type": "code",
   "execution_count": 3,
   "id": "c47ed3b2-3a14-4d78-a491-c205f5a9f3ec",
   "metadata": {
    "execution": {
     "iopub.execute_input": "2025-07-22T06:34:24.857098Z",
     "iopub.status.busy": "2025-07-22T06:34:24.856675Z",
     "iopub.status.idle": "2025-07-22T06:34:45.277707Z",
     "shell.execute_reply": "2025-07-22T06:34:45.276718Z",
     "shell.execute_reply.started": "2025-07-22T06:34:24.857063Z"
    }
   },
   "outputs": [
    {
     "data": {
      "application/vnd.jupyter.widget-view+json": {
       "model_id": "e1eb14e313ba4e78b7a23ae51354853e",
       "version_major": 2,
       "version_minor": 0
      },
      "text/plain": [
       "nemo-finetuned-model.nemo:   0%|          | 0.00/459M [00:00<?, ?B/s]"
      ]
     },
     "metadata": {},
     "output_type": "display_data"
    },
    {
     "data": {
      "text/plain": [
       "'https://huggingface.co/hsekhalilian/nemo-finetuned-model/tree/main'"
      ]
     },
     "execution_count": 3,
     "metadata": {},
     "output_type": "execute_result"
    }
   ],
   "source": [
    "asr_model.push_to_hf_hub(\"hsekhalilian/nemo-finetuned-model\", private=True)"
   ]
  },
  {
   "cell_type": "code",
   "execution_count": null,
   "id": "b8871c24-1f95-4c8e-a5cb-bec57cbbe051",
   "metadata": {},
   "outputs": [],
   "source": []
  }
 ],
 "metadata": {
  "kernelspec": {
   "display_name": "Python 3 (ipykernel)",
   "language": "python",
   "name": "python3"
  },
  "language_info": {
   "codemirror_mode": {
    "name": "ipython",
    "version": 3
   },
   "file_extension": ".py",
   "mimetype": "text/x-python",
   "name": "python",
   "nbconvert_exporter": "python",
   "pygments_lexer": "ipython3",
   "version": "3.12.9"
  }
 },
 "nbformat": 4,
 "nbformat_minor": 5
}
