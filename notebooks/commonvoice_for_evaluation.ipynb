{
 "cells": [
  {
   "cell_type": "code",
   "execution_count": 1,
   "id": "07052b33-c022-49c9-9e83-0bd309072a3e",
   "metadata": {
    "execution": {
     "iopub.execute_input": "2025-07-15T11:00:27.980577Z",
     "iopub.status.busy": "2025-07-15T11:00:27.980256Z",
     "iopub.status.idle": "2025-07-15T11:00:28.700569Z",
     "shell.execute_reply": "2025-07-15T11:00:28.699849Z",
     "shell.execute_reply.started": "2025-07-15T11:00:27.980556Z"
    }
   },
   "outputs": [],
   "source": [
    "from tqdm import tqdm\n",
    "from collections import Counter\n",
    "from datasets import load_dataset, concatenate_datasets, Dataset, DatasetDict"
   ]
  },
  {
   "cell_type": "code",
   "execution_count": 2,
   "id": "f1d3ce8c-6b96-4915-afc1-9b0669c7d9d3",
   "metadata": {
    "execution": {
     "iopub.execute_input": "2025-07-15T11:00:28.708839Z",
     "iopub.status.busy": "2025-07-15T11:00:28.708672Z",
     "iopub.status.idle": "2025-07-15T11:00:30.025893Z",
     "shell.execute_reply": "2025-07-15T11:00:30.025246Z",
     "shell.execute_reply.started": "2025-07-15T11:00:28.708821Z"
    }
   },
   "outputs": [],
   "source": [
    "# Step 1: Load the original splits\n",
    "dataset_dict = load_dataset(\"hsekhalilian/commonvoice\")\n",
    "\n",
    "# Step 2: Concatenate all splits\n",
    "full_dataset = concatenate_datasets([\n",
    "    dataset_dict[\"train\"],\n",
    "    dataset_dict[\"dev\"],\n",
    "    dataset_dict[\"test\"]\n",
    "])"
   ]
  },
  {
   "cell_type": "code",
   "execution_count": 3,
   "id": "b2e21d13-d994-4b7e-bc3b-ec1e910bca9b",
   "metadata": {
    "execution": {
     "iopub.execute_input": "2025-07-15T11:00:54.089831Z",
     "iopub.status.busy": "2025-07-15T11:00:54.089495Z",
     "iopub.status.idle": "2025-07-15T11:00:54.248255Z",
     "shell.execute_reply": "2025-07-15T11:00:54.247569Z",
     "shell.execute_reply.started": "2025-07-15T11:00:54.089809Z"
    }
   },
   "outputs": [],
   "source": [
    "transcripts = full_dataset[\"normalized_transcription\"]\n",
    "transcript_counts = Counter(transcripts)\n",
    "\n",
    "full_dataset = full_dataset.add_column(\n",
    "    \"transcript_occupancy\", [transcript_counts[t] for t in transcripts]\n",
    ")\n",
    "\n",
    "full_dataset = full_dataset.sort(\"normalized_transcription\")\n",
    "full_dataset = full_dataset.sort(\"transcript_occupancy\")"
   ]
  },
  {
   "cell_type": "code",
   "execution_count": 5,
   "id": "7a7711e2-0146-4396-8b63-011cbeca0580",
   "metadata": {
    "execution": {
     "iopub.execute_input": "2025-07-15T11:01:27.940326Z",
     "iopub.status.busy": "2025-07-15T11:01:27.940030Z",
     "iopub.status.idle": "2025-07-15T11:01:39.478982Z",
     "shell.execute_reply": "2025-07-15T11:01:39.478207Z",
     "shell.execute_reply.started": "2025-07-15T11:01:27.940305Z"
    }
   },
   "outputs": [
    {
     "data": {
      "application/vnd.jupyter.widget-view+json": {
       "model_id": "2c47096e880243a390630b8f04dbd21a",
       "version_major": 2,
       "version_minor": 0
      },
      "text/plain": [
       "Saving the dataset (0/4 shards):   0%|          | 0/30061 [00:00<?, ? examples/s]"
      ]
     },
     "metadata": {},
     "output_type": "display_data"
    },
    {
     "data": {
      "application/vnd.jupyter.widget-view+json": {
       "model_id": "15dbe3a1e37d486f89a41217d70a8998",
       "version_major": 2,
       "version_minor": 0
      },
      "text/plain": [
       "Saving the dataset (0/2 shards):   0%|          | 0/10540 [00:00<?, ? examples/s]"
      ]
     },
     "metadata": {},
     "output_type": "display_data"
    },
    {
     "data": {
      "application/vnd.jupyter.widget-view+json": {
       "model_id": "3fcadb1bb61a4b3bbdd6a04a734e5125",
       "version_major": 2,
       "version_minor": 0
      },
      "text/plain": [
       "Saving the dataset (0/2 shards):   0%|          | 0/10540 [00:00<?, ? examples/s]"
      ]
     },
     "metadata": {},
     "output_type": "display_data"
    }
   ],
   "source": [
    "# Split\n",
    "test_size = 10540\n",
    "dev_size = 10540\n",
    "\n",
    "test_data = full_dataset.select(range(test_size))\n",
    "dev_data = full_dataset.select(range(test_size, test_size + dev_size))\n",
    "train_data = full_dataset.select(range(test_size + dev_size, len(full_dataset)))\n",
    "\n",
    "# Reconstruct DatasetDict\n",
    "custom_dataset = DatasetDict({\n",
    "    \"train\": train_data,\n",
    "    \"dev\": dev_data,\n",
    "    \"test\": test_data\n",
    "})\n",
    "\n",
    "custom_dataset.save_to_disk(\"/home/jovyan/.cache/datasets/custom_commonvoice_splits\")"
   ]
  },
  {
   "cell_type": "code",
   "execution_count": null,
   "id": "a3381fcb-d9a6-4b26-90f7-4097c14f8878",
   "metadata": {},
   "outputs": [],
   "source": []
  }
 ],
 "metadata": {
  "kernelspec": {
   "display_name": "Python 3 (ipykernel)",
   "language": "python",
   "name": "python3"
  },
  "language_info": {
   "codemirror_mode": {
    "name": "ipython",
    "version": 3
   },
   "file_extension": ".py",
   "mimetype": "text/x-python",
   "name": "python",
   "nbconvert_exporter": "python",
   "pygments_lexer": "ipython3",
   "version": "3.12.9"
  }
 },
 "nbformat": 4,
 "nbformat_minor": 5
}
